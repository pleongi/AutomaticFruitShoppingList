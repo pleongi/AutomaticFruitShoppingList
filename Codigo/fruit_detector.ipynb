{
 "cells": [
  {
   "cell_type": "markdown",
   "metadata": {},
   "source": [
    "<div style=\"width: 100%; clear: both;\">\n",
    "<div style=\"float: left; width: 50%;\">\n",
    "<img src=\"http://www.uoc.edu/portal/_resources/common/imatges/marca_UOC/UOC_Masterbrand.jpg\", align=\"left\">\n",
    "</div>\n",
    "</div>\n",
    "<div style=\"float: right; width: 50%;\">\n",
    "<p style=\"margin: 0; padding-top: 22px; text-align:right;\">M2.879 - TFM - Área 2 aula 1 - Machine Learning</p>\n",
    "<p style=\"margin: 0; text-align:right;\">Máster universitario de Ciencia de datos (<i>Data Science</i>)</p>\n",
    "<p style=\"margin: 0; text-align:right; padding-button: 100px;\">Estudios de Informática, Multimedia y Telecomunicación</p>\n",
    "</div>\n",
    "</div>\n",
    "<div style=\"width: 100%; clear: both;\">\n",
    "<div style=\"width:100%;\">&nbsp;</div>\n",
    "\n",
    "# Detector de fruta\n",
    "En este módulo se pretende generar los Tensorflow Records del conjunto de imágenes de entrenamiento y de evaluación para entrenar los dos modelos mask_rcnn_resnet101_atrous_coco y mask_rcnn_inception_resnet_v2_atrous_coco. Luego se procederá a entrenar, evaluar y generar el grafo de inferencia para los dos modelos.\n",
    "\n"
   ]
  },
  {
   "cell_type": "markdown",
   "metadata": {},
   "source": [
    "## Generar los TensorFlow Records para el conjunto de imágenes de entrenamiento"
   ]
  },
  {
   "cell_type": "code",
   "execution_count": null,
   "metadata": {},
   "outputs": [],
   "source": [
    "!python /AutomaticFruitShoppingList/Codigo/TensorFlow/scripts/create_mask_rcnn_tf_record.py --data_dir_path=/AutomaticFruitShoppingList/Codigo/TensorFlow/workspace --label_map_path=/AutomaticFruitShoppingList/Codigo/TensorFlow/workspace/label_map.pbtxt  --tfrecord_filename=train --images_sub_folder=train"
   ]
  },
  {
   "cell_type": "markdown",
   "metadata": {},
   "source": [
    "## Generar los TensorFlow Records para el conjunto de imágenes de evaluación"
   ]
  },
  {
   "cell_type": "code",
   "execution_count": null,
   "metadata": {},
   "outputs": [],
   "source": [
    "!python /AutomaticFruitShoppingList/Codigo/TensorFlow/scripts/create_mask_rcnn_tf_record.py --data_dir_path=/AutomaticFruitShoppingList/Codigo/TensorFlow/workspace --label_map_path=/AutomaticFruitShoppingList/Codigo/TensorFlow/workspace/label_map.pbtxt  --tfrecord_filename=test --images_sub_folder=test"
   ]
  },
  {
   "cell_type": "markdown",
   "metadata": {},
   "source": [
    "## Entrenar el modelo mask_rcnn_inception_resnet_v2_atrous_coco"
   ]
  },
  {
   "cell_type": "code",
   "execution_count": null,
   "metadata": {},
   "outputs": [],
   "source": [
    "!python /tensorflow/models/research/object_detection/legacy/train.py --train_dir=/AutomaticFruitShoppingList/Codigo/TensorFlow/workspace/train_dir/mask_rcnn_inception_resnet_v2_atrous_legacy/ --pipeline_config_path=/AutomaticFruitShoppingList/Codigo/TensorFlow/workspace/mask_rcnn_inception_resnet_v2_atrous_coco.config --alsologtostderr"
   ]
  },
  {
   "cell_type": "markdown",
   "metadata": {},
   "source": [
    "## Entrenar el modelo mask_rcnn_resnet101_atrous_coco"
   ]
  },
  {
   "cell_type": "code",
   "execution_count": null,
   "metadata": {},
   "outputs": [],
   "source": [
    "!python /tensorflow/models/research/object_detection/legacy/train.py --train_dir=/AutomaticFruitShoppingList/Codigo/TensorFlow/workspace/train_dir/mask_rcnn_resnet101_atrous_legacy/ --pipeline_config_path=/AutomaticFruitShoppingList/Codigo/TensorFlow/workspace/mask_rcnn_resnet101_atrous_coco.config --alsologtostderr"
   ]
  },
  {
   "cell_type": "markdown",
   "metadata": {},
   "source": [
    "## Evaluar el modelo mask_rcnn_inception_resnet_v2_atrous_coco"
   ]
  },
  {
   "cell_type": "code",
   "execution_count": null,
   "metadata": {},
   "outputs": [],
   "source": [
    "!python /tensorflow/models/research/object_detection/legacy/eval.py --logtostderr --pipeline_config_path=/AutomaticFruitShoppingList/Codigo/TensorFlow/workspace/mask_rcnn_inception_resnet_v2_atrous_coco.config --checkpoint_dir=/AutomaticFruitShoppingList/Codigo/TensorFlow/workspace/train_dir/mask_rcnn_inception_resnet_v2_atrous_legacy/ --eval_dir=/AutomaticFruitShoppingList/Codigo/TensorFlow/workspace/train_dir/mask_rcnn_inception_resnet_v2_atrous_legacy/eval/"
   ]
  },
  {
   "cell_type": "markdown",
   "metadata": {},
   "source": [
    "## Evaluar el modelo mask_rcnn_resnet101_atrous_coco"
   ]
  },
  {
   "cell_type": "code",
   "execution_count": null,
   "metadata": {},
   "outputs": [],
   "source": [
    "!python /tensorflow/models/research/object_detection/legacy/eval.py --logtostderr --pipeline_config_path=/AutomaticFruitShoppingList/Codigo/TensorFlow/workspace/mask_rcnn_resnet101_atrous_coco.config --checkpoint_dir=/AutomaticFruitShoppingList/Codigo/TensorFlow/workspace/train_dir/mask_rcnn_resnet101_atrous_legacy/ --eval_dir=/AutomaticFruitShoppingList/Codigo/TensorFlow/workspace/train_dir/mask_rcnn_resnet101_atrous_legacy/eval/"
   ]
  },
  {
   "cell_type": "markdown",
   "metadata": {},
   "source": [
    "## Exportar el grafo de inferencia del modelo entrenado mask_rcnn_inception_resnet_v2_atrous_coco"
   ]
  },
  {
   "cell_type": "code",
   "execution_count": null,
   "metadata": {},
   "outputs": [],
   "source": [
    "!python export_inference_graph.py --input_type image_tensor --pipeline_config_path /AutomaticFruitShoppingList/Codigo/TensorFlow/workspace/mask_rcnn_inception_resnet_v2_atrous_coco.config --trained_checkpoint_prefix /AutomaticFruitShoppingList/Codigo/TensorFlow/workspace/train_dir/mask_rcnn_inception_resnet_v2_atrous_legacy/model.ckpt-13302 --output_directory /AutomaticFruitShoppingList/Codigo/TensorFlow/workspace/trained-inference-graphs/mask_rcnn_inception_resnet_v2_atrous/output_inference_graph_v1.pb"
   ]
  },
  {
   "cell_type": "markdown",
   "metadata": {},
   "source": [
    "## Exportar el grafo de inferencia del modelo entrenado mask_rcnn_resnet101_atrous_coco"
   ]
  },
  {
   "cell_type": "code",
   "execution_count": null,
   "metadata": {},
   "outputs": [],
   "source": [
    "!python export_inference_graph.py --input_type image_tensor --pipeline_config_path /AutomaticFruitShoppingList/Codigo/TensorFlow/workspace/mask_rcnn_resnet101_atrous_coco.config --trained_checkpoint_prefix /AutomaticFruitShoppingList/Codigo/TensorFlow/workspace/train_dir/mask_rcnn_resnet101_atrous_legacy/model.ckpt-13302 --output_directory /AutomaticFruitShoppingList/Codigo/TensorFlow/workspace/trained-inference-graphs/mask_rcnn_resnet101_atrous/output_inference_graph_v1.pb"
   ]
  },
  {
   "cell_type": "markdown",
   "metadata": {},
   "source": [
    "## Tensorboard\n",
    "Para visualizar el progreso y las métricas del entrenamiento y la evaluación de los modelos, se ha usado Tensorboard. Para usarlo, se deben ejecutar los comandos explicados a continuación y abrir un explorador con la url: localhost:6006"
   ]
  },
  {
   "cell_type": "markdown",
   "metadata": {},
   "source": [
    "Para visualizar el entrenamiento del modelo mask_rcnn_resnet101_atrous_coco"
   ]
  },
  {
   "cell_type": "code",
   "execution_count": null,
   "metadata": {},
   "outputs": [],
   "source": [
    "!tensorboard --logdir=/AutomaticFruitShoppingList/Codigo/TensorFlow/workspace/train_dir/mask_rcnn_inception_resnet_v2_atrous_legacy/"
   ]
  },
  {
   "cell_type": "markdown",
   "metadata": {},
   "source": [
    "Para visualizar la evaluación del modelo mask_rcnn_resnet101_atrous_coco"
   ]
  },
  {
   "cell_type": "code",
   "execution_count": null,
   "metadata": {},
   "outputs": [],
   "source": [
    "!tensorboard --logdir=/AutomaticFruitShoppingList/Codigo/TensorFlow/workspace/train_dir/mask_rcnn_inception_resnet_v2_atrous_legacy/eval/"
   ]
  },
  {
   "cell_type": "markdown",
   "metadata": {},
   "source": [
    "Para visualizar el entrenamiento del modelo mask_rcnn_resnet101_atrous_coco"
   ]
  },
  {
   "cell_type": "code",
   "execution_count": null,
   "metadata": {},
   "outputs": [],
   "source": [
    "!tensorboard --logdir=/AutomaticFruitShoppingList/Codigo/TensorFlow/workspace/train_dir/mask_rcnn_resnet101_atrous_coco/"
   ]
  },
  {
   "cell_type": "markdown",
   "metadata": {},
   "source": [
    "Para visualizar la evaluación del modelo mask_rcnn_resnet101_atrous_coco"
   ]
  },
  {
   "cell_type": "code",
   "execution_count": null,
   "metadata": {},
   "outputs": [],
   "source": [
    "!tensorboard --logdir=/AutomaticFruitShoppingList/Codigo/TensorFlow/workspace/train_dir/mask_rcnn_resnet101_atrous_coco/"
   ]
  }
 ],
 "metadata": {
  "kernelspec": {
   "display_name": "Python 3",
   "language": "python",
   "name": "python3"
  },
  "language_info": {
   "codemirror_mode": {
    "name": "ipython",
    "version": 3
   },
   "file_extension": ".py",
   "mimetype": "text/x-python",
   "name": "python",
   "nbconvert_exporter": "python",
   "pygments_lexer": "ipython3",
   "version": "3.6.7"
  }
 },
 "nbformat": 4,
 "nbformat_minor": 4
}