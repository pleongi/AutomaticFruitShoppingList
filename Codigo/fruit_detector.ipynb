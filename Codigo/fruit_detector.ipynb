{
 "cells": [
  {
   "cell_type": "code",
   "execution_count": 1,
   "metadata": {},
   "outputs": [
    {
     "output_type": "error",
     "ename": "SyntaxError",
     "evalue": "invalid syntax (<ipython-input-1-37c20335233d>, line 7)",
     "traceback": [
      "\u001b[1;36m  File \u001b[1;32m\"<ipython-input-1-37c20335233d>\"\u001b[1;36m, line \u001b[1;32m7\u001b[0m\n\u001b[1;33m    python object_detection/dataset_tools/create_mask_rcnn_tf_record.py --data_dir_path=<path_to_your_dataset_directory> --annotations_dir=<name_of_annotations_directory> --masks_dir=<name of masks directory> --xmls_dir=<name of xmls directory> --images_dir=<name_of_image_directory> --output_dir=<path_where_you_want_record_file_to_be_saved> --label_map_path=<path_of_label_map_file> --use_xml=<True if providing bounding fox annotations as xml file> --num_shrads=<number of tfrecord shrads>\u001b[0m\n\u001b[1;37m                          ^\u001b[0m\n\u001b[1;31mSyntaxError\u001b[0m\u001b[1;31m:\u001b[0m invalid syntax\n"
     ]
    }
   ],
   "source": [
    "#https://tensorflow-object-detection-api-tutorial.readthedocs.io/en/latest/training.html#monitor-training-job-progress-using-tensorboard\n",
    "#https://medium.com/@vijendra1125/custom-mask-rcnn-using-tensorflow-object-detection-api-101149ce0765\n",
    "# Creating TensorFlow Records\n",
    "!python /AutomaticFruitShoppingList/Codigo/TensorFlow/scripts/create_mask_rcnn_tf_record.py --data_dir_path=/AutomaticFruitShoppingList/Codigo/TensorFlow/workspace --label_map_path=/AutomaticFruitShoppingList/Codigo/TensorFlow/workspace/label_map.pbtxt  --tfrecord_filename=train\n",
    "\n",
    "# Training the model\n",
    "!python /AutomaticFruitShoppingList/Codigo/TensorFlow/scripts/train.py --train_dir=/AutomaticFruitShoppingList/Codigo/TensorFlow/workspace/train_dir/mask_rcnn_resnet101_atrous --pipeline_config_path=/AutomaticFruitShoppingList/Codigo/TensorFlow/workspace/mask_rcnn_resnet101_atrous_coco.config\n",
    "!python /AutomaticFruitShoppingList/Codigo/TensorFlow/scripts/train.py --train_dir=/AutomaticFruitShoppingList/Codigo/TensorFlow/workspace/train_dir/mask_rcnn_inception_resnet_v2_atrous --pipeline_config_path=/AutomaticFruitShoppingList/Codigo/TensorFlow/workspace/mask_rcnn_inception_resnet_v2_atrous_coco.config\n",
    "\n",
    "# Evaluating the model ?\n",
    "#All you need to do is to copy model/research/object_detection/object_detection_tutorial.ipynb and modify it to work with you inference graph\n",
    "#eval.ipynb\n",
    "# Monitor Training Job Progress using TensorBoard ?\n",
    "\n",
    "\n",
    "#Exporting a Trained Inference Graph\n",
    "!python export_inference_graph.py --input_type image_tensor --pipeline_config_path /AutomaticFruitShoppingList/Codigo/TensorFlow/workspace/mask_rcnn_resnet101_atrous_coco.config --trained_checkpoint_prefix /AutomaticFruitShoppingList/Codigo/TensorFlow/workspace/train_dir/mask_rcnn_resnet101_atrous/model.ckpt-13302 --output_directory /AutomaticFruitShoppingList/Codigo/TensorFlow/workspace/trained-inference-graphs/mask_rcnn_resnet101_atrous/output_inference_graph_v1.pb\n",
    "!python export_inference_graph.py --input_type image_tensor --pipeline_config_path /AutomaticFruitShoppingList/Codigo/TensorFlow/workspace/mask_rcnn_inception_resnet_v2_atrous_coco.config --trained_checkpoint_prefix /AutomaticFruitShoppingList/Codigo/TensorFlow/workspace/train_dir/mask_rcnn_inception_resnet_v2_atrous/model.ckpt-13302 --output_directory /AutomaticFruitShoppingList/Codigo/TensorFlow/workspace/trained-inference-graphs/mask_rcnn_inception_resnet_v2_atrous/output_inference_graph_v1.pb\n"
   ]
  }
 ],
 "metadata": {
  "kernelspec": {
   "display_name": "Python 3",
   "language": "python",
   "name": "python3"
  },
  "language_info": {
   "codemirror_mode": {
    "name": "ipython",
    "version": 3
   },
   "file_extension": ".py",
   "mimetype": "text/x-python",
   "name": "python",
   "nbconvert_exporter": "python",
   "pygments_lexer": "ipython3",
   "version": "3.6.0-final"
  }
 },
 "nbformat": 4,
 "nbformat_minor": 4
}