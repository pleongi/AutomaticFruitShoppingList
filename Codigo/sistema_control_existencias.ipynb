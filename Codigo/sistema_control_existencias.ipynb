{
 "cells": [
  {
   "cell_type": "markdown",
   "metadata": {},
   "source": [
    "# Sistema de control de existencias\n",
    "## Detector de frutas en las imágenes\n",
    "En este apartado se detectan las piezas de fruta con el modelo entrenado y se apuntan los resultados en un csv por imagen. Generando un histórico de piezas de fruta por imagen y dia."
   ]
  },
  {
   "cell_type": "code",
   "execution_count": null,
   "metadata": {},
   "outputs": [],
   "source": [
    "import numpy as np\n",
    "import os\n",
    "import six.moves.urllib as urllib\n",
    "import sys\n",
    "import tarfile\n",
    "import tensorflow as tf\n",
    "import zipfile\n",
    "\n",
    "from collections import defaultdict\n",
    "from io import StringIO\n",
    "from matplotlib import pyplot as plt\n",
    "from PIL import Image\n",
    "\n",
    "# This is needed since the notebook is stored in the object_detection folder.\n",
    "sys.path.append(\"..\")\n",
    "from object_detection.utils import ops as utils_ops\n",
    "from object_detection.utils import label_map_util\n",
    "from object_detection.utils import visualization_utils as vis_util\n",
    "\n",
    "# This is needed to display the images.\n",
    "%matplotlib inline"
   ]
  },
  {
   "cell_type": "code",
   "execution_count": null,
   "metadata": {},
   "outputs": [],
   "source": [
    "# Path to frozen detection graph. This is the actual model that is used for the object detection.\n",
    "PATH_TO_FROZEN_GRAPH = 'mask_rcnn_inception_resnet_v2_atrous/frozen_inference_graph.pb'\n",
    "\n",
    "# List of the strings that is used to add correct label for each box.\n",
    "PATH_TO_LABELS = 'label_map.pbtxt'\n",
    "\n",
    "#Number of classes\n",
    "NUM_CLASSES = 6"
   ]
  },
  {
   "cell_type": "code",
   "execution_count": null,
   "metadata": {},
   "outputs": [],
   "source": [
    "detection_graph = tf.Graph()\n",
    "with detection_graph.as_default():\n",
    "  od_graph_def = tf.GraphDef()\n",
    "  with tf.gfile.GFile(PATH_TO_FROZEN_GRAPH, 'rb') as fid:\n",
    "    serialized_graph = fid.read()\n",
    "    od_graph_def.ParseFromString(serialized_graph)\n",
    "    tf.import_graph_def(od_graph_def, name='')"
   ]
  },
  {
   "cell_type": "code",
   "execution_count": null,
   "metadata": {},
   "outputs": [],
   "source": [
    "label_map = label_map_util.load_labelmap(PATH_TO_LABELS)\n",
    "categories = label_map_util.convert_label_map_to_categories(label_map, max_num_classes=NUM_CLASSES, use_display_name=True)\n",
    "category_index = label_map_util.create_category_index(categories)"
   ]
  },
  {
   "cell_type": "code",
   "execution_count": null,
   "metadata": {},
   "outputs": [],
   "source": [
    "def load_image_into_numpy_array(image):\n",
    "  (im_width, im_height) = image.size\n",
    "  return np.array(image.getdata()).reshape(\n",
    "      (im_height, im_width, 3)).astype(np.uint8)"
   ]
  },
  {
   "cell_type": "code",
   "execution_count": null,
   "metadata": {},
   "outputs": [],
   "source": [
    "images=os.listdir('drive/My Drive/Test')\n",
    "TEST_IMAGE_PATHS = [ os.path.join('drive/My Drive/Test', '{}'.format(i)) for i in images ]\n",
    "# Size, in inches, of the output images.\n",
    "IMAGE_SIZE = (12, 8)"
   ]
  },
  {
   "cell_type": "code",
   "execution_count": null,
   "metadata": {},
   "outputs": [],
   "source": [
    "def run_inference_for_single_image(image, graph):\n",
    "  with graph.as_default():\n",
    "    with tf.Session() as sess:\n",
    "      # Get handles to input and output tensors\n",
    "      ops = tf.get_default_graph().get_operations()\n",
    "      all_tensor_names = {output.name for op in ops for output in op.outputs}\n",
    "      tensor_dict = {}\n",
    "      for key in [\n",
    "          'num_detections', 'detection_boxes', 'detection_scores',\n",
    "          'detection_classes', 'detection_masks'\n",
    "      ]:\n",
    "        tensor_name = key + ':0'\n",
    "        if tensor_name in all_tensor_names:\n",
    "          tensor_dict[key] = tf.get_default_graph().get_tensor_by_name(\n",
    "              tensor_name)\n",
    "      if 'detection_masks' in tensor_dict:\n",
    "        # The following processing is only for single image\n",
    "        detection_boxes = tf.squeeze(tensor_dict['detection_boxes'], [0])\n",
    "        detection_masks = tf.squeeze(tensor_dict['detection_masks'], [0])\n",
    "        # Reframe is required to translate mask from box coordinates to image coordinates and fit the image size.\n",
    "        real_num_detection = tf.cast(tensor_dict['num_detections'][0], tf.int32)\n",
    "        detection_boxes = tf.slice(detection_boxes, [0, 0], [real_num_detection, -1])\n",
    "        detection_masks = tf.slice(detection_masks, [0, 0, 0], [real_num_detection, -1, -1])\n",
    "        detection_masks_reframed = utils_ops.reframe_box_masks_to_image_masks(\n",
    "            detection_masks, detection_boxes, image.shape[0], image.shape[1])\n",
    "        detection_masks_reframed = tf.cast(\n",
    "            tf.greater(detection_masks_reframed, 0.5), tf.uint8)\n",
    "        # Follow the convention by adding back the batch dimension\n",
    "        tensor_dict['detection_masks'] = tf.expand_dims(\n",
    "            detection_masks_reframed, 0)\n",
    "      image_tensor = tf.get_default_graph().get_tensor_by_name('image_tensor:0')\n",
    "\n",
    "      # Run inference\n",
    "      output_dict = sess.run(tensor_dict,\n",
    "                             feed_dict={image_tensor: np.expand_dims(image, 0)})\n",
    "\n",
    "      # all outputs are float32 numpy arrays, so convert types as appropriate\n",
    "      output_dict['num_detections'] = int(output_dict['num_detections'][0])\n",
    "      output_dict['detection_classes'] = output_dict[\n",
    "          'detection_classes'][0].astype(np.uint8)\n",
    "      output_dict['detection_boxes'] = output_dict['detection_boxes'][0]\n",
    "      output_dict['detection_scores'] = output_dict['detection_scores'][0]\n",
    "      if 'detection_masks' in output_dict:\n",
    "        output_dict['detection_masks'] = output_dict['detection_masks'][0]\n",
    "  return output_dict"
   ]
  },
  {
   "cell_type": "code",
   "execution_count": null,
   "metadata": {},
   "outputs": [],
   "source": [
    "import csv\n",
    "\n",
    "IMAGE_SIZE = (12, 8)\n",
    "date_c=1\n",
    "with open('cantidad.csv', mode='w') as csv_file:\n",
    "    fieldnames = ['date', 'image_name','apple', 'pear', 'lemon','orange','banana','pineapple']\n",
    "    writer = csv.DictWriter(csv_file, fieldnames=fieldnames)\n",
    "\n",
    "    writer.writeheader()\n",
    "    for image_path in TEST_IMAGE_PATHS:\n",
    "      file_name=os.path.basename(image_path)\n",
    "      print(file_name)\n",
    "      image = Image.open(image_path)\n",
    "      # the array based representation of the image will be used later in order to prepare the\n",
    "      # result image with boxes and labels on it.\n",
    "      image_np = load_image_into_numpy_array(image)\n",
    "      # Expand dimensions since the model expects images to have shape: [1, None, None, 3]\n",
    "      image_np_expanded = np.expand_dims(image_np, axis=0)\n",
    "      # Actual detection.\n",
    "      output_dict = run_inference_for_single_image(image_np, detection_graph)\n",
    "      vis_util.visualize_boxes_and_labels_on_image_array(\n",
    "          image_np,\n",
    "          output_dict['detection_boxes'],\n",
    "          output_dict['detection_classes'],\n",
    "          output_dict['detection_scores'],\n",
    "          category_index,\n",
    "          instance_masks=output_dict.get('detection_masks'),\n",
    "          use_normalized_coordinates=True,\n",
    "          line_thickness=8,\n",
    "          min_score_thresh=.4)\n",
    "      \n",
    "      save_in='drive/My Drive/TestRes/'+file_name\n",
    "      Image.fromarray(image_np).save(save_in)\n",
    "\n",
    "      boxes = output_dict['detection_boxes']\n",
    "      max_boxes_to_draw = boxes.shape[0]\n",
    "      scores = output_dict['detection_scores']\n",
    "      classes = output_dict['detection_classes']\n",
    "      masks = output_dict['detection_masks']\n",
    "      min_score_thresh=.4\n",
    "      fruit_counter=[0,0,0,0,0,0]\n",
    "      fruit_counter ={'apple':0,'pear':0,'lemon':0,'orange':0,'banana':0,'pineapple':0}\n",
    "      for i in range(min(max_boxes_to_draw, boxes.shape[0])):\n",
    "          if scores is None or scores[i] > min_score_thresh:\n",
    "              # boxes[i] is the box which will be drawn\n",
    "              cat=category_index.get(classes[i])\n",
    "              print (\"This box is gonna get used\", boxes[i], float(\"{:.2f}\".format(scores[i]*100)), cat['name'])\n",
    "              fruit_counter[cat['name']]+=1\n",
    "\n",
    "      print(\"Total fruit:\", fruit_counter)\n",
    "      fruit_counter['date']=date_c\n",
    "      fruit_counter['image_name']=file_name\n",
    "      date_c+=1\n",
    "      writer.writerow(fruit_counter)"
   ]
  },
  {
   "cell_type": "markdown",
   "metadata": {},
   "source": [
    "## Validación de la detección de fruta en las imágenes de producción"
   ]
  },
  {
   "cell_type": "code",
   "execution_count": 29,
   "metadata": {
    "tags": []
   },
   "outputs": [
    {
     "output_type": "stream",
     "name": "stdout",
     "text": "date                 image_name  apple  pear  lemon  orange  banana  \\\n0  20/02/2020    IMG_20200518_165912.jpg      1     3      1       0       3   \n1  21/02/2020  IMG_20200518_165931_1.jpg      2     3      3       1       0   \n2  22/02/2020    IMG_20200518_165844.jpg      2     3      1       0       3   \n3  23/02/2020    IMG_20200518_165857.jpg      2     3      2       1       4   \n4  24/02/2020    IMG_20200518_165839.jpg      2     2      1       0       3   \n\n   pineapple  \n0          0  \n1          0  \n2          0  \n3          0  \n4          0  \n"
    },
    {
     "output_type": "execute_result",
     "data": {
      "text/plain": "         date                 image_name  apple  pear  lemon  orange  banana  \\\n0  20/02/2020    IMG_20200518_165912.jpg      1     3      1       0       3   \n1  21/02/2020  IMG_20200518_165931_1.jpg      2     3      3       1       0   \n2  22/02/2020    IMG_20200518_165844.jpg      2     3      1       0       3   \n3  23/02/2020    IMG_20200518_165857.jpg      2     3      2       1       4   \n4  24/02/2020    IMG_20200518_165839.jpg      2     2      1       0       3   \n\n   pineapple  \n0          0  \n1          0  \n2          0  \n3          0  \n4          0  ",
      "text/html": "<div>\n<style scoped>\n    .dataframe tbody tr th:only-of-type {\n        vertical-align: middle;\n    }\n\n    .dataframe tbody tr th {\n        vertical-align: top;\n    }\n\n    .dataframe thead th {\n        text-align: right;\n    }\n</style>\n<table border=\"1\" class=\"dataframe\">\n  <thead>\n    <tr style=\"text-align: right;\">\n      <th></th>\n      <th>date</th>\n      <th>image_name</th>\n      <th>apple</th>\n      <th>pear</th>\n      <th>lemon</th>\n      <th>orange</th>\n      <th>banana</th>\n      <th>pineapple</th>\n    </tr>\n  </thead>\n  <tbody>\n    <tr>\n      <th>0</th>\n      <td>20/02/2020</td>\n      <td>IMG_20200518_165912.jpg</td>\n      <td>1</td>\n      <td>3</td>\n      <td>1</td>\n      <td>0</td>\n      <td>3</td>\n      <td>0</td>\n    </tr>\n    <tr>\n      <th>1</th>\n      <td>21/02/2020</td>\n      <td>IMG_20200518_165931_1.jpg</td>\n      <td>2</td>\n      <td>3</td>\n      <td>3</td>\n      <td>1</td>\n      <td>0</td>\n      <td>0</td>\n    </tr>\n    <tr>\n      <th>2</th>\n      <td>22/02/2020</td>\n      <td>IMG_20200518_165844.jpg</td>\n      <td>2</td>\n      <td>3</td>\n      <td>1</td>\n      <td>0</td>\n      <td>3</td>\n      <td>0</td>\n    </tr>\n    <tr>\n      <th>3</th>\n      <td>23/02/2020</td>\n      <td>IMG_20200518_165857.jpg</td>\n      <td>2</td>\n      <td>3</td>\n      <td>2</td>\n      <td>1</td>\n      <td>4</td>\n      <td>0</td>\n    </tr>\n    <tr>\n      <th>4</th>\n      <td>24/02/2020</td>\n      <td>IMG_20200518_165839.jpg</td>\n      <td>2</td>\n      <td>2</td>\n      <td>1</td>\n      <td>0</td>\n      <td>3</td>\n      <td>0</td>\n    </tr>\n  </tbody>\n</table>\n</div>"
     },
     "metadata": {},
     "execution_count": 29
    }
   ],
   "source": [
    "import csv\n",
    "fruits=['apple', 'pear', 'lemon', 'banana', 'pineapple', 'orange']\n",
    "\n",
    "import pandas as pd \n",
    "import pandas_ml as pdml\n",
    "from pandas_ml import ConfusionMatrix\n",
    "\n",
    "# Read data from file 'cantidad.csv' \n",
    "data = pd.read_csv(\"cantidad.csv\", sep=';') \n",
    "\n",
    "#Pasamos los datos numéricos a integer, para poder operar con ellos.\n",
    "for i in fruits:\n",
    "    data[i]=data[i].astype('int32')\n",
    "\n",
    "# Preview the first 5 lines of the loaded data \n",
    "print(data.head())\n",
    "\n",
    "# Read data from file 'cantidad_real.csv' \n",
    "data_real = pd.read_csv(\"cantidad_real.csv\", sep=';') \n",
    "\n",
    "#Pasamos los datos numéricos a integer, para poder operar con ellos.\n",
    "for i in fruits:\n",
    "    data_real[i]=data_real[i].astype('int32')\n",
    "\n",
    "# Preview the first 5 lines of the loaded data \n",
    "data_real.head()\n",
    "\n",
    "data.head()"
   ]
  },
  {
   "cell_type": "code",
   "execution_count": 30,
   "metadata": {
    "tags": []
   },
   "outputs": [
    {
     "output_type": "stream",
     "name": "stdout",
     "text": "Para la fruta  apple  la exactitud total es del  67.3076923076923 %\nConfusion Matrix:\n\nPredicted  0   1   2   3  __all__\nActual                           \n0          8   7   2   0       17\n1          0  30  10   2       42\n2          0   0  27  13       40\n3          0   0   0   5        5\n__all__    8  37  39  20      104\n\n\nOverall Statistics:\n\nAccuracy: 0.6730769230769231\n95% CI: (0.5741392800895302, 0.7618667125500935)\nNo Information Rate: ToDo\nP-Value [Acc > NIR]: 7.089027107052404e-10\nKappa: 0.5263862844896866\nMcnemar's Test P-Value: ToDo\n\n\nClass Statistics:\n\nClasses                                       0         1         2          3\nPopulation                                  104       104       104        104\nP: Condition positive                        17        42        40          5\nN: Condition negative                        87        62        64         99\nTest outcome positive                         8        37        39         20\nTest outcome negative                        96        67        65         84\nTP: True Positive                             8        30        27          5\nTN: True Negative                            87        55        52         84\nFP: False Positive                            0         7        12         15\nFN: False Negative                            9        12        13          0\nTPR: (Sensitivity, hit rate, recall)   0.470588  0.714286     0.675          1\nTNR=SPC: (Specificity)                        1  0.887097    0.8125   0.848485\nPPV: Pos Pred Value (Precision)               1  0.810811  0.692308       0.25\nNPV: Neg Pred Value                     0.90625  0.820896       0.8          1\nFPR: False-out                                0  0.112903    0.1875   0.151515\nFDR: False Discovery Rate                     0  0.189189  0.307692       0.75\nFNR: Miss Rate                         0.529412  0.285714     0.325          0\nACC: Accuracy                          0.913462  0.817308  0.759615   0.855769\nF1 score                                   0.64  0.759494  0.683544        0.4\nMCC: Matthews correlation coefficient  0.653047  0.616358  0.489898   0.460566\nInformedness                           0.470588  0.601382    0.4875   0.848485\nMarkedness                              0.90625  0.631706  0.492308       0.25\nPrevalence                             0.163462  0.403846  0.384615  0.0480769\nLR+: Positive likelihood ratio              inf   6.32653       3.6        6.6\nLR-: Negative likelihood ratio         0.529412  0.322078       0.4          0\nDOR: Diagnostic odds ratio                  inf   19.6429         9        inf\nFOR: False omission rate                0.09375  0.179104       0.2          0\nNone\nPara la fruta  pear  la exactitud total es del  26.923076923076923 %\nConfusion Matrix:\n\nPredicted  0   1   2   3  4  5  __all__\nActual                                 \n0          7   7  23  19  0  0       56\n1          0  11  10   6  1  0       28\n2          0   1  10   4  1  0       16\n3          0   0   0   0  2  2        4\n4          0   0   0   0  0  0        0\n5          0   0   0   0  0  0        0\n__all__    7  19  43  29  4  2      104\n\n\nOverall Statistics:\n\nAccuracy: 0.2692307692307692\n95% CI: (0.1869397877048973, 0.3650993842497259)\nNo Information Rate: ToDo\nP-Value [Acc > NIR]: 0.9992178968055138\nKappa: 0.13028169014084504\nMcnemar's Test P-Value: ToDo\n\n\nClass Statistics:\n\nClasses                                       0         1          2  \\\nPopulation                                  104       104        104   \nP: Condition positive                        56        28         16   \nN: Condition negative                        48        76         88   \nTest outcome positive                         7        19         43   \nTest outcome negative                        97        85         61   \nTP: True Positive                             7        11         10   \nTN: True Negative                            48        68         55   \nFP: False Positive                            0         8         33   \nFN: False Negative                           49        17          6   \nTPR: (Sensitivity, hit rate, recall)      0.125  0.392857      0.625   \nTNR=SPC: (Specificity)                        1  0.894737      0.625   \nPPV: Pos Pred Value (Precision)               1  0.578947   0.232558   \nNPV: Neg Pred Value                    0.494845       0.8   0.901639   \nFPR: False-out                                0  0.105263      0.375   \nFDR: False Discovery Rate                     0  0.421053   0.767442   \nFNR: Miss Rate                            0.875  0.607143      0.375   \nACC: Accuracy                          0.528846  0.759615      0.625   \nF1 score                               0.222222  0.468085   0.338983   \nMCC: Matthews correlation coefficient  0.248708  0.330126   0.183165   \nInformedness                              0.125  0.287594       0.25   \nMarkedness                             0.494845  0.378947   0.134197   \nPrevalence                             0.538462  0.269231   0.153846   \nLR+: Positive likelihood ratio              inf   3.73214    1.66667   \nLR-: Negative likelihood ratio            0.875  0.678571        0.6   \nDOR: Diagnostic odds ratio                  inf       5.5    2.77778   \nFOR: False omission rate               0.505155       0.2  0.0983607   \n\nClasses                                        3          4          5  \nPopulation                                   104        104        104  \nP: Condition positive                          4          0          0  \nN: Condition negative                        100        104        104  \nTest outcome positive                         29          4          2  \nTest outcome negative                         75        100        102  \nTP: True Positive                              0          0          0  \nTN: True Negative                             71        100        102  \nFP: False Positive                            29          4          2  \nFN: False Negative                             4          0          0  \nTPR: (Sensitivity, hit rate, recall)           0        NaN        NaN  \nTNR=SPC: (Specificity)                      0.71   0.961538   0.980769  \nPPV: Pos Pred Value (Precision)                0          0          0  \nNPV: Neg Pred Value                     0.946667          1          1  \nFPR: False-out                              0.29  0.0384615  0.0192308  \nFDR: False Discovery Rate                      1          1          1  \nFNR: Miss Rate                                 1        NaN        NaN  \nACC: Accuracy                           0.682692   0.961538   0.980769  \nF1 score                                       0          0          0  \nMCC: Matthews correlation coefficient  -0.124365        NaN        NaN  \nInformedness                               -0.29        NaN        NaN  \nMarkedness                            -0.0533333          0          0  \nPrevalence                             0.0384615          0          0  \nLR+: Positive likelihood ratio                 0        NaN        NaN  \nLR-: Negative likelihood ratio           1.40845        NaN        NaN  \nDOR: Diagnostic odds ratio                     0        NaN        NaN  \nFOR: False omission rate               0.0533333          0          0  \nNone\nPara la fruta  lemon  la exactitud total es del  32.69230769230769 %\nConfusion Matrix:\n\nPredicted   0   1   2   3  4  5  __all__\nActual                                  \n0          11  12  12   2  0  0       37\n1           0  11  19  10  2  1       43\n2           0   0   9  10  0  0       19\n3           0   0   0   3  1  1        5\n4           0   0   0   0  0  0        0\n5           0   0   0   0  0  0        0\n__all__    11  23  40  25  3  2      104\n\n\nOverall Statistics:\n\nAccuracy: 0.3269230769230769\n95% CI: (0.2381332874499065, 0.4258607199104698)\nNo Information Rate: ToDo\nP-Value [Acc > NIR]: 0.9060350619663451\nKappa: 0.1470415934387815\nMcnemar's Test P-Value: ToDo\n\n\nClass Statistics:\n\nClasses                                       0          1          2  \\\nPopulation                                  104        104        104   \nP: Condition positive                        37         43         19   \nN: Condition negative                        67         61         85   \nTest outcome positive                        11         23         40   \nTest outcome negative                        93         81         64   \nTP: True Positive                            11         11          9   \nTN: True Negative                            67         49         54   \nFP: False Positive                            0         12         31   \nFN: False Negative                           26         32         10   \nTPR: (Sensitivity, hit rate, recall)   0.297297   0.255814   0.473684   \nTNR=SPC: (Specificity)                        1   0.803279   0.635294   \nPPV: Pos Pred Value (Precision)               1   0.478261      0.225   \nNPV: Neg Pred Value                     0.72043   0.604938    0.84375   \nFPR: False-out                                0   0.196721   0.364706   \nFDR: False Discovery Rate                     0   0.521739      0.775   \nFNR: Miss Rate                         0.702703   0.744186   0.526316   \nACC: Accuracy                              0.75   0.576923   0.605769   \nF1 score                               0.458333   0.333333   0.305085   \nMCC: Matthews correlation coefficient  0.462798  0.0701175  0.0865578   \nInformedness                           0.297297  0.0590926   0.108978   \nMarkedness                              0.72043  0.0831991    0.06875   \nPrevalence                             0.355769   0.413462   0.182692   \nLR+: Positive likelihood ratio              inf    1.30039    1.29881   \nLR-: Negative likelihood ratio         0.702703   0.926436    0.82846   \nDOR: Diagnostic odds ratio                  inf    1.40365    1.56774   \nFOR: False omission rate                0.27957   0.395062    0.15625   \n\nClasses                                        3          4          5  \nPopulation                                   104        104        104  \nP: Condition positive                          5          0          0  \nN: Condition negative                         99        104        104  \nTest outcome positive                         25          3          2  \nTest outcome negative                         79        101        102  \nTP: True Positive                              3          0          0  \nTN: True Negative                             77        101        102  \nFP: False Positive                            22          3          2  \nFN: False Negative                             2          0          0  \nTPR: (Sensitivity, hit rate, recall)         0.6        NaN        NaN  \nTNR=SPC: (Specificity)                  0.777778   0.971154   0.980769  \nPPV: Pos Pred Value (Precision)             0.12          0          0  \nNPV: Neg Pred Value                     0.974684          1          1  \nFPR: False-out                          0.222222  0.0288462  0.0192308  \nFDR: False Discovery Rate                   0.88          1          1  \nFNR: Miss Rate                               0.4        NaN        NaN  \nACC: Accuracy                           0.769231   0.971154   0.980769  \nF1 score                                     0.2          0          0  \nMCC: Matthews correlation coefficient   0.189128        NaN        NaN  \nInformedness                            0.377778        NaN        NaN  \nMarkedness                             0.0946835          0          0  \nPrevalence                             0.0480769          0          0  \nLR+: Positive likelihood ratio               2.7        NaN        NaN  \nLR-: Negative likelihood ratio          0.514286        NaN        NaN  \nDOR: Diagnostic odds ratio                  5.25        NaN        NaN  \nFOR: False omission rate               0.0253165          0          0  \nNone\n"
    }
   ],
   "source": [
    "\n",
    "for i in fruits[:3]:\n",
    "    matriz_confusion = ConfusionMatrix(data[i],data_real[i])\n",
    "    print(\"Para la fruta \", i, \" la exactitud total es del \",matriz_confusion.stats()['overall']['Accuracy']*100, \"%\")\n",
    "    print(matriz_confusion.print_stats())"
   ]
  },
  {
   "cell_type": "code",
   "execution_count": 31,
   "metadata": {
    "tags": []
   },
   "outputs": [
    {
     "output_type": "stream",
     "name": "stdout",
     "text": "Para la fruta  banana  la exactitud total es del  67.3076923076923 %\nConfusion Matrix:\n\nPredicted  0   1   2   3   4  __all__\nActual                               \n0          6   1   0   0   0        7\n1          0  19  13   3   0       35\n2          0   1  27   5   0       33\n3          0   0   2  15   9       26\n4          0   0   0   0   3        3\n__all__    6  21  42  23  12      104\n\n\nOverall Statistics:\n\nAccuracy: 0.6730769230769231\n95% CI: (0.5741392800895302, 0.7618667125500935)\nNo Information Rate: ToDo\nP-Value [Acc > NIR]: 2.678170710691295e-08\nKappa: 0.5590472627509665\nMcnemar's Test P-Value: ToDo\n\n\nClass Statistics:\n\nClasses                                        0          1          2  \\\nPopulation                                   104        104        104   \nP: Condition positive                          7         35         33   \nN: Condition negative                         97         69         71   \nTest outcome positive                          6         21         42   \nTest outcome negative                         98         83         62   \nTP: True Positive                              6         19         27   \nTN: True Negative                             97         67         56   \nFP: False Positive                             0          2         15   \nFN: False Negative                             1         16          6   \nTPR: (Sensitivity, hit rate, recall)    0.857143   0.542857   0.818182   \nTNR=SPC: (Specificity)                         1   0.971014   0.788732   \nPPV: Pos Pred Value (Precision)                1   0.904762   0.642857   \nNPV: Neg Pred Value                     0.989796   0.807229   0.903226   \nFPR: False-out                                 0  0.0289855   0.211268   \nFDR: False Discovery Rate                      0  0.0952381   0.357143   \nFNR: Miss Rate                          0.142857   0.457143   0.181818   \nACC: Accuracy                           0.990385   0.826923   0.798077   \nF1 score                                0.923077   0.678571       0.72   \nMCC: Matthews correlation coefficient   0.921084   0.604873   0.575696   \nInformedness                            0.857143   0.513872   0.606914   \nMarkedness                              0.989796   0.711991   0.546083   \nPrevalence                             0.0673077   0.336538   0.317308   \nLR+: Positive likelihood ratio               inf    18.7286    3.87273   \nLR-: Negative likelihood ratio          0.142857   0.470789   0.230519   \nDOR: Diagnostic odds ratio                   inf    39.7812       16.8   \nFOR: False omission rate               0.0102041   0.192771  0.0967742   \n\nClasses                                       3          4  \nPopulation                                  104        104  \nP: Condition positive                        26          3  \nN: Condition negative                        78        101  \nTest outcome positive                        23         12  \nTest outcome negative                        81         92  \nTP: True Positive                            15          3  \nTN: True Negative                            70         92  \nFP: False Positive                            8          9  \nFN: False Negative                           11          0  \nTPR: (Sensitivity, hit rate, recall)   0.576923          1  \nTNR=SPC: (Specificity)                 0.897436   0.910891  \nPPV: Pos Pred Value (Precision)        0.652174       0.25  \nNPV: Neg Pred Value                    0.864198          1  \nFPR: False-out                         0.102564  0.0891089  \nFDR: False Discovery Rate              0.347826       0.75  \nFNR: Miss Rate                         0.423077          0  \nACC: Accuracy                          0.817308   0.913462  \nF1 score                               0.612245        0.4  \nMCC: Matthews correlation coefficient   0.49492   0.477203  \nInformedness                           0.474359   0.910891  \nMarkedness                             0.516371       0.25  \nPrevalence                                 0.25  0.0288462  \nLR+: Positive likelihood ratio            5.625    11.2222  \nLR-: Negative likelihood ratio         0.471429          0  \nDOR: Diagnostic odds ratio              11.9318        inf  \nFOR: False omission rate               0.135802          0  \nNone\nPara la fruta  pineapple  la exactitud total es del  95.1923076923077 %\nConfusion Matrix:\n\nPredicted   0   1  2  3  __all__\nActual                          \n0          61   1  0  0       62\n1           0  38  0  0       38\n2           0   3  0  0        3\n3           0   1  0  0        1\n__all__    61  43  0  0      104\n\n\nOverall Statistics:\n\nAccuracy: 0.9519230769230769\n95% CI: (0.8913640399850995, 0.9842075518460147)\nNo Information Rate: ToDo\nP-Value [Acc > NIR]: 1.3758870933408669e-17\nKappa: 0.9037037037037036\nMcnemar's Test P-Value: ToDo\n\n\nClass Statistics:\n\nClasses                                        0          1          2  \\\nPopulation                                   104        104        104   \nP: Condition positive                         62         38          3   \nN: Condition negative                         42         66        101   \nTest outcome positive                         61         43          0   \nTest outcome negative                         43         61        104   \nTP: True Positive                             61         38          0   \nTN: True Negative                             42         61        101   \nFP: False Positive                             0          5          0   \nFN: False Negative                             1          0          3   \nTPR: (Sensitivity, hit rate, recall)    0.983871          1          0   \nTNR=SPC: (Specificity)                         1   0.924242          1   \nPPV: Pos Pred Value (Precision)                1   0.883721        NaN   \nNPV: Neg Pred Value                     0.976744          1   0.971154   \nFPR: False-out                                 0  0.0757576          0   \nFDR: False Discovery Rate                      0   0.116279        NaN   \nFNR: Miss Rate                          0.016129          0          1   \nACC: Accuracy                           0.990385   0.951923   0.971154   \nF1 score                                 0.99187   0.938272          0   \nMCC: Matthews correlation coefficient   0.980301   0.903755        NaN   \nInformedness                            0.983871   0.924242          0   \nMarkedness                              0.976744   0.883721        NaN   \nPrevalence                              0.596154   0.365385  0.0288462   \nLR+: Positive likelihood ratio               inf       13.2        NaN   \nLR-: Negative likelihood ratio          0.016129          0          1   \nDOR: Diagnostic odds ratio                   inf        inf        NaN   \nFOR: False omission rate               0.0232558          0  0.0288462   \n\nClasses                                         3  \nPopulation                                    104  \nP: Condition positive                           1  \nN: Condition negative                         103  \nTest outcome positive                           0  \nTest outcome negative                         104  \nTP: True Positive                               0  \nTN: True Negative                             103  \nFP: False Positive                              0  \nFN: False Negative                              1  \nTPR: (Sensitivity, hit rate, recall)            0  \nTNR=SPC: (Specificity)                          1  \nPPV: Pos Pred Value (Precision)               NaN  \nNPV: Neg Pred Value                      0.990385  \nFPR: False-out                                  0  \nFDR: False Discovery Rate                     NaN  \nFNR: Miss Rate                                  1  \nACC: Accuracy                            0.990385  \nF1 score                                        0  \nMCC: Matthews correlation coefficient         NaN  \nInformedness                                    0  \nMarkedness                                    NaN  \nPrevalence                             0.00961538  \nLR+: Positive likelihood ratio                NaN  \nLR-: Negative likelihood ratio                  1  \nDOR: Diagnostic odds ratio                    NaN  \nFOR: False omission rate               0.00961538  \nNone\nPara la fruta  orange  la exactitud total es del  21.153846153846153 %\nConfusion Matrix:\n\nPredicted  0   1   2   3  4  5  __all__\nActual                                 \n0          8  21  23   8  0  0       60\n1          0   9   8   8  0  0       25\n2          0   4   1   7  0  0       12\n3          0   1   0   4  0  0        5\n4          0   1   0   0  0  0        1\n5          0   0   1   0  0  0        1\n__all__    8  36  33  27  0  0      104\n\n\nOverall Statistics:\n\nAccuracy: 0.21153846153846154\n95% CI: (0.13757262417455815, 0.30256883103944643)\nNo Information Rate: ToDo\nP-Value [Acc > NIR]: 0.9990490887504627\nKappa: 0.042335766423357644\nMcnemar's Test P-Value: ToDo\n\n\nClass Statistics:\n\nClasses                                       0          1          2  \\\nPopulation                                  104        104        104   \nP: Condition positive                        60         25         12   \nN: Condition negative                        44         79         92   \nTest outcome positive                         8         36         33   \nTest outcome negative                        96         68         71   \nTP: True Positive                             8          9          1   \nTN: True Negative                            44         52         60   \nFP: False Positive                            0         27         32   \nFN: False Negative                           52         16         11   \nTPR: (Sensitivity, hit rate, recall)   0.133333       0.36  0.0833333   \nTNR=SPC: (Specificity)                        1   0.658228   0.652174   \nPPV: Pos Pred Value (Precision)               1       0.25   0.030303   \nNPV: Neg Pred Value                    0.458333   0.764706    0.84507   \nFPR: False-out                                0   0.341772   0.347826   \nFDR: False Discovery Rate                     0       0.75   0.969697   \nFNR: Miss Rate                         0.866667       0.64   0.916667   \nACC: Accuracy                               0.5   0.586538   0.586538   \nF1 score                               0.235294   0.295082  0.0444444   \nMCC: Matthews correlation coefficient  0.247207  0.0163724  -0.181557   \nInformedness                           0.133333  0.0182278  -0.264493   \nMarkedness                             0.458333  0.0147059  -0.124627   \nPrevalence                             0.576923   0.240385   0.115385   \nLR+: Positive likelihood ratio              inf    1.05333   0.239583   \nLR-: Negative likelihood ratio         0.866667   0.972308    1.40556   \nDOR: Diagnostic odds ratio                  inf    1.08333   0.170455   \nFOR: False omission rate               0.541667   0.235294    0.15493   \n\nClasses                                        3           4           5  \nPopulation                                   104         104         104  \nP: Condition positive                          5           1           1  \nN: Condition negative                         99         103         103  \nTest outcome positive                         27           0           0  \nTest outcome negative                         77         104         104  \nTP: True Positive                              4           0           0  \nTN: True Negative                             76         103         103  \nFP: False Positive                            23           0           0  \nFN: False Negative                             1           1           1  \nTPR: (Sensitivity, hit rate, recall)         0.8           0           0  \nTNR=SPC: (Specificity)                  0.767677           1           1  \nPPV: Pos Pred Value (Precision)         0.148148         NaN         NaN  \nNPV: Neg Pred Value                     0.987013    0.990385    0.990385  \nFPR: False-out                          0.232323           0           0  \nFDR: False Discovery Rate               0.851852         NaN         NaN  \nFNR: Miss Rate                               0.2           1           1  \nACC: Accuracy                           0.769231    0.990385    0.990385  \nF1 score                                    0.25           0           0  \nMCC: Matthews correlation coefficient   0.276998         NaN         NaN  \nInformedness                            0.567677           0           0  \nMarkedness                              0.135161         NaN         NaN  \nPrevalence                             0.0480769  0.00961538  0.00961538  \nLR+: Positive likelihood ratio           3.44348         NaN         NaN  \nLR-: Negative likelihood ratio          0.260526           1           1  \nDOR: Diagnostic odds ratio               13.2174         NaN         NaN  \nFOR: False omission rate                0.012987  0.00961538  0.00961538  \nNone\n"
    }
   ],
   "source": [
    "\n",
    "for i in fruits[3:]:\n",
    "    matriz_confusion = ConfusionMatrix(data[i],data_real[i])\n",
    "    print(\"Para la fruta \", i, \" la exactitud total es del \",matriz_confusion.stats()['overall']['Accuracy']*100, \"%\")\n",
    "    print(matriz_confusion.print_stats())"
   ]
  },
  {
   "cell_type": "markdown",
   "metadata": {},
   "source": [
    "## Tratamiento de los datos para la predicción de compra"
   ]
  },
  {
   "cell_type": "code",
   "execution_count": 32,
   "metadata": {},
   "outputs": [
    {
     "output_type": "execute_result",
     "data": {
      "text/plain": "         date                 image_name  apple  pear  lemon  orange  banana  \\\n0  20/02/2020    IMG_20200518_165912.jpg      1     3      1       0       3   \n1  21/02/2020  IMG_20200518_165931_1.jpg      2     3      3       1       0   \n2  22/02/2020    IMG_20200518_165844.jpg      2     3      1       0       3   \n3  23/02/2020    IMG_20200518_165857.jpg      2     3      2       1       4   \n4  24/02/2020    IMG_20200518_165839.jpg      2     2      1       0       3   \n\n   pineapple  \n0          0  \n1          0  \n2          0  \n3          0  \n4          0  ",
      "text/html": "<div>\n<style scoped>\n    .dataframe tbody tr th:only-of-type {\n        vertical-align: middle;\n    }\n\n    .dataframe tbody tr th {\n        vertical-align: top;\n    }\n\n    .dataframe thead th {\n        text-align: right;\n    }\n</style>\n<table border=\"1\" class=\"dataframe\">\n  <thead>\n    <tr style=\"text-align: right;\">\n      <th></th>\n      <th>date</th>\n      <th>image_name</th>\n      <th>apple</th>\n      <th>pear</th>\n      <th>lemon</th>\n      <th>orange</th>\n      <th>banana</th>\n      <th>pineapple</th>\n    </tr>\n  </thead>\n  <tbody>\n    <tr>\n      <th>0</th>\n      <td>20/02/2020</td>\n      <td>IMG_20200518_165912.jpg</td>\n      <td>1</td>\n      <td>3</td>\n      <td>1</td>\n      <td>0</td>\n      <td>3</td>\n      <td>0</td>\n    </tr>\n    <tr>\n      <th>1</th>\n      <td>21/02/2020</td>\n      <td>IMG_20200518_165931_1.jpg</td>\n      <td>2</td>\n      <td>3</td>\n      <td>3</td>\n      <td>1</td>\n      <td>0</td>\n      <td>0</td>\n    </tr>\n    <tr>\n      <th>2</th>\n      <td>22/02/2020</td>\n      <td>IMG_20200518_165844.jpg</td>\n      <td>2</td>\n      <td>3</td>\n      <td>1</td>\n      <td>0</td>\n      <td>3</td>\n      <td>0</td>\n    </tr>\n    <tr>\n      <th>3</th>\n      <td>23/02/2020</td>\n      <td>IMG_20200518_165857.jpg</td>\n      <td>2</td>\n      <td>3</td>\n      <td>2</td>\n      <td>1</td>\n      <td>4</td>\n      <td>0</td>\n    </tr>\n    <tr>\n      <th>4</th>\n      <td>24/02/2020</td>\n      <td>IMG_20200518_165839.jpg</td>\n      <td>2</td>\n      <td>2</td>\n      <td>1</td>\n      <td>0</td>\n      <td>3</td>\n      <td>0</td>\n    </tr>\n  </tbody>\n</table>\n</div>"
     },
     "metadata": {},
     "execution_count": 32
    }
   ],
   "source": [
    "# Read data from file 'cantidad.csv' \n",
    "data = pd.read_csv(\"cantidad.csv\", sep=';') \n",
    "# Preview the first 5 lines of the loaded data \n",
    "data.head()"
   ]
  },
  {
   "cell_type": "markdown",
   "metadata": {},
   "source": [
    "Pasamos los datos numéricos a integer, para poder operar con ellos. "
   ]
  },
  {
   "cell_type": "code",
   "execution_count": 33,
   "metadata": {},
   "outputs": [],
   "source": [
    "for i in fruits:\n",
    "    data[i]=data[i].astype('int32')"
   ]
  },
  {
   "cell_type": "markdown",
   "metadata": {},
   "source": [
    "Generamos la tabla de consumo, calculando la diferencia entre un dia y su anterior. "
   ]
  },
  {
   "cell_type": "code",
   "execution_count": 34,
   "metadata": {},
   "outputs": [
    {
     "output_type": "execute_result",
     "data": {
      "text/plain": "         date                 image_name  apple  pear  lemon  orange  banana  \\\n0  20/02/2020    IMG_20200518_165912.jpg    NaN   NaN    NaN     NaN     NaN   \n1  21/02/2020  IMG_20200518_165931_1.jpg    1.0   0.0    2.0     1.0    -3.0   \n2  22/02/2020    IMG_20200518_165844.jpg    0.0   0.0   -2.0    -1.0     3.0   \n3  23/02/2020    IMG_20200518_165857.jpg    0.0   0.0    1.0     1.0     1.0   \n4  24/02/2020    IMG_20200518_165839.jpg    0.0  -1.0   -1.0    -1.0    -1.0   \n\n   pineapple  \n0        NaN  \n1        0.0  \n2        0.0  \n3        0.0  \n4        0.0  ",
      "text/html": "<div>\n<style scoped>\n    .dataframe tbody tr th:only-of-type {\n        vertical-align: middle;\n    }\n\n    .dataframe tbody tr th {\n        vertical-align: top;\n    }\n\n    .dataframe thead th {\n        text-align: right;\n    }\n</style>\n<table border=\"1\" class=\"dataframe\">\n  <thead>\n    <tr style=\"text-align: right;\">\n      <th></th>\n      <th>date</th>\n      <th>image_name</th>\n      <th>apple</th>\n      <th>pear</th>\n      <th>lemon</th>\n      <th>orange</th>\n      <th>banana</th>\n      <th>pineapple</th>\n    </tr>\n  </thead>\n  <tbody>\n    <tr>\n      <th>0</th>\n      <td>20/02/2020</td>\n      <td>IMG_20200518_165912.jpg</td>\n      <td>NaN</td>\n      <td>NaN</td>\n      <td>NaN</td>\n      <td>NaN</td>\n      <td>NaN</td>\n      <td>NaN</td>\n    </tr>\n    <tr>\n      <th>1</th>\n      <td>21/02/2020</td>\n      <td>IMG_20200518_165931_1.jpg</td>\n      <td>1.0</td>\n      <td>0.0</td>\n      <td>2.0</td>\n      <td>1.0</td>\n      <td>-3.0</td>\n      <td>0.0</td>\n    </tr>\n    <tr>\n      <th>2</th>\n      <td>22/02/2020</td>\n      <td>IMG_20200518_165844.jpg</td>\n      <td>0.0</td>\n      <td>0.0</td>\n      <td>-2.0</td>\n      <td>-1.0</td>\n      <td>3.0</td>\n      <td>0.0</td>\n    </tr>\n    <tr>\n      <th>3</th>\n      <td>23/02/2020</td>\n      <td>IMG_20200518_165857.jpg</td>\n      <td>0.0</td>\n      <td>0.0</td>\n      <td>1.0</td>\n      <td>1.0</td>\n      <td>1.0</td>\n      <td>0.0</td>\n    </tr>\n    <tr>\n      <th>4</th>\n      <td>24/02/2020</td>\n      <td>IMG_20200518_165839.jpg</td>\n      <td>0.0</td>\n      <td>-1.0</td>\n      <td>-1.0</td>\n      <td>-1.0</td>\n      <td>-1.0</td>\n      <td>0.0</td>\n    </tr>\n  </tbody>\n</table>\n</div>"
     },
     "metadata": {},
     "execution_count": 34
    }
   ],
   "source": [
    "data_diff=data.copy()\n",
    "for i in fruits:\n",
    "    data_diff[i]=data_diff[i].diff()\n",
    "data_diff.head()"
   ]
  },
  {
   "cell_type": "markdown",
   "metadata": {},
   "source": [
    "Generamos una tabla de compras, para crear un histórico, en la que añadiremos todos los incrementos de fruta detectados, es decir filas con valores positivos, que podrían deberse a compras realizadas."
   ]
  },
  {
   "cell_type": "code",
   "execution_count": 35,
   "metadata": {},
   "outputs": [
    {
     "output_type": "execute_result",
     "data": {
      "text/plain": "         date                 image_name  apple  pear  lemon  orange  banana  \\\n0  20/02/2020    IMG_20200518_165912.jpg    NaN   NaN    NaN     NaN     NaN   \n1  21/02/2020  IMG_20200518_165931_1.jpg    1.0   0.0    2.0     1.0     0.0   \n2  22/02/2020    IMG_20200518_165844.jpg    0.0   0.0    0.0     0.0     3.0   \n3  23/02/2020    IMG_20200518_165857.jpg    0.0   0.0    1.0     1.0     1.0   \n4  24/02/2020    IMG_20200518_165839.jpg    0.0   0.0    0.0     0.0     0.0   \n\n   pineapple  \n0        NaN  \n1        0.0  \n2        0.0  \n3        0.0  \n4        0.0  ",
      "text/html": "<div>\n<style scoped>\n    .dataframe tbody tr th:only-of-type {\n        vertical-align: middle;\n    }\n\n    .dataframe tbody tr th {\n        vertical-align: top;\n    }\n\n    .dataframe thead th {\n        text-align: right;\n    }\n</style>\n<table border=\"1\" class=\"dataframe\">\n  <thead>\n    <tr style=\"text-align: right;\">\n      <th></th>\n      <th>date</th>\n      <th>image_name</th>\n      <th>apple</th>\n      <th>pear</th>\n      <th>lemon</th>\n      <th>orange</th>\n      <th>banana</th>\n      <th>pineapple</th>\n    </tr>\n  </thead>\n  <tbody>\n    <tr>\n      <th>0</th>\n      <td>20/02/2020</td>\n      <td>IMG_20200518_165912.jpg</td>\n      <td>NaN</td>\n      <td>NaN</td>\n      <td>NaN</td>\n      <td>NaN</td>\n      <td>NaN</td>\n      <td>NaN</td>\n    </tr>\n    <tr>\n      <th>1</th>\n      <td>21/02/2020</td>\n      <td>IMG_20200518_165931_1.jpg</td>\n      <td>1.0</td>\n      <td>0.0</td>\n      <td>2.0</td>\n      <td>1.0</td>\n      <td>0.0</td>\n      <td>0.0</td>\n    </tr>\n    <tr>\n      <th>2</th>\n      <td>22/02/2020</td>\n      <td>IMG_20200518_165844.jpg</td>\n      <td>0.0</td>\n      <td>0.0</td>\n      <td>0.0</td>\n      <td>0.0</td>\n      <td>3.0</td>\n      <td>0.0</td>\n    </tr>\n    <tr>\n      <th>3</th>\n      <td>23/02/2020</td>\n      <td>IMG_20200518_165857.jpg</td>\n      <td>0.0</td>\n      <td>0.0</td>\n      <td>1.0</td>\n      <td>1.0</td>\n      <td>1.0</td>\n      <td>0.0</td>\n    </tr>\n    <tr>\n      <th>4</th>\n      <td>24/02/2020</td>\n      <td>IMG_20200518_165839.jpg</td>\n      <td>0.0</td>\n      <td>0.0</td>\n      <td>0.0</td>\n      <td>0.0</td>\n      <td>0.0</td>\n      <td>0.0</td>\n    </tr>\n  </tbody>\n</table>\n</div>"
     },
     "metadata": {},
     "execution_count": 35
    }
   ],
   "source": [
    "data_pos=data_diff.copy()\n",
    "for i in fruits:\n",
    "    data_pos.loc[data_pos[i] < 0, i] = 0\n",
    "\n",
    "data_pos.head()"
   ]
  },
  {
   "cell_type": "markdown",
   "metadata": {},
   "source": [
    "De la tabla de compras generada, eliminamos las filas en las que no se ha comprado nada, no ha habido compra. "
   ]
  },
  {
   "cell_type": "code",
   "execution_count": 36,
   "metadata": {},
   "outputs": [
    {
     "output_type": "execute_result",
     "data": {
      "text/plain": "         date                 image_name  apple  pear  lemon  orange  banana  \\\n0  20/02/2020    IMG_20200518_165912.jpg    NaN   NaN    NaN     NaN     NaN   \n1  21/02/2020  IMG_20200518_165931_1.jpg    1.0   0.0    2.0     1.0     0.0   \n2  22/02/2020    IMG_20200518_165844.jpg    0.0   0.0    0.0     0.0     3.0   \n3  23/02/2020    IMG_20200518_165857.jpg    0.0   0.0    1.0     1.0     1.0   \n6  26/02/2020    IMG_20200518_165828.jpg    0.0   0.0    2.0     0.0     0.0   \n\n   pineapple  \n0        NaN  \n1        0.0  \n2        0.0  \n3        0.0  \n6        0.0  ",
      "text/html": "<div>\n<style scoped>\n    .dataframe tbody tr th:only-of-type {\n        vertical-align: middle;\n    }\n\n    .dataframe tbody tr th {\n        vertical-align: top;\n    }\n\n    .dataframe thead th {\n        text-align: right;\n    }\n</style>\n<table border=\"1\" class=\"dataframe\">\n  <thead>\n    <tr style=\"text-align: right;\">\n      <th></th>\n      <th>date</th>\n      <th>image_name</th>\n      <th>apple</th>\n      <th>pear</th>\n      <th>lemon</th>\n      <th>orange</th>\n      <th>banana</th>\n      <th>pineapple</th>\n    </tr>\n  </thead>\n  <tbody>\n    <tr>\n      <th>0</th>\n      <td>20/02/2020</td>\n      <td>IMG_20200518_165912.jpg</td>\n      <td>NaN</td>\n      <td>NaN</td>\n      <td>NaN</td>\n      <td>NaN</td>\n      <td>NaN</td>\n      <td>NaN</td>\n    </tr>\n    <tr>\n      <th>1</th>\n      <td>21/02/2020</td>\n      <td>IMG_20200518_165931_1.jpg</td>\n      <td>1.0</td>\n      <td>0.0</td>\n      <td>2.0</td>\n      <td>1.0</td>\n      <td>0.0</td>\n      <td>0.0</td>\n    </tr>\n    <tr>\n      <th>2</th>\n      <td>22/02/2020</td>\n      <td>IMG_20200518_165844.jpg</td>\n      <td>0.0</td>\n      <td>0.0</td>\n      <td>0.0</td>\n      <td>0.0</td>\n      <td>3.0</td>\n      <td>0.0</td>\n    </tr>\n    <tr>\n      <th>3</th>\n      <td>23/02/2020</td>\n      <td>IMG_20200518_165857.jpg</td>\n      <td>0.0</td>\n      <td>0.0</td>\n      <td>1.0</td>\n      <td>1.0</td>\n      <td>1.0</td>\n      <td>0.0</td>\n    </tr>\n    <tr>\n      <th>6</th>\n      <td>26/02/2020</td>\n      <td>IMG_20200518_165828.jpg</td>\n      <td>0.0</td>\n      <td>0.0</td>\n      <td>2.0</td>\n      <td>0.0</td>\n      <td>0.0</td>\n      <td>0.0</td>\n    </tr>\n  </tbody>\n</table>\n</div>"
     },
     "metadata": {},
     "execution_count": 36
    }
   ],
   "source": [
    "rows_zeros=data_pos[(data_pos['apple']==0) & (data_pos['lemon']==0) & (data_pos['orange']==0) & (data_pos['pear']==0) & (data_pos['pineapple']==0) & (data_pos['banana']==0)].index\n",
    "\n",
    "data_pos.drop(rows_zeros , inplace=True)\n",
    "data_pos.head()"
   ]
  },
  {
   "cell_type": "markdown",
   "metadata": {},
   "source": [
    "Procedemos a restar las piezas compradas de la tabla de consumos, de esta forma solo deberiamos ver valores iguales o inferiores a 0, en caso de detectar un valor por encima de 0 implicaria un fallo, puesto que si no se ha comprado fruta no puede haber más. Se reportará como un error y se sustituirá por un 0."
   ]
  },
  {
   "cell_type": "code",
   "execution_count": 37,
   "metadata": {},
   "outputs": [
    {
     "output_type": "execute_result",
     "data": {
      "text/plain": "         date                 image_name  apple  pear  lemon  orange  banana  \\\n0  20/02/2020    IMG_20200518_165912.jpg    NaN   NaN    NaN     NaN     NaN   \n1  21/02/2020  IMG_20200518_165931_1.jpg    0.0   0.0    0.0     0.0    -3.0   \n2  22/02/2020    IMG_20200518_165844.jpg    0.0   0.0   -2.0    -1.0     0.0   \n3  23/02/2020    IMG_20200518_165857.jpg    0.0   0.0    0.0     0.0     0.0   \n4  24/02/2020    IMG_20200518_165839.jpg    NaN   NaN    NaN     NaN     NaN   \n\n   pineapple  \n0        NaN  \n1        0.0  \n2        0.0  \n3        0.0  \n4        NaN  ",
      "text/html": "<div>\n<style scoped>\n    .dataframe tbody tr th:only-of-type {\n        vertical-align: middle;\n    }\n\n    .dataframe tbody tr th {\n        vertical-align: top;\n    }\n\n    .dataframe thead th {\n        text-align: right;\n    }\n</style>\n<table border=\"1\" class=\"dataframe\">\n  <thead>\n    <tr style=\"text-align: right;\">\n      <th></th>\n      <th>date</th>\n      <th>image_name</th>\n      <th>apple</th>\n      <th>pear</th>\n      <th>lemon</th>\n      <th>orange</th>\n      <th>banana</th>\n      <th>pineapple</th>\n    </tr>\n  </thead>\n  <tbody>\n    <tr>\n      <th>0</th>\n      <td>20/02/2020</td>\n      <td>IMG_20200518_165912.jpg</td>\n      <td>NaN</td>\n      <td>NaN</td>\n      <td>NaN</td>\n      <td>NaN</td>\n      <td>NaN</td>\n      <td>NaN</td>\n    </tr>\n    <tr>\n      <th>1</th>\n      <td>21/02/2020</td>\n      <td>IMG_20200518_165931_1.jpg</td>\n      <td>0.0</td>\n      <td>0.0</td>\n      <td>0.0</td>\n      <td>0.0</td>\n      <td>-3.0</td>\n      <td>0.0</td>\n    </tr>\n    <tr>\n      <th>2</th>\n      <td>22/02/2020</td>\n      <td>IMG_20200518_165844.jpg</td>\n      <td>0.0</td>\n      <td>0.0</td>\n      <td>-2.0</td>\n      <td>-1.0</td>\n      <td>0.0</td>\n      <td>0.0</td>\n    </tr>\n    <tr>\n      <th>3</th>\n      <td>23/02/2020</td>\n      <td>IMG_20200518_165857.jpg</td>\n      <td>0.0</td>\n      <td>0.0</td>\n      <td>0.0</td>\n      <td>0.0</td>\n      <td>0.0</td>\n      <td>0.0</td>\n    </tr>\n    <tr>\n      <th>4</th>\n      <td>24/02/2020</td>\n      <td>IMG_20200518_165839.jpg</td>\n      <td>NaN</td>\n      <td>NaN</td>\n      <td>NaN</td>\n      <td>NaN</td>\n      <td>NaN</td>\n      <td>NaN</td>\n    </tr>\n  </tbody>\n</table>\n</div>"
     },
     "metadata": {},
     "execution_count": 37
    }
   ],
   "source": [
    "\n",
    "for i in fruits:\n",
    "    data_diff[i]=data_diff[i].sub(data_pos[i])\n",
    "data_diff.head()"
   ]
  },
  {
   "cell_type": "code",
   "execution_count": 38,
   "metadata": {
    "tags": []
   },
   "outputs": [
    {
     "output_type": "stream",
     "name": "stdout",
     "text": "Datos validados correctamente, no hay ningún incremento de fruta que no se deba a una compra\n"
    }
   ],
   "source": [
    "tmp_df=data_diff[(data_diff['apple']>0) | (data_diff['lemon']>0) | (data_diff['orange']>0) | (data_diff['pear']>0) | (data_diff['pineapple']>0) | (data_diff['banana']>0)]\n",
    "\n",
    "if not tmp_df.empty:\n",
    "    for i in fruits:\n",
    "        #Sustituimos todos los valores que han dado error por ser superiores a 0 de la tabla de consumos\n",
    "        data_diff.loc[data_diff[i] > 0, i] = 0\n",
    "    print(\"ERROR: se ha detectado un incremento de la cantidad de fruta, \\n sin haber reportado una compra. \\n La información erronea es la siguiente: \\n\",tmp_df)\n",
    "else:\n",
    "    print(\"Datos validados correctamente, no hay ningún incremento de fruta que no se deba a una compra\")"
   ]
  },
  {
   "cell_type": "code",
   "execution_count": 39,
   "metadata": {},
   "outputs": [
    {
     "output_type": "execute_result",
     "data": {
      "text/plain": "         date                 image_name  apple  pear  lemon  orange  banana  \\\n0  20/02/2020    IMG_20200518_165912.jpg    NaN   NaN    NaN     NaN     NaN   \n1  21/02/2020  IMG_20200518_165931_1.jpg    0.0   0.0    0.0     0.0    -3.0   \n2  22/02/2020    IMG_20200518_165844.jpg    0.0   0.0   -2.0    -1.0     0.0   \n3  23/02/2020    IMG_20200518_165857.jpg    0.0   0.0    0.0     0.0     0.0   \n4  24/02/2020    IMG_20200518_165839.jpg    NaN   NaN    NaN     NaN     NaN   \n\n   pineapple  \n0        NaN  \n1        0.0  \n2        0.0  \n3        0.0  \n4        NaN  ",
      "text/html": "<div>\n<style scoped>\n    .dataframe tbody tr th:only-of-type {\n        vertical-align: middle;\n    }\n\n    .dataframe tbody tr th {\n        vertical-align: top;\n    }\n\n    .dataframe thead th {\n        text-align: right;\n    }\n</style>\n<table border=\"1\" class=\"dataframe\">\n  <thead>\n    <tr style=\"text-align: right;\">\n      <th></th>\n      <th>date</th>\n      <th>image_name</th>\n      <th>apple</th>\n      <th>pear</th>\n      <th>lemon</th>\n      <th>orange</th>\n      <th>banana</th>\n      <th>pineapple</th>\n    </tr>\n  </thead>\n  <tbody>\n    <tr>\n      <th>0</th>\n      <td>20/02/2020</td>\n      <td>IMG_20200518_165912.jpg</td>\n      <td>NaN</td>\n      <td>NaN</td>\n      <td>NaN</td>\n      <td>NaN</td>\n      <td>NaN</td>\n      <td>NaN</td>\n    </tr>\n    <tr>\n      <th>1</th>\n      <td>21/02/2020</td>\n      <td>IMG_20200518_165931_1.jpg</td>\n      <td>0.0</td>\n      <td>0.0</td>\n      <td>0.0</td>\n      <td>0.0</td>\n      <td>-3.0</td>\n      <td>0.0</td>\n    </tr>\n    <tr>\n      <th>2</th>\n      <td>22/02/2020</td>\n      <td>IMG_20200518_165844.jpg</td>\n      <td>0.0</td>\n      <td>0.0</td>\n      <td>-2.0</td>\n      <td>-1.0</td>\n      <td>0.0</td>\n      <td>0.0</td>\n    </tr>\n    <tr>\n      <th>3</th>\n      <td>23/02/2020</td>\n      <td>IMG_20200518_165857.jpg</td>\n      <td>0.0</td>\n      <td>0.0</td>\n      <td>0.0</td>\n      <td>0.0</td>\n      <td>0.0</td>\n      <td>0.0</td>\n    </tr>\n    <tr>\n      <th>4</th>\n      <td>24/02/2020</td>\n      <td>IMG_20200518_165839.jpg</td>\n      <td>NaN</td>\n      <td>NaN</td>\n      <td>NaN</td>\n      <td>NaN</td>\n      <td>NaN</td>\n      <td>NaN</td>\n    </tr>\n  </tbody>\n</table>\n</div>"
     },
     "metadata": {},
     "execution_count": 39
    }
   ],
   "source": [
    "data_diff.head()"
   ]
  },
  {
   "cell_type": "code",
   "execution_count": 40,
   "metadata": {},
   "outputs": [
    {
     "output_type": "execute_result",
     "data": {
      "text/plain": "         date                 image_name  apple  pear  lemon  orange  banana  \\\n0  20/02/2020    IMG_20200518_165912.jpg    NaN   NaN    NaN     NaN     NaN   \n1  21/02/2020  IMG_20200518_165931_1.jpg    1.0   0.0    2.0     1.0     0.0   \n2  22/02/2020    IMG_20200518_165844.jpg    0.0   0.0    0.0     0.0     3.0   \n3  23/02/2020    IMG_20200518_165857.jpg    0.0   0.0    1.0     1.0     1.0   \n6  26/02/2020    IMG_20200518_165828.jpg    0.0   0.0    2.0     0.0     0.0   \n\n   pineapple  \n0        NaN  \n1        0.0  \n2        0.0  \n3        0.0  \n6        0.0  ",
      "text/html": "<div>\n<style scoped>\n    .dataframe tbody tr th:only-of-type {\n        vertical-align: middle;\n    }\n\n    .dataframe tbody tr th {\n        vertical-align: top;\n    }\n\n    .dataframe thead th {\n        text-align: right;\n    }\n</style>\n<table border=\"1\" class=\"dataframe\">\n  <thead>\n    <tr style=\"text-align: right;\">\n      <th></th>\n      <th>date</th>\n      <th>image_name</th>\n      <th>apple</th>\n      <th>pear</th>\n      <th>lemon</th>\n      <th>orange</th>\n      <th>banana</th>\n      <th>pineapple</th>\n    </tr>\n  </thead>\n  <tbody>\n    <tr>\n      <th>0</th>\n      <td>20/02/2020</td>\n      <td>IMG_20200518_165912.jpg</td>\n      <td>NaN</td>\n      <td>NaN</td>\n      <td>NaN</td>\n      <td>NaN</td>\n      <td>NaN</td>\n      <td>NaN</td>\n    </tr>\n    <tr>\n      <th>1</th>\n      <td>21/02/2020</td>\n      <td>IMG_20200518_165931_1.jpg</td>\n      <td>1.0</td>\n      <td>0.0</td>\n      <td>2.0</td>\n      <td>1.0</td>\n      <td>0.0</td>\n      <td>0.0</td>\n    </tr>\n    <tr>\n      <th>2</th>\n      <td>22/02/2020</td>\n      <td>IMG_20200518_165844.jpg</td>\n      <td>0.0</td>\n      <td>0.0</td>\n      <td>0.0</td>\n      <td>0.0</td>\n      <td>3.0</td>\n      <td>0.0</td>\n    </tr>\n    <tr>\n      <th>3</th>\n      <td>23/02/2020</td>\n      <td>IMG_20200518_165857.jpg</td>\n      <td>0.0</td>\n      <td>0.0</td>\n      <td>1.0</td>\n      <td>1.0</td>\n      <td>1.0</td>\n      <td>0.0</td>\n    </tr>\n    <tr>\n      <th>6</th>\n      <td>26/02/2020</td>\n      <td>IMG_20200518_165828.jpg</td>\n      <td>0.0</td>\n      <td>0.0</td>\n      <td>2.0</td>\n      <td>0.0</td>\n      <td>0.0</td>\n      <td>0.0</td>\n    </tr>\n  </tbody>\n</table>\n</div>"
     },
     "metadata": {},
     "execution_count": 40
    }
   ],
   "source": [
    "\n",
    "data_pos.head()"
   ]
  },
  {
   "cell_type": "code",
   "execution_count": 41,
   "metadata": {},
   "outputs": [
    {
     "output_type": "execute_result",
     "data": {
      "text/plain": "         date                 image_name  apple  pear  lemon  orange  banana  \\\n0  20/02/2020    IMG_20200518_165912.jpg      1     3      1       0       3   \n1  21/02/2020  IMG_20200518_165931_1.jpg      2     3      3       1       0   \n2  22/02/2020    IMG_20200518_165844.jpg      2     3      1       0       3   \n3  23/02/2020    IMG_20200518_165857.jpg      2     3      2       1       4   \n4  24/02/2020    IMG_20200518_165839.jpg      2     2      1       0       3   \n\n   pineapple  \n0          0  \n1          0  \n2          0  \n3          0  \n4          0  ",
      "text/html": "<div>\n<style scoped>\n    .dataframe tbody tr th:only-of-type {\n        vertical-align: middle;\n    }\n\n    .dataframe tbody tr th {\n        vertical-align: top;\n    }\n\n    .dataframe thead th {\n        text-align: right;\n    }\n</style>\n<table border=\"1\" class=\"dataframe\">\n  <thead>\n    <tr style=\"text-align: right;\">\n      <th></th>\n      <th>date</th>\n      <th>image_name</th>\n      <th>apple</th>\n      <th>pear</th>\n      <th>lemon</th>\n      <th>orange</th>\n      <th>banana</th>\n      <th>pineapple</th>\n    </tr>\n  </thead>\n  <tbody>\n    <tr>\n      <th>0</th>\n      <td>20/02/2020</td>\n      <td>IMG_20200518_165912.jpg</td>\n      <td>1</td>\n      <td>3</td>\n      <td>1</td>\n      <td>0</td>\n      <td>3</td>\n      <td>0</td>\n    </tr>\n    <tr>\n      <th>1</th>\n      <td>21/02/2020</td>\n      <td>IMG_20200518_165931_1.jpg</td>\n      <td>2</td>\n      <td>3</td>\n      <td>3</td>\n      <td>1</td>\n      <td>0</td>\n      <td>0</td>\n    </tr>\n    <tr>\n      <th>2</th>\n      <td>22/02/2020</td>\n      <td>IMG_20200518_165844.jpg</td>\n      <td>2</td>\n      <td>3</td>\n      <td>1</td>\n      <td>0</td>\n      <td>3</td>\n      <td>0</td>\n    </tr>\n    <tr>\n      <th>3</th>\n      <td>23/02/2020</td>\n      <td>IMG_20200518_165857.jpg</td>\n      <td>2</td>\n      <td>3</td>\n      <td>2</td>\n      <td>1</td>\n      <td>4</td>\n      <td>0</td>\n    </tr>\n    <tr>\n      <th>4</th>\n      <td>24/02/2020</td>\n      <td>IMG_20200518_165839.jpg</td>\n      <td>2</td>\n      <td>2</td>\n      <td>1</td>\n      <td>0</td>\n      <td>3</td>\n      <td>0</td>\n    </tr>\n  </tbody>\n</table>\n</div>"
     },
     "metadata": {},
     "execution_count": 41
    }
   ],
   "source": [
    "\n",
    "data.head()"
   ]
  },
  {
   "cell_type": "markdown",
   "metadata": {},
   "source": [
    "## Generamos métricas para la predicción de compra\n",
    "Calculamos la cantidad de fruta que se compra al día de manera más frecuente, en base al histórico de compras."
   ]
  },
  {
   "cell_type": "code",
   "execution_count": 42,
   "metadata": {
    "tags": []
   },
   "outputs": [
    {
     "output_type": "stream",
     "name": "stdout",
     "text": "La clase de fruta apple tiene como cantidad de fruta comprada mas frecuentemente:  1.0  con el numero de occurencias =  18  y la cantidad total comprada =  20\nLa clase de fruta pear tiene como cantidad de fruta comprada mas frecuentemente:  1.0  con el numero de occurencias =  13  y la cantidad total comprada =  16\nLa clase de fruta lemon tiene como cantidad de fruta comprada mas frecuentemente:  1.0  con el numero de occurencias =  18  y la cantidad total comprada =  22\nLa clase de fruta banana tiene como cantidad de fruta comprada mas frecuentemente:  1.0  con el numero de occurencias =  13  y la cantidad total comprada =  18\nLa clase de fruta pineapple tiene como cantidad de fruta comprada mas frecuentemente:  1.0  con el numero de occurencias =  4  y la cantidad total comprada =  7\nLa clase de fruta orange tiene como cantidad de fruta comprada mas frecuentemente:  1.0  con el numero de occurencias =  19  y la cantidad total comprada =  22\n"
    }
   ],
   "source": [
    "number_rows=data_pos.shape[0]\n",
    "cantidad_fruta={}\n",
    "for i in fruits:\n",
    "    s=data_pos[i].value_counts().sort_values(ascending=False)\n",
    "    \n",
    "    #print(data_pos[i].value_counts().sort_values(ascending=False))\n",
    "    j=s.index[s.index>0].values\n",
    "    number_of_fruit_bought=0\n",
    "    for elem in range(0, len(j)):\n",
    "        number_of_fruit_bought+=s[j[elem]]\n",
    "    #print(s)\n",
    "    print(\"La clase de fruta \"+i+\" tiene como cantidad de fruta comprada mas frecuentemente: \", j[0], \" con el numero de occurencias = \",s[j[0]], \" y la cantidad total comprada = \", number_of_fruit_bought)\n",
    "    cantidad_fruta[i]=j[0]"
   ]
  },
  {
   "cell_type": "markdown",
   "metadata": {},
   "source": [
    "Calculamos el consumo medio diario por tipo de fruta y el consumo diario medio de fruta."
   ]
  },
  {
   "cell_type": "code",
   "execution_count": 43,
   "metadata": {},
   "outputs": [],
   "source": [
    "data_diff[\"fruta\"] = data_diff[fruits].sum(axis=1)"
   ]
  },
  {
   "cell_type": "code",
   "execution_count": 44,
   "metadata": {
    "tags": []
   },
   "outputs": [
    {
     "output_type": "stream",
     "name": "stdout",
     "text": "La media de  apple  consumida por dia es:  1\nLa media de  pear  consumida por dia es:  1\nLa media de  lemon  consumida por dia es:  1\nLa media de  orange  consumida por dia es:  1\nLa media de  banana  consumida por dia es:  1\nLa media de  pineapple  consumida por dia es:  1\nLa media de  fruta  consumida por dia es:  1\n"
    }
   ],
   "source": [
    "\n",
    "import math\n",
    "media_consumo_fruta={}\n",
    "s=data_diff.mean()\n",
    "#print(data_diff.mean())\n",
    "for i,j in zip(data_diff._get_numeric_data().columns,range(0,len(s))):\n",
    "    if(i!=\"date\"):\n",
    "        print(\"La media de \", i, \" consumida por dia es: \",math.ceil(abs(s[j])))\n",
    "        media_consumo_fruta[i]=math.ceil(abs(s[j]))"
   ]
  },
  {
   "cell_type": "markdown",
   "metadata": {},
   "source": [
    "Calculamos la cantidad de piezas de fruta, por tipo, que hay en la nevera diariamente."
   ]
  },
  {
   "cell_type": "code",
   "execution_count": 45,
   "metadata": {
    "tags": []
   },
   "outputs": [
    {
     "output_type": "stream",
     "name": "stdout",
     "text": "La media de  apple  por dia en la nevera:  2\nLa media de  pear  por dia en la nevera:  1\nLa media de  lemon  por dia en la nevera:  1\nLa media de  orange  por dia en la nevera:  1\nLa media de  banana  por dia en la nevera:  2\nLa media de  pineapple  por dia en la nevera:  1\nLa media de  fruta  por dia en la nevera:  6\n"
    }
   ],
   "source": [
    "data[\"fruta\"] = data[fruits].sum(axis=1)\n",
    "s=data.mean()\n",
    "media_cantidad_fruta={}\n",
    "#print(data_diff.mean())\n",
    "for i,j in zip(data._get_numeric_data().columns,range(0,len(s))):\n",
    "    if(i!=\"date\"):\n",
    "        print(\"La media de \", i, \" por dia en la nevera: \",math.ceil(abs(s[j])))\n",
    "        media_cantidad_fruta[i]=math.ceil(abs(s[j]))"
   ]
  },
  {
   "cell_type": "markdown",
   "metadata": {},
   "source": [
    "Calculamos la media de dias que pasan entre compra y compra."
   ]
  },
  {
   "cell_type": "code",
   "execution_count": 46,
   "metadata": {
    "tags": []
   },
   "outputs": [
    {
     "output_type": "stream",
     "name": "stdout",
     "text": "La media de dias que pasan entre una compra y la siguiente es:  -1 days +09:12:19.726027\n"
    }
   ],
   "source": [
    "import datetime\n",
    "\n",
    "dates=pd.to_datetime(data_pos['date'])\n",
    "diff_dates=dates.diff()\n",
    "\n",
    "dates.head()\n",
    "dias_mean=diff_dates.mean()\n",
    "print(\"La media de dias que pasan entre una compra y la siguiente es: \", diff_dates.mean())\n",
    "\n"
   ]
  },
  {
   "cell_type": "markdown",
   "metadata": {},
   "source": [
    "## Predicción de qué se debe comprar\n",
    "Calculamos la cantidad de fruta que se debe comprar, dada la cantidad de fruta que se observa en la nevera, la que suele haber, la que se suele consumir y cada cuanto se suele ir a comprar."
   ]
  },
  {
   "cell_type": "code",
   "execution_count": 47,
   "metadata": {
    "tags": []
   },
   "outputs": [
    {
     "output_type": "stream",
     "name": "stdout",
     "text": "Teniendo en cuenta que se compra cada  -1   dias y que por tanto si el consumo diario es de  1 , consumiré  -1 apple\nQue actualmente hay  0 apple  en la nevera.\nQue lo habitual es tener en la nevera  2 apple\nDebo comprar:  2\nTeniendo en cuenta que se compra cada  -1   dias y que por tanto si el consumo diario es de  1 , consumiré  -1 pear\nQue actualmente hay  3 pear  en la nevera.\nQue lo habitual es tener en la nevera  1 pear\nDebo comprar:  0\nTeniendo en cuenta que se compra cada  -1   dias y que por tanto si el consumo diario es de  1 , consumiré  -1 lemon\nQue actualmente hay  2 lemon  en la nevera.\nQue lo habitual es tener en la nevera  1 lemon\nDebo comprar:  0\nTeniendo en cuenta que se compra cada  -1   dias y que por tanto si el consumo diario es de  1 , consumiré  -1 banana\nQue actualmente hay  1 banana  en la nevera.\nQue lo habitual es tener en la nevera  2 banana\nDebo comprar:  1\nTeniendo en cuenta que se compra cada  -1   dias y que por tanto si el consumo diario es de  1 , consumiré  -1 pineapple\nQue actualmente hay  2 pineapple  en la nevera.\nQue lo habitual es tener en la nevera  1 pineapple\nDebo comprar:  0\nTeniendo en cuenta que se compra cada  -1   dias y que por tanto si el consumo diario es de  1 , consumiré  -1 orange\nQue actualmente hay  0 orange  en la nevera.\nQue lo habitual es tener en la nevera  1 orange\nDebo comprar:  1\n\n\n##################################\n\nEn la nevera hay: \n{'apple': 0, 'pear': 3, 'lemon': 2, 'banana': 1, 'pineapple': 2, 'orange': 0}\n\n##################################\n\n\n##################################\n\nLa lista de la compra final es: \n{'apple': 2, 'pear': 0, 'lemon': 0, 'banana': 1, 'pineapple': 0, 'orange': 1}\n\n##################################\n"
    }
   ],
   "source": [
    "valor_actual_nevera=[0,3,2,1,2,0]\n",
    "final_dict_nevera={}\n",
    "for i,j in zip(fruits, valor_actual_nevera):\n",
    "    final_dict_nevera[i]=j\n",
    "import re\n",
    "final_dict={}\n",
    "for i,j in zip(fruits, valor_actual_nevera):\n",
    "    tardo_en_comprar=re.sub(\"days.*\",'',str(dias_mean))\n",
    "    cantidad_fruta=int(tardo_en_comprar)*media_consumo_fruta[i]\n",
    "    print(\"Teniendo en cuenta que se compra cada \", tardo_en_comprar, \" dias y que por tanto si el consumo diario es de \",media_consumo_fruta[i], \", consumiré \", cantidad_fruta, i)\n",
    "    print(\"Que actualmente hay \", j, i, \" en la nevera.\")\n",
    "    print(\"Que lo habitual es tener en la nevera \", media_cantidad_fruta[i], i )\n",
    "    res=media_cantidad_fruta[i]-j\n",
    "    if res > 0: \n",
    "        print(\"Debo comprar: \", max(res, cantidad_fruta-j))\n",
    "        final_dict[i]=max(res, cantidad_fruta-j)\n",
    "    else:\n",
    "        if(cantidad_fruta-j<=0):\n",
    "                print(\"Debo comprar: \", 0)\n",
    "                final_dict[i]=0\n",
    "        else:\n",
    "            final=cantidad_fruta+res\n",
    "            print(\"Debo comprar: \", final)\n",
    "            final_dict[i]=final\n",
    "    \n",
    "\n",
    "print(\"\\n\\n##################################\")\n",
    "print(\"\\nEn la nevera hay: \")\n",
    "print(final_dict_nevera)\n",
    "print(\"\\n##################################\")\n",
    "\n",
    "\n",
    "print(\"\\n\\n##################################\")\n",
    "print(\"\\nLa lista de la compra final es: \")\n",
    "print(final_dict)\n",
    "print(\"\\n##################################\")\n",
    "\n",
    "\n"
   ]
  },
  {
   "cell_type": "code",
   "execution_count": null,
   "metadata": {},
   "outputs": [],
   "source": []
  },
  {
   "cell_type": "markdown",
   "metadata": {},
   "source": []
  }
 ],
 "metadata": {
  "language_info": {
   "codemirror_mode": {
    "name": "ipython",
    "version": 3
   },
   "file_extension": ".py",
   "mimetype": "text/x-python",
   "name": "python",
   "nbconvert_exporter": "python",
   "pygments_lexer": "ipython3",
   "version": "3.6.0-final"
  },
  "orig_nbformat": 2,
  "kernelspec": {
   "name": "python36064bit6c9a6ce48de74fd2930b22545c4afa16",
   "display_name": "Python 3.6.0 64-bit"
  }
 },
 "nbformat": 4,
 "nbformat_minor": 2
}