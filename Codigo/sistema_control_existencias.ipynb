{
 "cells": [
  {
   "cell_type": "markdown",
   "metadata": {},
   "source": [
    "# Sistema de control de existencias\n",
    "## Detector de frutas en las imágenes\n",
    "En este apartado se detectan las piezas de fruta con el modelo entrenado y se apuntan los resultados en un csv por imagen. Generando un histórico de piezas de fruta por imagen y dia."
   ]
  },
  {
   "cell_type": "code",
   "execution_count": null,
   "metadata": {},
   "outputs": [],
   "source": [
    "import numpy as np\n",
    "import os\n",
    "import six.moves.urllib as urllib\n",
    "import sys\n",
    "import tarfile\n",
    "import tensorflow as tf\n",
    "import zipfile\n",
    "\n",
    "from collections import defaultdict\n",
    "from io import StringIO\n",
    "from matplotlib import pyplot as plt\n",
    "from PIL import Image\n",
    "\n",
    "# This is needed since the notebook is stored in the object_detection folder.\n",
    "sys.path.append(\"..\")\n",
    "from object_detection.utils import ops as utils_ops\n",
    "from object_detection.utils import label_map_util\n",
    "from object_detection.utils import visualization_utils as vis_util\n",
    "\n",
    "# This is needed to display the images.\n",
    "%matplotlib inline"
   ]
  },
  {
   "cell_type": "code",
   "execution_count": null,
   "metadata": {},
   "outputs": [],
   "source": [
    "# Path to frozen detection graph. This is the actual model that is used for the object detection.\n",
    "PATH_TO_FROZEN_GRAPH = 'mask_rcnn_inception_resnet_v2_atrous/frozen_inference_graph.pb'\n",
    "\n",
    "# List of the strings that is used to add correct label for each box.\n",
    "PATH_TO_LABELS = 'label_map.pbtxt'\n",
    "\n",
    "#Number of classes\n",
    "NUM_CLASSES = 6"
   ]
  },
  {
   "cell_type": "code",
   "execution_count": null,
   "metadata": {},
   "outputs": [],
   "source": [
    "detection_graph = tf.Graph()\n",
    "with detection_graph.as_default():\n",
    "  od_graph_def = tf.GraphDef()\n",
    "  with tf.gfile.GFile(PATH_TO_FROZEN_GRAPH, 'rb') as fid:\n",
    "    serialized_graph = fid.read()\n",
    "    od_graph_def.ParseFromString(serialized_graph)\n",
    "    tf.import_graph_def(od_graph_def, name='')"
   ]
  },
  {
   "cell_type": "code",
   "execution_count": null,
   "metadata": {},
   "outputs": [],
   "source": [
    "label_map = label_map_util.load_labelmap(PATH_TO_LABELS)\n",
    "categories = label_map_util.convert_label_map_to_categories(label_map, max_num_classes=NUM_CLASSES, use_display_name=True)\n",
    "category_index = label_map_util.create_category_index(categories)"
   ]
  },
  {
   "cell_type": "code",
   "execution_count": null,
   "metadata": {},
   "outputs": [],
   "source": [
    "def load_image_into_numpy_array(image):\n",
    "  (im_width, im_height) = image.size\n",
    "  return np.array(image.getdata()).reshape(\n",
    "      (im_height, im_width, 3)).astype(np.uint8)"
   ]
  },
  {
   "cell_type": "code",
   "execution_count": null,
   "metadata": {},
   "outputs": [],
   "source": [
    "images=os.listdir('drive/My Drive/Test')\n",
    "TEST_IMAGE_PATHS = [ os.path.join('drive/My Drive/Test', '{}'.format(i)) for i in images ]\n",
    "# Size, in inches, of the output images.\n",
    "IMAGE_SIZE = (12, 8)"
   ]
  },
  {
   "cell_type": "code",
   "execution_count": null,
   "metadata": {},
   "outputs": [],
   "source": [
    "def run_inference_for_single_image(image, graph):\n",
    "  with graph.as_default():\n",
    "    with tf.Session() as sess:\n",
    "      # Get handles to input and output tensors\n",
    "      ops = tf.get_default_graph().get_operations()\n",
    "      all_tensor_names = {output.name for op in ops for output in op.outputs}\n",
    "      tensor_dict = {}\n",
    "      for key in [\n",
    "          'num_detections', 'detection_boxes', 'detection_scores',\n",
    "          'detection_classes', 'detection_masks'\n",
    "      ]:\n",
    "        tensor_name = key + ':0'\n",
    "        if tensor_name in all_tensor_names:\n",
    "          tensor_dict[key] = tf.get_default_graph().get_tensor_by_name(\n",
    "              tensor_name)\n",
    "      if 'detection_masks' in tensor_dict:\n",
    "        # The following processing is only for single image\n",
    "        detection_boxes = tf.squeeze(tensor_dict['detection_boxes'], [0])\n",
    "        detection_masks = tf.squeeze(tensor_dict['detection_masks'], [0])\n",
    "        # Reframe is required to translate mask from box coordinates to image coordinates and fit the image size.\n",
    "        real_num_detection = tf.cast(tensor_dict['num_detections'][0], tf.int32)\n",
    "        detection_boxes = tf.slice(detection_boxes, [0, 0], [real_num_detection, -1])\n",
    "        detection_masks = tf.slice(detection_masks, [0, 0, 0], [real_num_detection, -1, -1])\n",
    "        detection_masks_reframed = utils_ops.reframe_box_masks_to_image_masks(\n",
    "            detection_masks, detection_boxes, image.shape[0], image.shape[1])\n",
    "        detection_masks_reframed = tf.cast(\n",
    "            tf.greater(detection_masks_reframed, 0.5), tf.uint8)\n",
    "        # Follow the convention by adding back the batch dimension\n",
    "        tensor_dict['detection_masks'] = tf.expand_dims(\n",
    "            detection_masks_reframed, 0)\n",
    "      image_tensor = tf.get_default_graph().get_tensor_by_name('image_tensor:0')\n",
    "\n",
    "      # Run inference\n",
    "      output_dict = sess.run(tensor_dict,\n",
    "                             feed_dict={image_tensor: np.expand_dims(image, 0)})\n",
    "\n",
    "      # all outputs are float32 numpy arrays, so convert types as appropriate\n",
    "      output_dict['num_detections'] = int(output_dict['num_detections'][0])\n",
    "      output_dict['detection_classes'] = output_dict[\n",
    "          'detection_classes'][0].astype(np.uint8)\n",
    "      output_dict['detection_boxes'] = output_dict['detection_boxes'][0]\n",
    "      output_dict['detection_scores'] = output_dict['detection_scores'][0]\n",
    "      if 'detection_masks' in output_dict:\n",
    "        output_dict['detection_masks'] = output_dict['detection_masks'][0]\n",
    "  return output_dict"
   ]
  },
  {
   "cell_type": "code",
   "execution_count": null,
   "metadata": {},
   "outputs": [],
   "source": [
    "import csv\n",
    "\n",
    "IMAGE_SIZE = (12, 8)\n",
    "date_c=1\n",
    "with open('cantidad.csv', mode='w') as csv_file:\n",
    "    fieldnames = ['date', 'image_name','apple', 'pear', 'lemon','orange','banana','pineapple']\n",
    "    writer = csv.DictWriter(csv_file, fieldnames=fieldnames)\n",
    "\n",
    "    writer.writeheader()\n",
    "    for image_path in TEST_IMAGE_PATHS:\n",
    "      file_name=os.path.basename(image_path)\n",
    "      print(file_name)\n",
    "      image = Image.open(image_path)\n",
    "      # the array based representation of the image will be used later in order to prepare the\n",
    "      # result image with boxes and labels on it.\n",
    "      image_np = load_image_into_numpy_array(image)\n",
    "      # Expand dimensions since the model expects images to have shape: [1, None, None, 3]\n",
    "      image_np_expanded = np.expand_dims(image_np, axis=0)\n",
    "      # Actual detection.\n",
    "      output_dict = run_inference_for_single_image(image_np, detection_graph)\n",
    "      vis_util.visualize_boxes_and_labels_on_image_array(\n",
    "          image_np,\n",
    "          output_dict['detection_boxes'],\n",
    "          output_dict['detection_classes'],\n",
    "          output_dict['detection_scores'],\n",
    "          category_index,\n",
    "          instance_masks=output_dict.get('detection_masks'),\n",
    "          use_normalized_coordinates=True,\n",
    "          line_thickness=8,\n",
    "          min_score_thresh=.4)\n",
    "      \n",
    "      save_in='drive/My Drive/TestRes/'+file_name\n",
    "      Image.fromarray(image_np).save(save_in)\n",
    "\n",
    "      boxes = output_dict['detection_boxes']\n",
    "      max_boxes_to_draw = boxes.shape[0]\n",
    "      scores = output_dict['detection_scores']\n",
    "      classes = output_dict['detection_classes']\n",
    "      masks = output_dict['detection_masks']\n",
    "      min_score_thresh=.4\n",
    "      fruit_counter=[0,0,0,0,0,0]\n",
    "      fruit_counter ={'apple':0,'pear':0,'lemon':0,'orange':0,'banana':0,'pineapple':0}\n",
    "      for i in range(min(max_boxes_to_draw, boxes.shape[0])):\n",
    "          if scores is None or scores[i] > min_score_thresh:\n",
    "              # boxes[i] is the box which will be drawn\n",
    "              cat=category_index.get(classes[i])\n",
    "              print (\"This box is gonna get used\", boxes[i], float(\"{:.2f}\".format(scores[i]*100)), cat['name'])\n",
    "              fruit_counter[cat['name']]+=1\n",
    "\n",
    "      print(\"Total fruit:\", fruit_counter)\n",
    "      fruit_counter['date']=date_c\n",
    "      fruit_counter['image_name']=file_name\n",
    "      date_c+=1\n",
    "      writer.writerow(fruit_counter)"
   ]
  },
  {
   "cell_type": "markdown",
   "metadata": {},
   "source": [
    "## Validación de la detección de fruta en las imágenes de producción"
   ]
  },
  {
   "cell_type": "code",
   "execution_count": 29,
   "metadata": {
    "tags": []
   },
   "outputs": [
    {
     "output_type": "stream",
     "name": "stdout",
     "text": "date                 image_name  apple  pear  lemon  orange  banana  \\\n0  20/02/2020    IMG_20200518_165912.jpg      1     3      1       0       3   \n1  21/02/2020  IMG_20200518_165931_1.jpg      2     3      3       1       0   \n2  22/02/2020    IMG_20200518_165844.jpg      2     3      1       0       3   \n3  23/02/2020    IMG_20200518_165857.jpg      2     3      2       1       4   \n4  24/02/2020    IMG_20200518_165839.jpg      2     2      1       0       3   \n\n   pineapple  \n0          0  \n1          0  \n2          0  \n3          0  \n4          0  \n"
    },
    {
     "output_type": "execute_result",
     "data": {
      "text/plain": "         date                 image_name  apple  pear  lemon  orange  banana  \\\n0  20/02/2020    IMG_20200518_165912.jpg      1     3      1       0       3   \n1  21/02/2020  IMG_20200518_165931_1.jpg      2     3      3       1       0   \n2  22/02/2020    IMG_20200518_165844.jpg      2     3      1       0       3   \n3  23/02/2020    IMG_20200518_165857.jpg      2     3      2       1       4   \n4  24/02/2020    IMG_20200518_165839.jpg      2     2      1       0       3   \n\n   pineapple  \n0          0  \n1          0  \n2          0  \n3          0  \n4          0  ",
      "text/html": "<div>\n<style scoped>\n    .dataframe tbody tr th:only-of-type {\n        vertical-align: middle;\n    }\n\n    .dataframe tbody tr th {\n        vertical-align: top;\n    }\n\n    .dataframe thead th {\n        text-align: right;\n    }\n</style>\n<table border=\"1\" class=\"dataframe\">\n  <thead>\n    <tr style=\"text-align: right;\">\n      <th></th>\n      <th>date</th>\n      <th>image_name</th>\n      <th>apple</th>\n      <th>pear</th>\n      <th>lemon</th>\n      <th>orange</th>\n      <th>banana</th>\n      <th>pineapple</th>\n    </tr>\n  </thead>\n  <tbody>\n    <tr>\n      <th>0</th>\n      <td>20/02/2020</td>\n      <td>IMG_20200518_165912.jpg</td>\n      <td>1</td>\n      <td>3</td>\n      <td>1</td>\n      <td>0</td>\n      <td>3</td>\n      <td>0</td>\n    </tr>\n    <tr>\n      <th>1</th>\n      <td>21/02/2020</td>\n      <td>IMG_20200518_165931_1.jpg</td>\n      <td>2</td>\n      <td>3</td>\n      <td>3</td>\n      <td>1</td>\n      <td>0</td>\n      <td>0</td>\n    </tr>\n    <tr>\n      <th>2</th>\n      <td>22/02/2020</td>\n      <td>IMG_20200518_165844.jpg</td>\n      <td>2</td>\n      <td>3</td>\n      <td>1</td>\n      <td>0</td>\n      <td>3</td>\n      <td>0</td>\n    </tr>\n    <tr>\n      <th>3</th>\n      <td>23/02/2020</td>\n      <td>IMG_20200518_165857.jpg</td>\n      <td>2</td>\n      <td>3</td>\n      <td>2</td>\n      <td>1</td>\n      <td>4</td>\n      <td>0</td>\n    </tr>\n    <tr>\n      <th>4</th>\n      <td>24/02/2020</td>\n      <td>IMG_20200518_165839.jpg</td>\n      <td>2</td>\n      <td>2</td>\n      <td>1</td>\n      <td>0</td>\n      <td>3</td>\n      <td>0</td>\n    </tr>\n  </tbody>\n</table>\n</div>"
     },
     "metadata": {},
     "execution_count": 29
    }
   ],
   "source": [
    "import csv\n",
    "fruits=['apple', 'pear', 'lemon', 'banana', 'pineapple', 'orange']\n",
    "\n",
    "import pandas as pd \n",
    "import pandas_ml as pdml\n",
    "from pandas_ml import ConfusionMatrix\n",
    "\n",
    "# Read data from file 'cantidad.csv' \n",
    "data = pd.read_csv(\"cantidad.csv\", sep=';') \n",
    "\n",
    "#Pasamos los datos numéricos a integer, para poder operar con ellos.\n",
    "for i in fruits:\n",
    "    data[i]=data[i].astype('int32')\n",
    "\n",
    "# Preview the first 5 lines of the loaded data \n",
    "print(data.head())\n",
    "\n",
    "# Read data from file 'cantidad_real.csv' \n",
    "data_real = pd.read_csv(\"cantidad_real.csv\", sep=';') \n",
    "\n",
    "#Pasamos los datos numéricos a integer, para poder operar con ellos.\n",
    "for i in fruits:\n",
    "    data_real[i]=data_real[i].astype('int32')\n",
    "\n",
    "# Preview the first 5 lines of the loaded data \n",
    "data_real.head()\n",
    "\n",
    "data.head()"
   ]
  },
  {
   "cell_type": "code",
   "execution_count": 83,
   "metadata": {
    "tags": []
   },
   "outputs": [
    {
     "output_type": "stream",
     "name": "stdout",
     "text": "Exactitud de la fruta  apple  :  67.31\nSensibilidad  apple  :  67.31\nPrecisión  apple  :  73.58\nExactitud de la fruta  pear  :  26.92\nSensibilidad  pear  :  26.92\nPrecisión  pear  :  33.86\nExactitud de la fruta  lemon  :  32.69\nSensibilidad  lemon  :  32.69\nPrecisión  lemon  :  41.44\nExactitud de la fruta  banana  :  67.31\nSensibilidad  banana  :  67.31\nPrecisión  banana  :  73.25\nExactitud de la fruta  pineapple  :  95.19\nSensibilidad  pineapple  :  95.19\nPrecisión  pineapple  :  99.05\nExactitud de la fruta  orange  :  21.15\nSensibilidad  orange  :  21.15\nPrecisión  orange  :  36.9\nLa exactitud total es de : 51.76\nLa sensibilidad total es de : 51.76\nLa precisión total es de : 59.68\n"
    }
   ],
   "source": [
    "from sklearn.metrics import *\n",
    "ex=0\n",
    "sen=0\n",
    "prec=0\n",
    "for i in fruits:\n",
    "    print ('Exactitud de la fruta ', i, \" : \", round(accuracy_score(data_real[i], data[i])*100,2))\n",
    "    ex=ex+round(accuracy_score(data_real[i], data[i])*100,2)\n",
    "\n",
    "    print ('Sensibilidad ', i, \" : \", round(recall_score(data_real[i], data[i],\n",
    "                                average='weighted')*100,2))\n",
    "    sen=sen+round(recall_score(data_real[i], data[i],\n",
    "                                average='weighted')*100,2)\n",
    "    print ('Precisión ', i, \" : \", round(precision_score(data_real[i], data[i],\n",
    "                                        average='weighted')*100, 2))\n",
    "    prec=prec+round(precision_score(data_real[i], data[i],\n",
    "                                        average='weighted')*100, 2)\n",
    "print(\"La exactitud total es de :\",round(ex/6,2) )\n",
    "print(\"La sensibilidad total es de :\",round(sen/6,2) )\n",
    "print(\"La precisión total es de :\",round(prec/6,2) )"
   ]
  },
  {
   "cell_type": "markdown",
   "metadata": {},
   "source": [
    "## Tratamiento de los datos para la predicción de compra"
   ]
  },
  {
   "cell_type": "code",
   "execution_count": 32,
   "metadata": {},
   "outputs": [
    {
     "output_type": "execute_result",
     "data": {
      "text/plain": "         date                 image_name  apple  pear  lemon  orange  banana  \\\n0  20/02/2020    IMG_20200518_165912.jpg      1     3      1       0       3   \n1  21/02/2020  IMG_20200518_165931_1.jpg      2     3      3       1       0   \n2  22/02/2020    IMG_20200518_165844.jpg      2     3      1       0       3   \n3  23/02/2020    IMG_20200518_165857.jpg      2     3      2       1       4   \n4  24/02/2020    IMG_20200518_165839.jpg      2     2      1       0       3   \n\n   pineapple  \n0          0  \n1          0  \n2          0  \n3          0  \n4          0  ",
      "text/html": "<div>\n<style scoped>\n    .dataframe tbody tr th:only-of-type {\n        vertical-align: middle;\n    }\n\n    .dataframe tbody tr th {\n        vertical-align: top;\n    }\n\n    .dataframe thead th {\n        text-align: right;\n    }\n</style>\n<table border=\"1\" class=\"dataframe\">\n  <thead>\n    <tr style=\"text-align: right;\">\n      <th></th>\n      <th>date</th>\n      <th>image_name</th>\n      <th>apple</th>\n      <th>pear</th>\n      <th>lemon</th>\n      <th>orange</th>\n      <th>banana</th>\n      <th>pineapple</th>\n    </tr>\n  </thead>\n  <tbody>\n    <tr>\n      <th>0</th>\n      <td>20/02/2020</td>\n      <td>IMG_20200518_165912.jpg</td>\n      <td>1</td>\n      <td>3</td>\n      <td>1</td>\n      <td>0</td>\n      <td>3</td>\n      <td>0</td>\n    </tr>\n    <tr>\n      <th>1</th>\n      <td>21/02/2020</td>\n      <td>IMG_20200518_165931_1.jpg</td>\n      <td>2</td>\n      <td>3</td>\n      <td>3</td>\n      <td>1</td>\n      <td>0</td>\n      <td>0</td>\n    </tr>\n    <tr>\n      <th>2</th>\n      <td>22/02/2020</td>\n      <td>IMG_20200518_165844.jpg</td>\n      <td>2</td>\n      <td>3</td>\n      <td>1</td>\n      <td>0</td>\n      <td>3</td>\n      <td>0</td>\n    </tr>\n    <tr>\n      <th>3</th>\n      <td>23/02/2020</td>\n      <td>IMG_20200518_165857.jpg</td>\n      <td>2</td>\n      <td>3</td>\n      <td>2</td>\n      <td>1</td>\n      <td>4</td>\n      <td>0</td>\n    </tr>\n    <tr>\n      <th>4</th>\n      <td>24/02/2020</td>\n      <td>IMG_20200518_165839.jpg</td>\n      <td>2</td>\n      <td>2</td>\n      <td>1</td>\n      <td>0</td>\n      <td>3</td>\n      <td>0</td>\n    </tr>\n  </tbody>\n</table>\n</div>"
     },
     "metadata": {},
     "execution_count": 32
    }
   ],
   "source": [
    "# Read data from file 'cantidad.csv' \n",
    "data = pd.read_csv(\"cantidad.csv\", sep=';') \n",
    "# Preview the first 5 lines of the loaded data \n",
    "data.head()"
   ]
  },
  {
   "cell_type": "markdown",
   "metadata": {},
   "source": [
    "Pasamos los datos numéricos a integer, para poder operar con ellos. "
   ]
  },
  {
   "cell_type": "code",
   "execution_count": 33,
   "metadata": {},
   "outputs": [],
   "source": [
    "for i in fruits:\n",
    "    data[i]=data[i].astype('int32')"
   ]
  },
  {
   "cell_type": "markdown",
   "metadata": {},
   "source": [
    "Generamos la tabla de consumo, calculando la diferencia entre un dia y su anterior. "
   ]
  },
  {
   "cell_type": "code",
   "execution_count": 34,
   "metadata": {},
   "outputs": [
    {
     "output_type": "execute_result",
     "data": {
      "text/plain": "         date                 image_name  apple  pear  lemon  orange  banana  \\\n0  20/02/2020    IMG_20200518_165912.jpg    NaN   NaN    NaN     NaN     NaN   \n1  21/02/2020  IMG_20200518_165931_1.jpg    1.0   0.0    2.0     1.0    -3.0   \n2  22/02/2020    IMG_20200518_165844.jpg    0.0   0.0   -2.0    -1.0     3.0   \n3  23/02/2020    IMG_20200518_165857.jpg    0.0   0.0    1.0     1.0     1.0   \n4  24/02/2020    IMG_20200518_165839.jpg    0.0  -1.0   -1.0    -1.0    -1.0   \n\n   pineapple  \n0        NaN  \n1        0.0  \n2        0.0  \n3        0.0  \n4        0.0  ",
      "text/html": "<div>\n<style scoped>\n    .dataframe tbody tr th:only-of-type {\n        vertical-align: middle;\n    }\n\n    .dataframe tbody tr th {\n        vertical-align: top;\n    }\n\n    .dataframe thead th {\n        text-align: right;\n    }\n</style>\n<table border=\"1\" class=\"dataframe\">\n  <thead>\n    <tr style=\"text-align: right;\">\n      <th></th>\n      <th>date</th>\n      <th>image_name</th>\n      <th>apple</th>\n      <th>pear</th>\n      <th>lemon</th>\n      <th>orange</th>\n      <th>banana</th>\n      <th>pineapple</th>\n    </tr>\n  </thead>\n  <tbody>\n    <tr>\n      <th>0</th>\n      <td>20/02/2020</td>\n      <td>IMG_20200518_165912.jpg</td>\n      <td>NaN</td>\n      <td>NaN</td>\n      <td>NaN</td>\n      <td>NaN</td>\n      <td>NaN</td>\n      <td>NaN</td>\n    </tr>\n    <tr>\n      <th>1</th>\n      <td>21/02/2020</td>\n      <td>IMG_20200518_165931_1.jpg</td>\n      <td>1.0</td>\n      <td>0.0</td>\n      <td>2.0</td>\n      <td>1.0</td>\n      <td>-3.0</td>\n      <td>0.0</td>\n    </tr>\n    <tr>\n      <th>2</th>\n      <td>22/02/2020</td>\n      <td>IMG_20200518_165844.jpg</td>\n      <td>0.0</td>\n      <td>0.0</td>\n      <td>-2.0</td>\n      <td>-1.0</td>\n      <td>3.0</td>\n      <td>0.0</td>\n    </tr>\n    <tr>\n      <th>3</th>\n      <td>23/02/2020</td>\n      <td>IMG_20200518_165857.jpg</td>\n      <td>0.0</td>\n      <td>0.0</td>\n      <td>1.0</td>\n      <td>1.0</td>\n      <td>1.0</td>\n      <td>0.0</td>\n    </tr>\n    <tr>\n      <th>4</th>\n      <td>24/02/2020</td>\n      <td>IMG_20200518_165839.jpg</td>\n      <td>0.0</td>\n      <td>-1.0</td>\n      <td>-1.0</td>\n      <td>-1.0</td>\n      <td>-1.0</td>\n      <td>0.0</td>\n    </tr>\n  </tbody>\n</table>\n</div>"
     },
     "metadata": {},
     "execution_count": 34
    }
   ],
   "source": [
    "data_diff=data.copy()\n",
    "for i in fruits:\n",
    "    data_diff[i]=data_diff[i].diff()\n",
    "data_diff.head()"
   ]
  },
  {
   "cell_type": "markdown",
   "metadata": {},
   "source": [
    "Generamos una tabla de compras, para crear un histórico, en la que añadiremos todos los incrementos de fruta detectados, es decir filas con valores positivos, que podrían deberse a compras realizadas."
   ]
  },
  {
   "cell_type": "code",
   "execution_count": 35,
   "metadata": {},
   "outputs": [
    {
     "output_type": "execute_result",
     "data": {
      "text/plain": "         date                 image_name  apple  pear  lemon  orange  banana  \\\n0  20/02/2020    IMG_20200518_165912.jpg    NaN   NaN    NaN     NaN     NaN   \n1  21/02/2020  IMG_20200518_165931_1.jpg    1.0   0.0    2.0     1.0     0.0   \n2  22/02/2020    IMG_20200518_165844.jpg    0.0   0.0    0.0     0.0     3.0   \n3  23/02/2020    IMG_20200518_165857.jpg    0.0   0.0    1.0     1.0     1.0   \n4  24/02/2020    IMG_20200518_165839.jpg    0.0   0.0    0.0     0.0     0.0   \n\n   pineapple  \n0        NaN  \n1        0.0  \n2        0.0  \n3        0.0  \n4        0.0  ",
      "text/html": "<div>\n<style scoped>\n    .dataframe tbody tr th:only-of-type {\n        vertical-align: middle;\n    }\n\n    .dataframe tbody tr th {\n        vertical-align: top;\n    }\n\n    .dataframe thead th {\n        text-align: right;\n    }\n</style>\n<table border=\"1\" class=\"dataframe\">\n  <thead>\n    <tr style=\"text-align: right;\">\n      <th></th>\n      <th>date</th>\n      <th>image_name</th>\n      <th>apple</th>\n      <th>pear</th>\n      <th>lemon</th>\n      <th>orange</th>\n      <th>banana</th>\n      <th>pineapple</th>\n    </tr>\n  </thead>\n  <tbody>\n    <tr>\n      <th>0</th>\n      <td>20/02/2020</td>\n      <td>IMG_20200518_165912.jpg</td>\n      <td>NaN</td>\n      <td>NaN</td>\n      <td>NaN</td>\n      <td>NaN</td>\n      <td>NaN</td>\n      <td>NaN</td>\n    </tr>\n    <tr>\n      <th>1</th>\n      <td>21/02/2020</td>\n      <td>IMG_20200518_165931_1.jpg</td>\n      <td>1.0</td>\n      <td>0.0</td>\n      <td>2.0</td>\n      <td>1.0</td>\n      <td>0.0</td>\n      <td>0.0</td>\n    </tr>\n    <tr>\n      <th>2</th>\n      <td>22/02/2020</td>\n      <td>IMG_20200518_165844.jpg</td>\n      <td>0.0</td>\n      <td>0.0</td>\n      <td>0.0</td>\n      <td>0.0</td>\n      <td>3.0</td>\n      <td>0.0</td>\n    </tr>\n    <tr>\n      <th>3</th>\n      <td>23/02/2020</td>\n      <td>IMG_20200518_165857.jpg</td>\n      <td>0.0</td>\n      <td>0.0</td>\n      <td>1.0</td>\n      <td>1.0</td>\n      <td>1.0</td>\n      <td>0.0</td>\n    </tr>\n    <tr>\n      <th>4</th>\n      <td>24/02/2020</td>\n      <td>IMG_20200518_165839.jpg</td>\n      <td>0.0</td>\n      <td>0.0</td>\n      <td>0.0</td>\n      <td>0.0</td>\n      <td>0.0</td>\n      <td>0.0</td>\n    </tr>\n  </tbody>\n</table>\n</div>"
     },
     "metadata": {},
     "execution_count": 35
    }
   ],
   "source": [
    "data_pos=data_diff.copy()\n",
    "for i in fruits:\n",
    "    data_pos.loc[data_pos[i] < 0, i] = 0\n",
    "\n",
    "data_pos.head()"
   ]
  },
  {
   "cell_type": "markdown",
   "metadata": {},
   "source": [
    "De la tabla de compras generada, eliminamos las filas en las que no se ha comprado nada, no ha habido compra. "
   ]
  },
  {
   "cell_type": "code",
   "execution_count": 36,
   "metadata": {},
   "outputs": [
    {
     "output_type": "execute_result",
     "data": {
      "text/plain": "         date                 image_name  apple  pear  lemon  orange  banana  \\\n0  20/02/2020    IMG_20200518_165912.jpg    NaN   NaN    NaN     NaN     NaN   \n1  21/02/2020  IMG_20200518_165931_1.jpg    1.0   0.0    2.0     1.0     0.0   \n2  22/02/2020    IMG_20200518_165844.jpg    0.0   0.0    0.0     0.0     3.0   \n3  23/02/2020    IMG_20200518_165857.jpg    0.0   0.0    1.0     1.0     1.0   \n6  26/02/2020    IMG_20200518_165828.jpg    0.0   0.0    2.0     0.0     0.0   \n\n   pineapple  \n0        NaN  \n1        0.0  \n2        0.0  \n3        0.0  \n6        0.0  ",
      "text/html": "<div>\n<style scoped>\n    .dataframe tbody tr th:only-of-type {\n        vertical-align: middle;\n    }\n\n    .dataframe tbody tr th {\n        vertical-align: top;\n    }\n\n    .dataframe thead th {\n        text-align: right;\n    }\n</style>\n<table border=\"1\" class=\"dataframe\">\n  <thead>\n    <tr style=\"text-align: right;\">\n      <th></th>\n      <th>date</th>\n      <th>image_name</th>\n      <th>apple</th>\n      <th>pear</th>\n      <th>lemon</th>\n      <th>orange</th>\n      <th>banana</th>\n      <th>pineapple</th>\n    </tr>\n  </thead>\n  <tbody>\n    <tr>\n      <th>0</th>\n      <td>20/02/2020</td>\n      <td>IMG_20200518_165912.jpg</td>\n      <td>NaN</td>\n      <td>NaN</td>\n      <td>NaN</td>\n      <td>NaN</td>\n      <td>NaN</td>\n      <td>NaN</td>\n    </tr>\n    <tr>\n      <th>1</th>\n      <td>21/02/2020</td>\n      <td>IMG_20200518_165931_1.jpg</td>\n      <td>1.0</td>\n      <td>0.0</td>\n      <td>2.0</td>\n      <td>1.0</td>\n      <td>0.0</td>\n      <td>0.0</td>\n    </tr>\n    <tr>\n      <th>2</th>\n      <td>22/02/2020</td>\n      <td>IMG_20200518_165844.jpg</td>\n      <td>0.0</td>\n      <td>0.0</td>\n      <td>0.0</td>\n      <td>0.0</td>\n      <td>3.0</td>\n      <td>0.0</td>\n    </tr>\n    <tr>\n      <th>3</th>\n      <td>23/02/2020</td>\n      <td>IMG_20200518_165857.jpg</td>\n      <td>0.0</td>\n      <td>0.0</td>\n      <td>1.0</td>\n      <td>1.0</td>\n      <td>1.0</td>\n      <td>0.0</td>\n    </tr>\n    <tr>\n      <th>6</th>\n      <td>26/02/2020</td>\n      <td>IMG_20200518_165828.jpg</td>\n      <td>0.0</td>\n      <td>0.0</td>\n      <td>2.0</td>\n      <td>0.0</td>\n      <td>0.0</td>\n      <td>0.0</td>\n    </tr>\n  </tbody>\n</table>\n</div>"
     },
     "metadata": {},
     "execution_count": 36
    }
   ],
   "source": [
    "rows_zeros=data_pos[(data_pos['apple']==0) & (data_pos['lemon']==0) & (data_pos['orange']==0) & (data_pos['pear']==0) & (data_pos['pineapple']==0) & (data_pos['banana']==0)].index\n",
    "\n",
    "data_pos.drop(rows_zeros , inplace=True)\n",
    "data_pos.head()"
   ]
  },
  {
   "cell_type": "markdown",
   "metadata": {},
   "source": [
    "Procedemos a restar las piezas compradas de la tabla de consumos, de esta forma solo deberiamos ver valores iguales o inferiores a 0, en caso de detectar un valor por encima de 0 implicaria un fallo, puesto que si no se ha comprado fruta no puede haber más. Se reportará como un error y se sustituirá por un 0."
   ]
  },
  {
   "cell_type": "code",
   "execution_count": 37,
   "metadata": {},
   "outputs": [
    {
     "output_type": "execute_result",
     "data": {
      "text/plain": "         date                 image_name  apple  pear  lemon  orange  banana  \\\n0  20/02/2020    IMG_20200518_165912.jpg    NaN   NaN    NaN     NaN     NaN   \n1  21/02/2020  IMG_20200518_165931_1.jpg    0.0   0.0    0.0     0.0    -3.0   \n2  22/02/2020    IMG_20200518_165844.jpg    0.0   0.0   -2.0    -1.0     0.0   \n3  23/02/2020    IMG_20200518_165857.jpg    0.0   0.0    0.0     0.0     0.0   \n4  24/02/2020    IMG_20200518_165839.jpg    NaN   NaN    NaN     NaN     NaN   \n\n   pineapple  \n0        NaN  \n1        0.0  \n2        0.0  \n3        0.0  \n4        NaN  ",
      "text/html": "<div>\n<style scoped>\n    .dataframe tbody tr th:only-of-type {\n        vertical-align: middle;\n    }\n\n    .dataframe tbody tr th {\n        vertical-align: top;\n    }\n\n    .dataframe thead th {\n        text-align: right;\n    }\n</style>\n<table border=\"1\" class=\"dataframe\">\n  <thead>\n    <tr style=\"text-align: right;\">\n      <th></th>\n      <th>date</th>\n      <th>image_name</th>\n      <th>apple</th>\n      <th>pear</th>\n      <th>lemon</th>\n      <th>orange</th>\n      <th>banana</th>\n      <th>pineapple</th>\n    </tr>\n  </thead>\n  <tbody>\n    <tr>\n      <th>0</th>\n      <td>20/02/2020</td>\n      <td>IMG_20200518_165912.jpg</td>\n      <td>NaN</td>\n      <td>NaN</td>\n      <td>NaN</td>\n      <td>NaN</td>\n      <td>NaN</td>\n      <td>NaN</td>\n    </tr>\n    <tr>\n      <th>1</th>\n      <td>21/02/2020</td>\n      <td>IMG_20200518_165931_1.jpg</td>\n      <td>0.0</td>\n      <td>0.0</td>\n      <td>0.0</td>\n      <td>0.0</td>\n      <td>-3.0</td>\n      <td>0.0</td>\n    </tr>\n    <tr>\n      <th>2</th>\n      <td>22/02/2020</td>\n      <td>IMG_20200518_165844.jpg</td>\n      <td>0.0</td>\n      <td>0.0</td>\n      <td>-2.0</td>\n      <td>-1.0</td>\n      <td>0.0</td>\n      <td>0.0</td>\n    </tr>\n    <tr>\n      <th>3</th>\n      <td>23/02/2020</td>\n      <td>IMG_20200518_165857.jpg</td>\n      <td>0.0</td>\n      <td>0.0</td>\n      <td>0.0</td>\n      <td>0.0</td>\n      <td>0.0</td>\n      <td>0.0</td>\n    </tr>\n    <tr>\n      <th>4</th>\n      <td>24/02/2020</td>\n      <td>IMG_20200518_165839.jpg</td>\n      <td>NaN</td>\n      <td>NaN</td>\n      <td>NaN</td>\n      <td>NaN</td>\n      <td>NaN</td>\n      <td>NaN</td>\n    </tr>\n  </tbody>\n</table>\n</div>"
     },
     "metadata": {},
     "execution_count": 37
    }
   ],
   "source": [
    "\n",
    "for i in fruits:\n",
    "    data_diff[i]=data_diff[i].sub(data_pos[i])\n",
    "data_diff.head()"
   ]
  },
  {
   "cell_type": "code",
   "execution_count": 38,
   "metadata": {
    "tags": []
   },
   "outputs": [
    {
     "output_type": "stream",
     "name": "stdout",
     "text": "Datos validados correctamente, no hay ningún incremento de fruta que no se deba a una compra\n"
    }
   ],
   "source": [
    "tmp_df=data_diff[(data_diff['apple']>0) | (data_diff['lemon']>0) | (data_diff['orange']>0) | (data_diff['pear']>0) | (data_diff['pineapple']>0) | (data_diff['banana']>0)]\n",
    "\n",
    "if not tmp_df.empty:\n",
    "    for i in fruits:\n",
    "        #Sustituimos todos los valores que han dado error por ser superiores a 0 de la tabla de consumos\n",
    "        data_diff.loc[data_diff[i] > 0, i] = 0\n",
    "    print(\"ERROR: se ha detectado un incremento de la cantidad de fruta, \\n sin haber reportado una compra. \\n La información erronea es la siguiente: \\n\",tmp_df)\n",
    "else:\n",
    "    print(\"Datos validados correctamente, no hay ningún incremento de fruta que no se deba a una compra\")"
   ]
  },
  {
   "cell_type": "code",
   "execution_count": 39,
   "metadata": {},
   "outputs": [
    {
     "output_type": "execute_result",
     "data": {
      "text/plain": "         date                 image_name  apple  pear  lemon  orange  banana  \\\n0  20/02/2020    IMG_20200518_165912.jpg    NaN   NaN    NaN     NaN     NaN   \n1  21/02/2020  IMG_20200518_165931_1.jpg    0.0   0.0    0.0     0.0    -3.0   \n2  22/02/2020    IMG_20200518_165844.jpg    0.0   0.0   -2.0    -1.0     0.0   \n3  23/02/2020    IMG_20200518_165857.jpg    0.0   0.0    0.0     0.0     0.0   \n4  24/02/2020    IMG_20200518_165839.jpg    NaN   NaN    NaN     NaN     NaN   \n\n   pineapple  \n0        NaN  \n1        0.0  \n2        0.0  \n3        0.0  \n4        NaN  ",
      "text/html": "<div>\n<style scoped>\n    .dataframe tbody tr th:only-of-type {\n        vertical-align: middle;\n    }\n\n    .dataframe tbody tr th {\n        vertical-align: top;\n    }\n\n    .dataframe thead th {\n        text-align: right;\n    }\n</style>\n<table border=\"1\" class=\"dataframe\">\n  <thead>\n    <tr style=\"text-align: right;\">\n      <th></th>\n      <th>date</th>\n      <th>image_name</th>\n      <th>apple</th>\n      <th>pear</th>\n      <th>lemon</th>\n      <th>orange</th>\n      <th>banana</th>\n      <th>pineapple</th>\n    </tr>\n  </thead>\n  <tbody>\n    <tr>\n      <th>0</th>\n      <td>20/02/2020</td>\n      <td>IMG_20200518_165912.jpg</td>\n      <td>NaN</td>\n      <td>NaN</td>\n      <td>NaN</td>\n      <td>NaN</td>\n      <td>NaN</td>\n      <td>NaN</td>\n    </tr>\n    <tr>\n      <th>1</th>\n      <td>21/02/2020</td>\n      <td>IMG_20200518_165931_1.jpg</td>\n      <td>0.0</td>\n      <td>0.0</td>\n      <td>0.0</td>\n      <td>0.0</td>\n      <td>-3.0</td>\n      <td>0.0</td>\n    </tr>\n    <tr>\n      <th>2</th>\n      <td>22/02/2020</td>\n      <td>IMG_20200518_165844.jpg</td>\n      <td>0.0</td>\n      <td>0.0</td>\n      <td>-2.0</td>\n      <td>-1.0</td>\n      <td>0.0</td>\n      <td>0.0</td>\n    </tr>\n    <tr>\n      <th>3</th>\n      <td>23/02/2020</td>\n      <td>IMG_20200518_165857.jpg</td>\n      <td>0.0</td>\n      <td>0.0</td>\n      <td>0.0</td>\n      <td>0.0</td>\n      <td>0.0</td>\n      <td>0.0</td>\n    </tr>\n    <tr>\n      <th>4</th>\n      <td>24/02/2020</td>\n      <td>IMG_20200518_165839.jpg</td>\n      <td>NaN</td>\n      <td>NaN</td>\n      <td>NaN</td>\n      <td>NaN</td>\n      <td>NaN</td>\n      <td>NaN</td>\n    </tr>\n  </tbody>\n</table>\n</div>"
     },
     "metadata": {},
     "execution_count": 39
    }
   ],
   "source": [
    "data_diff.head()"
   ]
  },
  {
   "cell_type": "code",
   "execution_count": 40,
   "metadata": {},
   "outputs": [
    {
     "output_type": "execute_result",
     "data": {
      "text/plain": "         date                 image_name  apple  pear  lemon  orange  banana  \\\n0  20/02/2020    IMG_20200518_165912.jpg    NaN   NaN    NaN     NaN     NaN   \n1  21/02/2020  IMG_20200518_165931_1.jpg    1.0   0.0    2.0     1.0     0.0   \n2  22/02/2020    IMG_20200518_165844.jpg    0.0   0.0    0.0     0.0     3.0   \n3  23/02/2020    IMG_20200518_165857.jpg    0.0   0.0    1.0     1.0     1.0   \n6  26/02/2020    IMG_20200518_165828.jpg    0.0   0.0    2.0     0.0     0.0   \n\n   pineapple  \n0        NaN  \n1        0.0  \n2        0.0  \n3        0.0  \n6        0.0  ",
      "text/html": "<div>\n<style scoped>\n    .dataframe tbody tr th:only-of-type {\n        vertical-align: middle;\n    }\n\n    .dataframe tbody tr th {\n        vertical-align: top;\n    }\n\n    .dataframe thead th {\n        text-align: right;\n    }\n</style>\n<table border=\"1\" class=\"dataframe\">\n  <thead>\n    <tr style=\"text-align: right;\">\n      <th></th>\n      <th>date</th>\n      <th>image_name</th>\n      <th>apple</th>\n      <th>pear</th>\n      <th>lemon</th>\n      <th>orange</th>\n      <th>banana</th>\n      <th>pineapple</th>\n    </tr>\n  </thead>\n  <tbody>\n    <tr>\n      <th>0</th>\n      <td>20/02/2020</td>\n      <td>IMG_20200518_165912.jpg</td>\n      <td>NaN</td>\n      <td>NaN</td>\n      <td>NaN</td>\n      <td>NaN</td>\n      <td>NaN</td>\n      <td>NaN</td>\n    </tr>\n    <tr>\n      <th>1</th>\n      <td>21/02/2020</td>\n      <td>IMG_20200518_165931_1.jpg</td>\n      <td>1.0</td>\n      <td>0.0</td>\n      <td>2.0</td>\n      <td>1.0</td>\n      <td>0.0</td>\n      <td>0.0</td>\n    </tr>\n    <tr>\n      <th>2</th>\n      <td>22/02/2020</td>\n      <td>IMG_20200518_165844.jpg</td>\n      <td>0.0</td>\n      <td>0.0</td>\n      <td>0.0</td>\n      <td>0.0</td>\n      <td>3.0</td>\n      <td>0.0</td>\n    </tr>\n    <tr>\n      <th>3</th>\n      <td>23/02/2020</td>\n      <td>IMG_20200518_165857.jpg</td>\n      <td>0.0</td>\n      <td>0.0</td>\n      <td>1.0</td>\n      <td>1.0</td>\n      <td>1.0</td>\n      <td>0.0</td>\n    </tr>\n    <tr>\n      <th>6</th>\n      <td>26/02/2020</td>\n      <td>IMG_20200518_165828.jpg</td>\n      <td>0.0</td>\n      <td>0.0</td>\n      <td>2.0</td>\n      <td>0.0</td>\n      <td>0.0</td>\n      <td>0.0</td>\n    </tr>\n  </tbody>\n</table>\n</div>"
     },
     "metadata": {},
     "execution_count": 40
    }
   ],
   "source": [
    "\n",
    "data_pos.head()"
   ]
  },
  {
   "cell_type": "code",
   "execution_count": 41,
   "metadata": {},
   "outputs": [
    {
     "output_type": "execute_result",
     "data": {
      "text/plain": "         date                 image_name  apple  pear  lemon  orange  banana  \\\n0  20/02/2020    IMG_20200518_165912.jpg      1     3      1       0       3   \n1  21/02/2020  IMG_20200518_165931_1.jpg      2     3      3       1       0   \n2  22/02/2020    IMG_20200518_165844.jpg      2     3      1       0       3   \n3  23/02/2020    IMG_20200518_165857.jpg      2     3      2       1       4   \n4  24/02/2020    IMG_20200518_165839.jpg      2     2      1       0       3   \n\n   pineapple  \n0          0  \n1          0  \n2          0  \n3          0  \n4          0  ",
      "text/html": "<div>\n<style scoped>\n    .dataframe tbody tr th:only-of-type {\n        vertical-align: middle;\n    }\n\n    .dataframe tbody tr th {\n        vertical-align: top;\n    }\n\n    .dataframe thead th {\n        text-align: right;\n    }\n</style>\n<table border=\"1\" class=\"dataframe\">\n  <thead>\n    <tr style=\"text-align: right;\">\n      <th></th>\n      <th>date</th>\n      <th>image_name</th>\n      <th>apple</th>\n      <th>pear</th>\n      <th>lemon</th>\n      <th>orange</th>\n      <th>banana</th>\n      <th>pineapple</th>\n    </tr>\n  </thead>\n  <tbody>\n    <tr>\n      <th>0</th>\n      <td>20/02/2020</td>\n      <td>IMG_20200518_165912.jpg</td>\n      <td>1</td>\n      <td>3</td>\n      <td>1</td>\n      <td>0</td>\n      <td>3</td>\n      <td>0</td>\n    </tr>\n    <tr>\n      <th>1</th>\n      <td>21/02/2020</td>\n      <td>IMG_20200518_165931_1.jpg</td>\n      <td>2</td>\n      <td>3</td>\n      <td>3</td>\n      <td>1</td>\n      <td>0</td>\n      <td>0</td>\n    </tr>\n    <tr>\n      <th>2</th>\n      <td>22/02/2020</td>\n      <td>IMG_20200518_165844.jpg</td>\n      <td>2</td>\n      <td>3</td>\n      <td>1</td>\n      <td>0</td>\n      <td>3</td>\n      <td>0</td>\n    </tr>\n    <tr>\n      <th>3</th>\n      <td>23/02/2020</td>\n      <td>IMG_20200518_165857.jpg</td>\n      <td>2</td>\n      <td>3</td>\n      <td>2</td>\n      <td>1</td>\n      <td>4</td>\n      <td>0</td>\n    </tr>\n    <tr>\n      <th>4</th>\n      <td>24/02/2020</td>\n      <td>IMG_20200518_165839.jpg</td>\n      <td>2</td>\n      <td>2</td>\n      <td>1</td>\n      <td>0</td>\n      <td>3</td>\n      <td>0</td>\n    </tr>\n  </tbody>\n</table>\n</div>"
     },
     "metadata": {},
     "execution_count": 41
    }
   ],
   "source": [
    "\n",
    "data.head()"
   ]
  },
  {
   "cell_type": "markdown",
   "metadata": {},
   "source": [
    "## Generamos métricas para la predicción de compra\n",
    "Calculamos la cantidad de fruta que se compra al día de manera más frecuente, en base al histórico de compras."
   ]
  },
  {
   "cell_type": "code",
   "execution_count": 42,
   "metadata": {
    "tags": []
   },
   "outputs": [
    {
     "output_type": "stream",
     "name": "stdout",
     "text": "La clase de fruta apple tiene como cantidad de fruta comprada mas frecuentemente:  1.0  con el numero de occurencias =  18  y la cantidad total comprada =  20\nLa clase de fruta pear tiene como cantidad de fruta comprada mas frecuentemente:  1.0  con el numero de occurencias =  13  y la cantidad total comprada =  16\nLa clase de fruta lemon tiene como cantidad de fruta comprada mas frecuentemente:  1.0  con el numero de occurencias =  18  y la cantidad total comprada =  22\nLa clase de fruta banana tiene como cantidad de fruta comprada mas frecuentemente:  1.0  con el numero de occurencias =  13  y la cantidad total comprada =  18\nLa clase de fruta pineapple tiene como cantidad de fruta comprada mas frecuentemente:  1.0  con el numero de occurencias =  4  y la cantidad total comprada =  7\nLa clase de fruta orange tiene como cantidad de fruta comprada mas frecuentemente:  1.0  con el numero de occurencias =  19  y la cantidad total comprada =  22\n"
    }
   ],
   "source": [
    "number_rows=data_pos.shape[0]\n",
    "cantidad_fruta={}\n",
    "for i in fruits:\n",
    "    s=data_pos[i].value_counts().sort_values(ascending=False)\n",
    "    \n",
    "    #print(data_pos[i].value_counts().sort_values(ascending=False))\n",
    "    j=s.index[s.index>0].values\n",
    "    number_of_fruit_bought=0\n",
    "    for elem in range(0, len(j)):\n",
    "        number_of_fruit_bought+=s[j[elem]]\n",
    "    #print(s)\n",
    "    print(\"La clase de fruta \"+i+\" tiene como cantidad de fruta comprada mas frecuentemente: \", j[0], \" con el numero de occurencias = \",s[j[0]], \" y la cantidad total comprada = \", number_of_fruit_bought)\n",
    "    cantidad_fruta[i]=j[0]"
   ]
  },
  {
   "cell_type": "markdown",
   "metadata": {},
   "source": [
    "Calculamos el consumo medio diario por tipo de fruta y el consumo diario medio de fruta."
   ]
  },
  {
   "cell_type": "code",
   "execution_count": 43,
   "metadata": {},
   "outputs": [],
   "source": [
    "data_diff[\"fruta\"] = data_diff[fruits].sum(axis=1)"
   ]
  },
  {
   "cell_type": "code",
   "execution_count": 44,
   "metadata": {
    "tags": []
   },
   "outputs": [
    {
     "output_type": "stream",
     "name": "stdout",
     "text": "La media de  apple  consumida por dia es:  1\nLa media de  pear  consumida por dia es:  1\nLa media de  lemon  consumida por dia es:  1\nLa media de  orange  consumida por dia es:  1\nLa media de  banana  consumida por dia es:  1\nLa media de  pineapple  consumida por dia es:  1\nLa media de  fruta  consumida por dia es:  1\n"
    }
   ],
   "source": [
    "\n",
    "import math\n",
    "media_consumo_fruta={}\n",
    "s=data_diff.mean()\n",
    "#print(data_diff.mean())\n",
    "for i,j in zip(data_diff._get_numeric_data().columns,range(0,len(s))):\n",
    "    if(i!=\"date\"):\n",
    "        print(\"La media de \", i, \" consumida por dia es: \",math.ceil(abs(s[j])))\n",
    "        media_consumo_fruta[i]=math.ceil(abs(s[j]))"
   ]
  },
  {
   "cell_type": "markdown",
   "metadata": {},
   "source": [
    "Calculamos la cantidad de piezas de fruta, por tipo, que hay en la nevera diariamente."
   ]
  },
  {
   "cell_type": "code",
   "execution_count": 45,
   "metadata": {
    "tags": []
   },
   "outputs": [
    {
     "output_type": "stream",
     "name": "stdout",
     "text": "La media de  apple  por dia en la nevera:  2\nLa media de  pear  por dia en la nevera:  1\nLa media de  lemon  por dia en la nevera:  1\nLa media de  orange  por dia en la nevera:  1\nLa media de  banana  por dia en la nevera:  2\nLa media de  pineapple  por dia en la nevera:  1\nLa media de  fruta  por dia en la nevera:  6\n"
    }
   ],
   "source": [
    "data[\"fruta\"] = data[fruits].sum(axis=1)\n",
    "s=data.mean()\n",
    "media_cantidad_fruta={}\n",
    "#print(data_diff.mean())\n",
    "for i,j in zip(data._get_numeric_data().columns,range(0,len(s))):\n",
    "    if(i!=\"date\"):\n",
    "        print(\"La media de \", i, \" por dia en la nevera: \",math.ceil(abs(s[j])))\n",
    "        media_cantidad_fruta[i]=math.ceil(abs(s[j]))"
   ]
  },
  {
   "cell_type": "markdown",
   "metadata": {},
   "source": [
    "Calculamos la media de dias que pasan entre compra y compra."
   ]
  },
  {
   "cell_type": "code",
   "execution_count": 46,
   "metadata": {
    "tags": []
   },
   "outputs": [
    {
     "output_type": "stream",
     "name": "stdout",
     "text": "La media de dias que pasan entre una compra y la siguiente es:  -1 days +09:12:19.726027\n"
    }
   ],
   "source": [
    "import datetime\n",
    "\n",
    "dates=pd.to_datetime(data_pos['date'])\n",
    "diff_dates=dates.diff()\n",
    "\n",
    "dates.head()\n",
    "dias_mean=diff_dates.mean()\n",
    "print(\"La media de dias que pasan entre una compra y la siguiente es: \", diff_dates.mean())\n",
    "\n"
   ]
  },
  {
   "cell_type": "markdown",
   "metadata": {},
   "source": [
    "## Predicción de qué se debe comprar\n",
    "Calculamos la cantidad de fruta que se debe comprar, dada la cantidad de fruta que se observa en la nevera, la que suele haber, la que se suele consumir y cada cuanto se suele ir a comprar."
   ]
  },
  {
   "cell_type": "code",
   "execution_count": 47,
   "metadata": {
    "tags": []
   },
   "outputs": [
    {
     "output_type": "stream",
     "name": "stdout",
     "text": "Teniendo en cuenta que se compra cada  -1   dias y que por tanto si el consumo diario es de  1 , consumiré  -1 apple\nQue actualmente hay  0 apple  en la nevera.\nQue lo habitual es tener en la nevera  2 apple\nDebo comprar:  2\nTeniendo en cuenta que se compra cada  -1   dias y que por tanto si el consumo diario es de  1 , consumiré  -1 pear\nQue actualmente hay  3 pear  en la nevera.\nQue lo habitual es tener en la nevera  1 pear\nDebo comprar:  0\nTeniendo en cuenta que se compra cada  -1   dias y que por tanto si el consumo diario es de  1 , consumiré  -1 lemon\nQue actualmente hay  2 lemon  en la nevera.\nQue lo habitual es tener en la nevera  1 lemon\nDebo comprar:  0\nTeniendo en cuenta que se compra cada  -1   dias y que por tanto si el consumo diario es de  1 , consumiré  -1 banana\nQue actualmente hay  1 banana  en la nevera.\nQue lo habitual es tener en la nevera  2 banana\nDebo comprar:  1\nTeniendo en cuenta que se compra cada  -1   dias y que por tanto si el consumo diario es de  1 , consumiré  -1 pineapple\nQue actualmente hay  2 pineapple  en la nevera.\nQue lo habitual es tener en la nevera  1 pineapple\nDebo comprar:  0\nTeniendo en cuenta que se compra cada  -1   dias y que por tanto si el consumo diario es de  1 , consumiré  -1 orange\nQue actualmente hay  0 orange  en la nevera.\nQue lo habitual es tener en la nevera  1 orange\nDebo comprar:  1\n\n\n##################################\n\nEn la nevera hay: \n{'apple': 0, 'pear': 3, 'lemon': 2, 'banana': 1, 'pineapple': 2, 'orange': 0}\n\n##################################\n\n\n##################################\n\nLa lista de la compra final es: \n{'apple': 2, 'pear': 0, 'lemon': 0, 'banana': 1, 'pineapple': 0, 'orange': 1}\n\n##################################\n"
    }
   ],
   "source": [
    "valor_actual_nevera=[0,3,2,1,2,0]\n",
    "final_dict_nevera={}\n",
    "for i,j in zip(fruits, valor_actual_nevera):\n",
    "    final_dict_nevera[i]=j\n",
    "import re\n",
    "final_dict={}\n",
    "for i,j in zip(fruits, valor_actual_nevera):\n",
    "    tardo_en_comprar=re.sub(\"days.*\",'',str(dias_mean))\n",
    "    cantidad_fruta=int(tardo_en_comprar)*media_consumo_fruta[i]\n",
    "    print(\"Teniendo en cuenta que se compra cada \", tardo_en_comprar, \" dias y que por tanto si el consumo diario es de \",media_consumo_fruta[i], \", consumiré \", cantidad_fruta, i)\n",
    "    print(\"Que actualmente hay \", j, i, \" en la nevera.\")\n",
    "    print(\"Que lo habitual es tener en la nevera \", media_cantidad_fruta[i], i )\n",
    "    res=media_cantidad_fruta[i]-j\n",
    "    if res > 0: \n",
    "        print(\"Debo comprar: \", max(res, cantidad_fruta-j))\n",
    "        final_dict[i]=max(res, cantidad_fruta-j)\n",
    "    else:\n",
    "        if(cantidad_fruta-j<=0):\n",
    "                print(\"Debo comprar: \", 0)\n",
    "                final_dict[i]=0\n",
    "        else:\n",
    "            final=cantidad_fruta+res\n",
    "            print(\"Debo comprar: \", final)\n",
    "            final_dict[i]=final\n",
    "    \n",
    "\n",
    "print(\"\\n\\n##################################\")\n",
    "print(\"\\nEn la nevera hay: \")\n",
    "print(final_dict_nevera)\n",
    "print(\"\\n##################################\")\n",
    "\n",
    "\n",
    "print(\"\\n\\n##################################\")\n",
    "print(\"\\nLa lista de la compra final es: \")\n",
    "print(final_dict)\n",
    "print(\"\\n##################################\")\n",
    "\n",
    "\n"
   ]
  }
 ],
 "metadata": {
  "language_info": {
   "codemirror_mode": {
    "name": "ipython",
    "version": 3
   },
   "file_extension": ".py",
   "mimetype": "text/x-python",
   "name": "python",
   "nbconvert_exporter": "python",
   "pygments_lexer": "ipython3",
   "version": "3.6.0-final"
  },
  "orig_nbformat": 2,
  "kernelspec": {
   "name": "python36064bit6c9a6ce48de74fd2930b22545c4afa16",
   "display_name": "Python 3.6.0 64-bit"
  }
 },
 "nbformat": 4,
 "nbformat_minor": 2
}