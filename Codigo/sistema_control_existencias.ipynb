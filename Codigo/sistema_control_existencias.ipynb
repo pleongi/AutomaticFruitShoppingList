{
 "cells": [
  {
   "cell_type": "markdown",
   "metadata": {},
   "source": [
    "# Sistema de control de existencias\n",
    "## Detector de frutas en las imágenes\n",
    "En este apartado se detectan las piezas de fruta con el modelo entrenado y se apuntan los resultados en un csv por imagen. Generando un histórico de piezas de fruta por imagen y dia."
   ]
  },
  {
   "cell_type": "code",
   "execution_count": 1,
   "metadata": {},
   "outputs": [
    {
     "output_type": "error",
     "ename": "KeyboardInterrupt",
     "evalue": "",
     "traceback": [
      "\u001b[1;31m---------------------------------------------------------------------------\u001b[0m",
      "\u001b[1;31mKeyboardInterrupt\u001b[0m                         Traceback (most recent call last)",
      "\u001b[1;32m<ipython-input-1-0c2ee66c9955>\u001b[0m in \u001b[0;36m<module>\u001b[1;34m\u001b[0m\n\u001b[0;32m      9\u001b[0m \u001b[1;32mfrom\u001b[0m \u001b[0mcollections\u001b[0m \u001b[1;32mimport\u001b[0m \u001b[0mdefaultdict\u001b[0m\u001b[1;33m\u001b[0m\u001b[0m\n\u001b[0;32m     10\u001b[0m \u001b[1;32mfrom\u001b[0m \u001b[0mio\u001b[0m \u001b[1;32mimport\u001b[0m \u001b[0mStringIO\u001b[0m\u001b[1;33m\u001b[0m\u001b[0m\n\u001b[1;32m---> 11\u001b[1;33m \u001b[1;32mfrom\u001b[0m \u001b[0mmatplotlib\u001b[0m \u001b[1;32mimport\u001b[0m \u001b[0mpyplot\u001b[0m \u001b[1;32mas\u001b[0m \u001b[0mplt\u001b[0m\u001b[1;33m\u001b[0m\u001b[0m\n\u001b[0m\u001b[0;32m     12\u001b[0m \u001b[1;32mfrom\u001b[0m \u001b[0mPIL\u001b[0m \u001b[1;32mimport\u001b[0m \u001b[0mImage\u001b[0m\u001b[1;33m\u001b[0m\u001b[0m\n\u001b[0;32m     13\u001b[0m \u001b[1;33m\u001b[0m\u001b[0m\n",
      "\u001b[1;32m~\\AppData\\Local\\Programs\\Python\\Python36\\lib\\site-packages\\matplotlib\\pyplot.py\u001b[0m in \u001b[0;36m<module>\u001b[1;34m\u001b[0m\n\u001b[0;32m     30\u001b[0m \u001b[1;32mfrom\u001b[0m \u001b[0mcycler\u001b[0m \u001b[1;32mimport\u001b[0m \u001b[0mcycler\u001b[0m\u001b[1;33m\u001b[0m\u001b[0m\n\u001b[0;32m     31\u001b[0m \u001b[1;32mimport\u001b[0m \u001b[0mmatplotlib\u001b[0m\u001b[1;33m\u001b[0m\u001b[0m\n\u001b[1;32m---> 32\u001b[1;33m \u001b[1;32mimport\u001b[0m \u001b[0mmatplotlib\u001b[0m\u001b[1;33m.\u001b[0m\u001b[0mcolorbar\u001b[0m\u001b[1;33m\u001b[0m\u001b[0m\n\u001b[0m\u001b[0;32m     33\u001b[0m \u001b[1;32mimport\u001b[0m \u001b[0mmatplotlib\u001b[0m\u001b[1;33m.\u001b[0m\u001b[0mimage\u001b[0m\u001b[1;33m\u001b[0m\u001b[0m\n\u001b[0;32m     34\u001b[0m \u001b[1;32mfrom\u001b[0m \u001b[0mmatplotlib\u001b[0m \u001b[1;32mimport\u001b[0m \u001b[0mrcsetup\u001b[0m\u001b[1;33m,\u001b[0m \u001b[0mstyle\u001b[0m\u001b[1;33m\u001b[0m\u001b[0m\n",
      "\u001b[1;32m~\\AppData\\Local\\Programs\\Python\\Python36\\lib\\site-packages\\matplotlib\\colorbar.py\u001b[0m in \u001b[0;36m<module>\u001b[1;34m\u001b[0m\n\u001b[0;32m     26\u001b[0m \u001b[1;33m\u001b[0m\u001b[0m\n\u001b[0;32m     27\u001b[0m \u001b[1;32mimport\u001b[0m \u001b[0mmatplotlib\u001b[0m \u001b[1;32mas\u001b[0m \u001b[0mmpl\u001b[0m\u001b[1;33m\u001b[0m\u001b[0m\n\u001b[1;32m---> 28\u001b[1;33m \u001b[1;32mimport\u001b[0m \u001b[0mmatplotlib\u001b[0m\u001b[1;33m.\u001b[0m\u001b[0martist\u001b[0m \u001b[1;32mas\u001b[0m \u001b[0mmartist\u001b[0m\u001b[1;33m\u001b[0m\u001b[0m\n\u001b[0m\u001b[0;32m     29\u001b[0m \u001b[1;32mimport\u001b[0m \u001b[0mmatplotlib\u001b[0m\u001b[1;33m.\u001b[0m\u001b[0mcbook\u001b[0m \u001b[1;32mas\u001b[0m \u001b[0mcbook\u001b[0m\u001b[1;33m\u001b[0m\u001b[0m\n\u001b[0;32m     30\u001b[0m \u001b[1;32mimport\u001b[0m \u001b[0mmatplotlib\u001b[0m\u001b[1;33m.\u001b[0m\u001b[0mcollections\u001b[0m \u001b[1;32mas\u001b[0m \u001b[0mcollections\u001b[0m\u001b[1;33m\u001b[0m\u001b[0m\n",
      "\u001b[1;32m~\\AppData\\Local\\Programs\\Python\\Python36\\lib\\importlib\\_bootstrap.py\u001b[0m in \u001b[0;36m_find_and_load\u001b[1;34m(name, import_)\u001b[0m\n",
      "\u001b[1;32m~\\AppData\\Local\\Programs\\Python\\Python36\\lib\\importlib\\_bootstrap.py\u001b[0m in \u001b[0;36m_find_and_load_unlocked\u001b[1;34m(name, import_)\u001b[0m\n",
      "\u001b[1;32m~\\AppData\\Local\\Programs\\Python\\Python36\\lib\\importlib\\_bootstrap.py\u001b[0m in \u001b[0;36m_load_unlocked\u001b[1;34m(spec)\u001b[0m\n",
      "\u001b[1;32m~\\AppData\\Local\\Programs\\Python\\Python36\\lib\\importlib\\_bootstrap_external.py\u001b[0m in \u001b[0;36mexec_module\u001b[1;34m(self, module)\u001b[0m\n",
      "\u001b[1;32m~\\AppData\\Local\\Programs\\Python\\Python36\\lib\\importlib\\_bootstrap_external.py\u001b[0m in \u001b[0;36mget_code\u001b[1;34m(self, fullname)\u001b[0m\n",
      "\u001b[1;32m~\\AppData\\Local\\Programs\\Python\\Python36\\lib\\importlib\\_bootstrap_external.py\u001b[0m in \u001b[0;36mget_data\u001b[1;34m(self, path)\u001b[0m\n",
      "\u001b[1;31mKeyboardInterrupt\u001b[0m: "
     ]
    }
   ],
   "source": [
    "import numpy as np\n",
    "import os\n",
    "import six.moves.urllib as urllib\n",
    "import sys\n",
    "import tarfile\n",
    "import tensorflow as tf\n",
    "import zipfile\n",
    "\n",
    "from collections import defaultdict\n",
    "from io import StringIO\n",
    "from matplotlib import pyplot as plt\n",
    "from PIL import Image\n",
    "\n",
    "# This is needed since the notebook is stored in the object_detection folder.\n",
    "sys.path.append(\"..\")\n",
    "from object_detection.utils import ops as utils_ops\n",
    "from object_detection.utils import label_map_util\n",
    "from object_detection.utils import visualization_utils as vis_util\n",
    "\n",
    "# This is needed to display the images.\n",
    "%matplotlib inline"
   ]
  },
  {
   "cell_type": "code",
   "execution_count": null,
   "metadata": {},
   "outputs": [],
   "source": [
    "# Path to frozen detection graph. This is the actual model that is used for the object detection.\n",
    "PATH_TO_FROZEN_GRAPH = 'mask_rcnn_inception_resnet_v2_atrous2/frozen_inference_graph.pb'\n",
    "\n",
    "# List of the strings that is used to add correct label for each box.\n",
    "PATH_TO_LABELS = 'label_map.pbtxt'\n",
    "\n",
    "#Number of classes\n",
    "NUM_CLASSES = 6"
   ]
  },
  {
   "cell_type": "code",
   "execution_count": null,
   "metadata": {},
   "outputs": [],
   "source": [
    "detection_graph = tf.Graph()\n",
    "with detection_graph.as_default():\n",
    "  od_graph_def = tf.GraphDef()\n",
    "  with tf.gfile.GFile(PATH_TO_FROZEN_GRAPH, 'rb') as fid:\n",
    "    serialized_graph = fid.read()\n",
    "    od_graph_def.ParseFromString(serialized_graph)\n",
    "    tf.import_graph_def(od_graph_def, name='')"
   ]
  },
  {
   "cell_type": "code",
   "execution_count": null,
   "metadata": {},
   "outputs": [],
   "source": [
    "label_map = label_map_util.load_labelmap(PATH_TO_LABELS)\n",
    "categories = label_map_util.convert_label_map_to_categories(label_map, max_num_classes=NUM_CLASSES, use_display_name=True)\n",
    "category_index = label_map_util.create_category_index(categories)"
   ]
  },
  {
   "cell_type": "code",
   "execution_count": null,
   "metadata": {},
   "outputs": [],
   "source": [
    "def load_image_into_numpy_array(image):\n",
    "  (im_width, im_height) = image.size\n",
    "  return np.array(image.getdata()).reshape(\n",
    "      (im_height, im_width, 3)).astype(np.uint8)"
   ]
  },
  {
   "cell_type": "code",
   "execution_count": null,
   "metadata": {},
   "outputs": [],
   "source": [
    "images=os.listdir('drive/My Drive/Test')\n",
    "TEST_IMAGE_PATHS = [ os.path.join('drive/My Drive/Test', '{}'.format(i)) for i in images ]\n",
    "# Size, in inches, of the output images.\n",
    "IMAGE_SIZE = (12, 8)"
   ]
  },
  {
   "cell_type": "code",
   "execution_count": null,
   "metadata": {},
   "outputs": [],
   "source": [
    "def run_inference_for_single_image(image, graph):\n",
    "  with graph.as_default():\n",
    "    with tf.Session() as sess:\n",
    "      # Get handles to input and output tensors\n",
    "      ops = tf.get_default_graph().get_operations()\n",
    "      all_tensor_names = {output.name for op in ops for output in op.outputs}\n",
    "      tensor_dict = {}\n",
    "      for key in [\n",
    "          'num_detections', 'detection_boxes', 'detection_scores',\n",
    "          'detection_classes', 'detection_masks'\n",
    "      ]:\n",
    "        tensor_name = key + ':0'\n",
    "        if tensor_name in all_tensor_names:\n",
    "          tensor_dict[key] = tf.get_default_graph().get_tensor_by_name(\n",
    "              tensor_name)\n",
    "      if 'detection_masks' in tensor_dict:\n",
    "        # The following processing is only for single image\n",
    "        detection_boxes = tf.squeeze(tensor_dict['detection_boxes'], [0])\n",
    "        detection_masks = tf.squeeze(tensor_dict['detection_masks'], [0])\n",
    "        # Reframe is required to translate mask from box coordinates to image coordinates and fit the image size.\n",
    "        real_num_detection = tf.cast(tensor_dict['num_detections'][0], tf.int32)\n",
    "        detection_boxes = tf.slice(detection_boxes, [0, 0], [real_num_detection, -1])\n",
    "        detection_masks = tf.slice(detection_masks, [0, 0, 0], [real_num_detection, -1, -1])\n",
    "        detection_masks_reframed = utils_ops.reframe_box_masks_to_image_masks(\n",
    "            detection_masks, detection_boxes, image.shape[0], image.shape[1])\n",
    "        detection_masks_reframed = tf.cast(\n",
    "            tf.greater(detection_masks_reframed, 0.5), tf.uint8)\n",
    "        # Follow the convention by adding back the batch dimension\n",
    "        tensor_dict['detection_masks'] = tf.expand_dims(\n",
    "            detection_masks_reframed, 0)\n",
    "      image_tensor = tf.get_default_graph().get_tensor_by_name('image_tensor:0')\n",
    "\n",
    "      # Run inference\n",
    "      output_dict = sess.run(tensor_dict,\n",
    "                             feed_dict={image_tensor: np.expand_dims(image, 0)})\n",
    "\n",
    "      # all outputs are float32 numpy arrays, so convert types as appropriate\n",
    "      output_dict['num_detections'] = int(output_dict['num_detections'][0])\n",
    "      output_dict['detection_classes'] = output_dict[\n",
    "          'detection_classes'][0].astype(np.uint8)\n",
    "      output_dict['detection_boxes'] = output_dict['detection_boxes'][0]\n",
    "      output_dict['detection_scores'] = output_dict['detection_scores'][0]\n",
    "      if 'detection_masks' in output_dict:\n",
    "        output_dict['detection_masks'] = output_dict['detection_masks'][0]\n",
    "  return output_dict"
   ]
  },
  {
   "cell_type": "code",
   "execution_count": null,
   "metadata": {},
   "outputs": [],
   "source": [
    "import csv\n",
    "\n",
    "IMAGE_SIZE = (12, 8)\n",
    "date_c=1\n",
    "with open('cantidad.csv', mode='w') as csv_file:\n",
    "    fieldnames = ['date', 'image_name','apple', 'pear', 'lemon','orange','banana','pineapple']\n",
    "    writer = csv.DictWriter(csv_file, fieldnames=fieldnames)\n",
    "\n",
    "    writer.writeheader()\n",
    "    for image_path in TEST_IMAGE_PATHS:\n",
    "      file_name=os.path.basename(image_path)\n",
    "      print(file_name)\n",
    "      image = Image.open(image_path)\n",
    "      # the array based representation of the image will be used later in order to prepare the\n",
    "      # result image with boxes and labels on it.\n",
    "      image_np = load_image_into_numpy_array(image)\n",
    "      # Expand dimensions since the model expects images to have shape: [1, None, None, 3]\n",
    "      image_np_expanded = np.expand_dims(image_np, axis=0)\n",
    "      # Actual detection.\n",
    "      output_dict = run_inference_for_single_image(image_np, detection_graph)\n",
    "      vis_util.visualize_boxes_and_labels_on_image_array(\n",
    "          image_np,\n",
    "          output_dict['detection_boxes'],\n",
    "          output_dict['detection_classes'],\n",
    "          output_dict['detection_scores'],\n",
    "          category_index,\n",
    "          instance_masks=output_dict.get('detection_masks'),\n",
    "          use_normalized_coordinates=True,\n",
    "          line_thickness=8,\n",
    "          min_score_thresh=.4)\n",
    "      \n",
    "      save_in='drive/My Drive/TestRes/'+file_name\n",
    "      Image.fromarray(image_np).save(save_in)\n",
    "\n",
    "      boxes = output_dict['detection_boxes']\n",
    "      max_boxes_to_draw = boxes.shape[0]\n",
    "      scores = output_dict['detection_scores']\n",
    "      classes = output_dict['detection_classes']\n",
    "      masks = output_dict['detection_masks']\n",
    "      min_score_thresh=.4\n",
    "      fruit_counter=[0,0,0,0,0,0]\n",
    "      fruit_counter ={'apple':0,'pear':0,'lemon':0,'orange':0,'banana':0,'pineapple':0}\n",
    "      for i in range(min(max_boxes_to_draw, boxes.shape[0])):\n",
    "          if scores is None or scores[i] > min_score_thresh:\n",
    "              # boxes[i] is the box which will be drawn\n",
    "              cat=category_index.get(classes[i])\n",
    "              print (\"This box is gonna get used\", boxes[i], float(\"{:.2f}\".format(scores[i]*100)), cat['name'])\n",
    "              fruit_counter[cat['name']]+=1\n",
    "\n",
    "      print(\"Total fruit:\", fruit_counter)\n",
    "      fruit_counter['date']=date_c\n",
    "      fruit_counter['image_name']=file_name\n",
    "      date_c+=1\n",
    "      writer.writerow(fruit_counter)"
   ]
  },
  {
   "cell_type": "markdown",
   "metadata": {},
   "source": [
    "## Validación de la detección de fruta en las imágenes de producción"
   ]
  },
  {
   "cell_type": "code",
   "execution_count": 6,
   "metadata": {},
   "outputs": [
    {
     "output_type": "stream",
     "name": "stdout",
     "text": "date                 image_name  apple  pear  lemon  orange  banana  \\\n0  20/02/2020    IMG_20200518_165912.jpg      1     3      1       0       3   \n1  21/02/2020  IMG_20200518_165931_1.jpg      2     3      3       1       0   \n2  22/02/2020    IMG_20200518_165844.jpg      2     3      1       0       3   \n3  23/02/2020    IMG_20200518_165857.jpg      2     3      1       1       4   \n4  24/02/2020    IMG_20200518_165839.jpg      2     1      1       0       4   \n\n   pineapple  \n0          0  \n1          0  \n2          0  \n3          0  \n4          0  \n"
    },
    {
     "output_type": "execute_result",
     "data": {
      "text/plain": "         date                 image_name  apple  pear  lemon  orange  banana  \\\n0  20/02/2020    IMG_20200518_165912.jpg      1     3      1       0       3   \n1  21/02/2020  IMG_20200518_165931_1.jpg      2     3      3       1       0   \n2  22/02/2020    IMG_20200518_165844.jpg      2     3      1       0       3   \n3  23/02/2020    IMG_20200518_165857.jpg      2     3      1       1       4   \n4  24/02/2020    IMG_20200518_165839.jpg      2     1      1       0       4   \n\n   pineapple  \n0          0  \n1          0  \n2          0  \n3          0  \n4          0  ",
      "text/html": "<div>\n<style scoped>\n    .dataframe tbody tr th:only-of-type {\n        vertical-align: middle;\n    }\n\n    .dataframe tbody tr th {\n        vertical-align: top;\n    }\n\n    .dataframe thead th {\n        text-align: right;\n    }\n</style>\n<table border=\"1\" class=\"dataframe\">\n  <thead>\n    <tr style=\"text-align: right;\">\n      <th></th>\n      <th>date</th>\n      <th>image_name</th>\n      <th>apple</th>\n      <th>pear</th>\n      <th>lemon</th>\n      <th>orange</th>\n      <th>banana</th>\n      <th>pineapple</th>\n    </tr>\n  </thead>\n  <tbody>\n    <tr>\n      <th>0</th>\n      <td>20/02/2020</td>\n      <td>IMG_20200518_165912.jpg</td>\n      <td>1</td>\n      <td>3</td>\n      <td>1</td>\n      <td>0</td>\n      <td>3</td>\n      <td>0</td>\n    </tr>\n    <tr>\n      <th>1</th>\n      <td>21/02/2020</td>\n      <td>IMG_20200518_165931_1.jpg</td>\n      <td>2</td>\n      <td>3</td>\n      <td>3</td>\n      <td>1</td>\n      <td>0</td>\n      <td>0</td>\n    </tr>\n    <tr>\n      <th>2</th>\n      <td>22/02/2020</td>\n      <td>IMG_20200518_165844.jpg</td>\n      <td>2</td>\n      <td>3</td>\n      <td>1</td>\n      <td>0</td>\n      <td>3</td>\n      <td>0</td>\n    </tr>\n    <tr>\n      <th>3</th>\n      <td>23/02/2020</td>\n      <td>IMG_20200518_165857.jpg</td>\n      <td>2</td>\n      <td>3</td>\n      <td>1</td>\n      <td>1</td>\n      <td>4</td>\n      <td>0</td>\n    </tr>\n    <tr>\n      <th>4</th>\n      <td>24/02/2020</td>\n      <td>IMG_20200518_165839.jpg</td>\n      <td>2</td>\n      <td>1</td>\n      <td>1</td>\n      <td>0</td>\n      <td>4</td>\n      <td>0</td>\n    </tr>\n  </tbody>\n</table>\n</div>"
     },
     "metadata": {},
     "execution_count": 6
    }
   ],
   "source": [
    "import csv\n",
    "fruits=['apple', 'pear', 'lemon', 'banana', 'pineapple', 'orange']\n",
    "\n",
    "import pandas as pd \n",
    "import pandas_ml as pdml\n",
    "from pandas_ml import ConfusionMatrix\n",
    "\n",
    "# Read data from file 'cantidad.csv' \n",
    "data = pd.read_csv(\"cantidad.csv\", sep=';') \n",
    "\n",
    "#Pasamos los datos numéricos a integer, para poder operar con ellos.\n",
    "for i in fruits:\n",
    "    data[i]=data[i].astype('int32')\n",
    "\n",
    "# Preview the first 5 lines of the loaded data \n",
    "print(data.head())\n",
    "\n",
    "# Read data from file 'cantidad_real.csv' \n",
    "data_real = pd.read_csv(\"cantidad_real.csv\", sep=';') \n",
    "\n",
    "#Pasamos los datos numéricos a integer, para poder operar con ellos.\n",
    "for i in fruits:\n",
    "    data_real[i]=data_real[i].astype('int32')\n",
    "\n",
    "# Preview the first 5 lines of the loaded data \n",
    "data_real.head()\n",
    "\n",
    "data.head()"
   ]
  },
  {
   "cell_type": "code",
   "execution_count": 86,
   "metadata": {
    "tags": [
     "outputPrepend",
     "outputPrepend"
    ]
   },
   "outputs": [
    {
     "output_type": "stream",
     "name": "stdout",
     "text": " Value (Precision)               1  0.590909   0.209302   \nNPV: Neg Pred Value                    0.504854  0.764045   0.926471   \nFPR: False-out                                0  0.116883   0.350515   \nFDR: False Discovery Rate                     0  0.409091   0.790698   \nFNR: Miss Rate                         0.864407  0.617647   0.357143   \nACC: Accuracy                          0.540541   0.72973   0.648649   \nF1 score                               0.238806  0.464286   0.315789   \nMCC: Matthews correlation coefficient  0.261639  0.306968   0.199229   \nInformedness                           0.135593   0.26547   0.292342   \nMarkedness                             0.504854  0.354954   0.135773   \nPrevalence                             0.531532  0.306306   0.126126   \nLR+: Positive likelihood ratio              inf   3.27124    1.83403   \nLR-: Negative likelihood ratio         0.864407  0.699394   0.549887   \nDOR: Diagnostic odds ratio                  inf   4.67725    3.33529   \nFOR: False omission rate               0.495146  0.235955  0.0735294   \n\nClasses                                        3         4         5  \nPopulation                                   111       111       111  \nP: Condition positive                          4         0         0  \nN: Condition negative                        107       111       111  \nTest outcome positive                         32         4         2  \nTest outcome negative                         79       107       109  \nTP: True Positive                              0         0         0  \nTN: True Negative                             75       107       109  \nFP: False Positive                            32         4         2  \nFN: False Negative                             4         0         0  \nTPR: (Sensitivity, hit rate, recall)           0       NaN       NaN  \nTNR=SPC: (Specificity)                  0.700935  0.963964  0.981982  \nPPV: Pos Pred Value (Precision)                0         0         0  \nNPV: Neg Pred Value                     0.949367         1         1  \nFPR: False-out                          0.299065  0.036036  0.018018  \nFDR: False Discovery Rate                      1         1         1  \nFNR: Miss Rate                                 1       NaN       NaN  \nACC: Accuracy                           0.675676  0.963964  0.981982  \nF1 score                                       0         0         0  \nMCC: Matthews correlation coefficient  -0.123055       NaN       NaN  \nInformedness                           -0.299065       NaN       NaN  \nMarkedness                            -0.0506329         0         0  \nPrevalence                              0.036036         0         0  \nLR+: Positive likelihood ratio                 0       NaN       NaN  \nLR-: Negative likelihood ratio           1.42667       NaN       NaN  \nDOR: Diagnostic odds ratio                     0       NaN       NaN  \nFOR: False omission rate               0.0506329         0         0  \nNone\nPara la fruta  lemon  la exactitud total es del  38.73873873873874 %\nConfusion Matrix:\n\nPredicted   0   1   2   3  4  5  __all__\nActual                                  \n0          11  13  10   0  0  0       34\n1           0  14  20  11  2  1       48\n2           0   0  13   9  0  0       22\n3           0   0   0   5  1  1        7\n4           0   0   0   0  0  0        0\n5           0   0   0   0  0  0        0\n__all__    11  27  43  25  3  2      111\n\n\nOverall Statistics:\n\nAccuracy: 0.38738738738738737\n95% CI: (0.29640937785291926, 0.4845315026282294)\nNo Information Rate: ToDo\nP-Value [Acc > NIR]: 0.5358820168101004\nKappa: 0.2079748163693599\nMcnemar's Test P-Value: ToDo\n\n\nClass Statistics:\n\nClasses                                       0          1         2  \\\nPopulation                                  111        111       111   \nP: Condition positive                        34         48        22   \nN: Condition negative                        77         63        89   \nTest outcome positive                        11         27        43   \nTest outcome negative                       100         84        68   \nTP: True Positive                            11         14        13   \nTN: True Negative                            77         50        59   \nFP: False Positive                            0         13        30   \nFN: False Negative                           23         34         9   \nTPR: (Sensitivity, hit rate, recall)   0.323529   0.291667  0.590909   \nTNR=SPC: (Specificity)                        1   0.793651  0.662921   \nPPV: Pos Pred Value (Precision)               1   0.518519  0.302326   \nNPV: Neg Pred Value                        0.77   0.595238  0.867647   \nFPR: False-out                                0   0.206349  0.337079   \nFDR: False Discovery Rate                     0   0.481481  0.697674   \nFNR: Miss Rate                         0.676471   0.708333  0.409091   \nACC: Accuracy                          0.792793   0.576577  0.648649   \nF1 score                               0.488889   0.373333       0.4   \nMCC: Matthews correlation coefficient  0.499117  0.0985161  0.207712   \nInformedness                           0.323529  0.0853175   0.25383   \nMarkedness                                 0.77   0.113757  0.169973   \nPrevalence                             0.306306   0.432432  0.198198   \nLR+: Positive likelihood ratio              inf    1.41346   1.75303   \nLR-: Negative likelihood ratio         0.676471     0.8925  0.617103   \nDOR: Diagnostic odds ratio                  inf    1.58371   2.84074   \nFOR: False omission rate                   0.23   0.404762  0.132353   \n\nClasses                                        3         4         5  \nPopulation                                   111       111       111  \nP: Condition positive                          7         0         0  \nN: Condition negative                        104       111       111  \nTest outcome positive                         25         3         2  \nTest outcome negative                         86       108       109  \nTP: True Positive                              5         0         0  \nTN: True Negative                             84       108       109  \nFP: False Positive                            20         3         2  \nFN: False Negative                             2         0         0  \nTPR: (Sensitivity, hit rate, recall)    0.714286       NaN       NaN  \nTNR=SPC: (Specificity)                  0.807692  0.972973  0.981982  \nPPV: Pos Pred Value (Precision)              0.2         0         0  \nNPV: Neg Pred Value                     0.976744         1         1  \nFPR: False-out                          0.192308  0.027027  0.018018  \nFDR: False Discovery Rate                    0.8         1         1  \nFNR: Miss Rate                          0.285714       NaN       NaN  \nACC: Accuracy                           0.801802  0.972973  0.981982  \nF1 score                                  0.3125         0         0  \nMCC: Matthews correlation coefficient   0.303738       NaN       NaN  \nInformedness                            0.521978       NaN       NaN  \nMarkedness                              0.176744         0         0  \nPrevalence                             0.0630631         0         0  \nLR+: Positive likelihood ratio           3.71429       NaN       NaN  \nLR-: Negative likelihood ratio          0.353741       NaN       NaN  \nDOR: Diagnostic odds ratio                  10.5       NaN       NaN  \nFOR: False omission rate               0.0232558         0         0  \nNone\nPara la fruta  banana  la exactitud total es del  62.16216216216216 %\nConfusion Matrix:\n\nPredicted  0   1   2   3   4  __all__\nActual                               \n0          6   3   0   0   0        9\n1          0  19  16   3   0       38\n2          0   3  27   9   0       39\n3          0   0   0  13   8       21\n4          0   0   0   0   4        4\n__all__    6  25  43  25  12      111\n\n\nOverall Statistics:\n\nAccuracy: 0.6216216216216216\n95% CI: (0.5246247000871198, 0.7119574417572669)\nNo Information Rate: ToDo\nP-Value [Acc > NIR]: 5.137019812198824e-07\nKappa: 0.48582772692180426\nMcnemar's Test P-Value: ToDo\n\n\nClass Statistics:\n\nClasses                                        0          1         2  \\\nPopulation                                   111        111       111   \nP: Condition positive                          9         38        39   \nN: Condition negative                        102         73        72   \nTest outcome positive                          6         25        43   \nTest outcome negative                        105         86        68   \nTP: True Positive                              6         19        27   \nTN: True Negative                            102         67        56   \nFP: False Positive                             0          6        16   \nFN: False Negative                             3         19        12   \nTPR: (Sensitivity, hit rate, recall)    0.666667        0.5  0.692308   \nTNR=SPC: (Specificity)                         1   0.917808  0.777778   \nPPV: Pos Pred Value (Precision)                1       0.76  0.627907   \nNPV: Neg Pred Value                     0.971429    0.77907  0.823529   \nFPR: False-out                                 0  0.0821918  0.222222   \nFDR: False Discovery Rate                      0       0.24  0.372093   \nFNR: Miss Rate                          0.333333        0.5  0.307692   \nACC: Accuracy                           0.972973   0.774775  0.747748   \nF1 score                                     0.8   0.603175  0.658537   \nMCC: Matthews correlation coefficient   0.804748   0.474582  0.460667   \nInformedness                            0.666667   0.417808  0.470085   \nMarkedness                              0.971429    0.53907  0.451436   \nPrevalence                             0.0810811   0.342342  0.351351   \nLR+: Positive likelihood ratio               inf    6.08333   3.11538   \nLR-: Negative likelihood ratio          0.333333   0.544776  0.395604   \nDOR: Diagnostic odds ratio                   inf    11.1667     7.875   \nFOR: False omission rate               0.0285714    0.22093  0.176471   \n\nClasses                                        3          4  \nPopulation                                   111        111  \nP: Condition positive                         21          4  \nN: Condition negative                         90        107  \nTest outcome positive                         25         12  \nTest outcome negative                         86         99  \nTP: True Positive                             13          4  \nTN: True Negative                             78         99  \nFP: False Positive                            12          8  \nFN: False Negative                             8          0  \nTPR: (Sensitivity, hit rate, recall)    0.619048          1  \nTNR=SPC: (Specificity)                  0.866667   0.925234  \nPPV: Pos Pred Value (Precision)             0.52   0.333333  \nNPV: Neg Pred Value                     0.906977          1  \nFPR: False-out                          0.133333  0.0747664  \nFDR: False Discovery Rate                   0.48   0.666667  \nFNR: Miss Rate                          0.380952          0  \nACC: Accuracy                            0.81982   0.927928  \nF1 score                                0.565217        0.5  \nMCC: Matthews correlation coefficient   0.455399   0.555348  \nInformedness                            0.485714   0.925234  \nMarkedness                              0.426977   0.333333  \nPrevalence                              0.189189   0.036036  \nLR+: Positive likelihood ratio           4.64286     13.375  \nLR-: Negative likelihood ratio           0.43956          0  \nDOR: Diagnostic odds ratio               10.5625        inf  \nFOR: False omission rate               0.0930233          0  \nNone\nPara la fruta  pineapple  la exactitud total es del  92.7927927927928 %\nConfusion Matrix:\n\nPredicted   0   1  2  3  __all__\nActual                          \n0          61   0  0  0       61\n1           0  42  0  0       42\n2           0   7  0  0        7\n3           0   1  0  0        1\n__all__    61  50  0  0      111\n\n\nOverall Statistics:\n\nAccuracy: 0.9279279279279279\n95% CI: (0.8629227017977528, 0.9683721856133193)\nNo Information Rate: ToDo\nP-Value [Acc > NIR]: 1.3709968388256271e-18\nKappa: 0.8633846153846153\nMcnemar's Test P-Value: ToDo\n\n\nClass Statistics:\n\nClasses                                      0         1          2  \\\nPopulation                                 111       111        111   \nP: Condition positive                       61        42          7   \nN: Condition negative                       50        69        104   \nTest outcome positive                       61        50          0   \nTest outcome negative                       50        61        111   \nTP: True Positive                           61        42          0   \nTN: True Negative                           50        61        104   \nFP: False Positive                           0         8          0   \nFN: False Negative                           0         0          7   \nTPR: (Sensitivity, hit rate, recall)         1         1          0   \nTNR=SPC: (Specificity)                       1  0.884058          1   \nPPV: Pos Pred Value (Precision)              1      0.84        NaN   \nNPV: Neg Pred Value                          1         1   0.936937   \nFPR: False-out                               0  0.115942          0   \nFDR: False Discovery Rate                    0      0.16        NaN   \nFNR: Miss Rate                               0         0          1   \nACC: Accuracy                                1  0.927928   0.936937   \nF1 score                                     1  0.913043          0   \nMCC: Matthews correlation coefficient        1  0.861747        NaN   \nInformedness                                 1  0.884058          0   \nMarkedness                                   1      0.84        NaN   \nPrevalence                             0.54955  0.378378  0.0630631   \nLR+: Positive likelihood ratio             inf     8.625        NaN   \nLR-: Negative likelihood ratio               0         0          1   \nDOR: Diagnostic odds ratio                 inf       inf        NaN   \nFOR: False omission rate                     0         0  0.0630631   \n\nClasses                                         3  \nPopulation                                    111  \nP: Condition positive                           1  \nN: Condition negative                         110  \nTest outcome positive                           0  \nTest outcome negative                         111  \nTP: True Positive                               0  \nTN: True Negative                             110  \nFP: False Positive                              0  \nFN: False Negative                              1  \nTPR: (Sensitivity, hit rate, recall)            0  \nTNR=SPC: (Specificity)                          1  \nPPV: Pos Pred Value (Precision)               NaN  \nNPV: Neg Pred Value                      0.990991  \nFPR: False-out                                  0  \nFDR: False Discovery Rate                     NaN  \nFNR: Miss Rate                                  1  \nACC: Accuracy                            0.990991  \nF1 score                                        0  \nMCC: Matthews correlation coefficient         NaN  \nInformedness                                    0  \nMarkedness                                    NaN  \nPrevalence                             0.00900901  \nLR+: Positive likelihood ratio                NaN  \nLR-: Negative likelihood ratio                  1  \nDOR: Diagnostic odds ratio                    NaN  \nFOR: False omission rate               0.00900901  \nNone\nPara la fruta  orange  la exactitud total es del  27.027027027027028 %\nConfusion Matrix:\n\nPredicted  0   1   2   3  4  __all__\nActual                              \n0          8  15  14   8  0       45\n1          0  16  15   8  0       39\n2          0   7   4  12  0       23\n3          0   1   0   2  0        3\n4          0   0   1   0  0        1\n__all__    8  39  34  30  0      111\n\n\nOverall Statistics:\n\nAccuracy: 0.2702702702702703\n95% CI: (0.1903573729163714, 0.36283155381249765)\nNo Information Rate: ToDo\nP-Value [Acc > NIR]: 0.972560456592122\nKappa: 0.06030518394648832\nMcnemar's Test P-Value: ToDo\n\n\nClass Statistics:\n\nClasses                                       0         1         2  \\\nPopulation                                  111       111       111   \nP: Condition positive                        45        39        23   \nN: Condition negative                        66        72        88   \nTest outcome positive                         8        39        34   \nTest outcome negative                       103        72        77   \nTP: True Positive                             8        16         4   \nTN: True Negative                            66        49        58   \nFP: False Positive                            0        23        30   \nFN: False Negative                           37        23        19   \nTPR: (Sensitivity, hit rate, recall)   0.177778  0.410256  0.173913   \nTNR=SPC: (Specificity)                        1  0.680556  0.659091   \nPPV: Pos Pred Value (Precision)               1  0.410256  0.117647   \nNPV: Neg Pred Value                    0.640777  0.680556  0.753247   \nFPR: False-out                                0  0.319444  0.340909   \nFDR: False Discovery Rate                     0  0.589744  0.882353   \nFNR: Miss Rate                         0.822222  0.589744  0.826087   \nACC: Accuracy                          0.666667  0.585586  0.558559   \nF1 score                               0.301887  0.410256  0.140351   \nMCC: Matthews correlation coefficient  0.337514  0.090812 -0.146834   \nInformedness                           0.177778  0.090812 -0.166996   \nMarkedness                             0.640777  0.090812 -0.129106   \nPrevalence                             0.405405  0.351351  0.207207   \nLR+: Positive likelihood ratio              inf   1.28428  0.510145   \nLR-: Negative likelihood ratio         0.822222  0.866562   1.25337   \nDOR: Diagnostic odds ratio                  inf   1.48204  0.407018   \nFOR: False omission rate               0.359223  0.319444  0.246753   \n\nClasses                                        3           4  \nPopulation                                   111         111  \nP: Condition positive                          3           1  \nN: Condition negative                        108         110  \nTest outcome positive                         30           0  \nTest outcome negative                         81         111  \nTP: True Positive                              2           0  \nTN: True Negative                             80         110  \nFP: False Positive                            28           0  \nFN: False Negative                             1           1  \nTPR: (Sensitivity, hit rate, recall)    0.666667           0  \nTNR=SPC: (Specificity)                  0.740741           1  \nPPV: Pos Pred Value (Precision)        0.0666667         NaN  \nNPV: Neg Pred Value                     0.987654    0.990991  \nFPR: False-out                          0.259259           0  \nFDR: False Discovery Rate               0.933333         NaN  \nFNR: Miss Rate                          0.333333           1  \nACC: Accuracy                           0.738739    0.990991  \nF1 score                                0.121212           0  \nMCC: Matthews correlation coefficient   0.148764         NaN  \nInformedness                            0.407407           0  \nMarkedness                              0.054321         NaN  \nPrevalence                              0.027027  0.00900901  \nLR+: Positive likelihood ratio           2.57143         NaN  \nLR-: Negative likelihood ratio              0.45           1  \nDOR: Diagnostic odds ratio               5.71429         NaN  \nFOR: False omission rate               0.0123457  0.00900901  \nNone\n"
    }
   ],
   "source": [
    "\n",
    "for i in fruits:\n",
    "    matriz_confusion = ConfusionMatrix(data[i],data_real[i])\n",
    "    print(\"Para la fruta \", i, \" la exactitud total es del \",matriz_confusion.stats()['overall']['Accuracy']*100, \"%\")\n",
    "    print(matriz_confusion.print_stats())"
   ]
  },
  {
   "cell_type": "markdown",
   "metadata": {},
   "source": [
    "## Tratamiento de los datos para la predicción de compra"
   ]
  },
  {
   "cell_type": "code",
   "execution_count": 87,
   "metadata": {},
   "outputs": [
    {
     "output_type": "execute_result",
     "data": {
      "text/plain": "         date                 image_name  apple  pear  lemon  orange  banana  \\\n0  20/02/2020    IMG_20200518_165912.jpg      1     3      1       0       3   \n1  21/02/2020  IMG_20200518_165931_1.jpg      2     3      3       1       0   \n2  22/02/2020    IMG_20200518_165844.jpg      2     3      1       0       3   \n3  23/02/2020    IMG_20200518_165857.jpg      2     3      1       1       4   \n4  24/02/2020    IMG_20200518_165839.jpg      2     1      1       0       4   \n\n   pineapple  \n0          0  \n1          0  \n2          0  \n3          0  \n4          0  ",
      "text/html": "<div>\n<style scoped>\n    .dataframe tbody tr th:only-of-type {\n        vertical-align: middle;\n    }\n\n    .dataframe tbody tr th {\n        vertical-align: top;\n    }\n\n    .dataframe thead th {\n        text-align: right;\n    }\n</style>\n<table border=\"1\" class=\"dataframe\">\n  <thead>\n    <tr style=\"text-align: right;\">\n      <th></th>\n      <th>date</th>\n      <th>image_name</th>\n      <th>apple</th>\n      <th>pear</th>\n      <th>lemon</th>\n      <th>orange</th>\n      <th>banana</th>\n      <th>pineapple</th>\n    </tr>\n  </thead>\n  <tbody>\n    <tr>\n      <th>0</th>\n      <td>20/02/2020</td>\n      <td>IMG_20200518_165912.jpg</td>\n      <td>1</td>\n      <td>3</td>\n      <td>1</td>\n      <td>0</td>\n      <td>3</td>\n      <td>0</td>\n    </tr>\n    <tr>\n      <th>1</th>\n      <td>21/02/2020</td>\n      <td>IMG_20200518_165931_1.jpg</td>\n      <td>2</td>\n      <td>3</td>\n      <td>3</td>\n      <td>1</td>\n      <td>0</td>\n      <td>0</td>\n    </tr>\n    <tr>\n      <th>2</th>\n      <td>22/02/2020</td>\n      <td>IMG_20200518_165844.jpg</td>\n      <td>2</td>\n      <td>3</td>\n      <td>1</td>\n      <td>0</td>\n      <td>3</td>\n      <td>0</td>\n    </tr>\n    <tr>\n      <th>3</th>\n      <td>23/02/2020</td>\n      <td>IMG_20200518_165857.jpg</td>\n      <td>2</td>\n      <td>3</td>\n      <td>1</td>\n      <td>1</td>\n      <td>4</td>\n      <td>0</td>\n    </tr>\n    <tr>\n      <th>4</th>\n      <td>24/02/2020</td>\n      <td>IMG_20200518_165839.jpg</td>\n      <td>2</td>\n      <td>1</td>\n      <td>1</td>\n      <td>0</td>\n      <td>4</td>\n      <td>0</td>\n    </tr>\n  </tbody>\n</table>\n</div>"
     },
     "metadata": {},
     "execution_count": 87
    }
   ],
   "source": [
    "# Read data from file 'cantidad.csv' \n",
    "data = pd.read_csv(\"cantidad.csv\", sep=';') \n",
    "# Preview the first 5 lines of the loaded data \n",
    "data.head()"
   ]
  },
  {
   "cell_type": "markdown",
   "metadata": {},
   "source": [
    "Pasamos los datos numéricos a integer, para poder operar con ellos. "
   ]
  },
  {
   "cell_type": "code",
   "execution_count": 88,
   "metadata": {},
   "outputs": [],
   "source": [
    "for i in fruits:\n",
    "    data[i]=data[i].astype('int32')"
   ]
  },
  {
   "cell_type": "markdown",
   "metadata": {},
   "source": [
    "Generamos la tabla de consumo, calculando la diferencia entre un dia y su anterior. "
   ]
  },
  {
   "cell_type": "code",
   "execution_count": 89,
   "metadata": {},
   "outputs": [
    {
     "output_type": "execute_result",
     "data": {
      "text/plain": "         date                 image_name  apple  pear  lemon  orange  banana  \\\n0  20/02/2020    IMG_20200518_165912.jpg    NaN   NaN    NaN     NaN     NaN   \n1  21/02/2020  IMG_20200518_165931_1.jpg    1.0   0.0    2.0     1.0    -3.0   \n2  22/02/2020    IMG_20200518_165844.jpg    0.0   0.0   -2.0    -1.0     3.0   \n3  23/02/2020    IMG_20200518_165857.jpg    0.0   0.0    0.0     1.0     1.0   \n4  24/02/2020    IMG_20200518_165839.jpg    0.0  -2.0    0.0    -1.0     0.0   \n\n   pineapple  \n0        NaN  \n1        0.0  \n2        0.0  \n3        0.0  \n4        0.0  ",
      "text/html": "<div>\n<style scoped>\n    .dataframe tbody tr th:only-of-type {\n        vertical-align: middle;\n    }\n\n    .dataframe tbody tr th {\n        vertical-align: top;\n    }\n\n    .dataframe thead th {\n        text-align: right;\n    }\n</style>\n<table border=\"1\" class=\"dataframe\">\n  <thead>\n    <tr style=\"text-align: right;\">\n      <th></th>\n      <th>date</th>\n      <th>image_name</th>\n      <th>apple</th>\n      <th>pear</th>\n      <th>lemon</th>\n      <th>orange</th>\n      <th>banana</th>\n      <th>pineapple</th>\n    </tr>\n  </thead>\n  <tbody>\n    <tr>\n      <th>0</th>\n      <td>20/02/2020</td>\n      <td>IMG_20200518_165912.jpg</td>\n      <td>NaN</td>\n      <td>NaN</td>\n      <td>NaN</td>\n      <td>NaN</td>\n      <td>NaN</td>\n      <td>NaN</td>\n    </tr>\n    <tr>\n      <th>1</th>\n      <td>21/02/2020</td>\n      <td>IMG_20200518_165931_1.jpg</td>\n      <td>1.0</td>\n      <td>0.0</td>\n      <td>2.0</td>\n      <td>1.0</td>\n      <td>-3.0</td>\n      <td>0.0</td>\n    </tr>\n    <tr>\n      <th>2</th>\n      <td>22/02/2020</td>\n      <td>IMG_20200518_165844.jpg</td>\n      <td>0.0</td>\n      <td>0.0</td>\n      <td>-2.0</td>\n      <td>-1.0</td>\n      <td>3.0</td>\n      <td>0.0</td>\n    </tr>\n    <tr>\n      <th>3</th>\n      <td>23/02/2020</td>\n      <td>IMG_20200518_165857.jpg</td>\n      <td>0.0</td>\n      <td>0.0</td>\n      <td>0.0</td>\n      <td>1.0</td>\n      <td>1.0</td>\n      <td>0.0</td>\n    </tr>\n    <tr>\n      <th>4</th>\n      <td>24/02/2020</td>\n      <td>IMG_20200518_165839.jpg</td>\n      <td>0.0</td>\n      <td>-2.0</td>\n      <td>0.0</td>\n      <td>-1.0</td>\n      <td>0.0</td>\n      <td>0.0</td>\n    </tr>\n  </tbody>\n</table>\n</div>"
     },
     "metadata": {},
     "execution_count": 89
    }
   ],
   "source": [
    "data_diff=data.copy()\n",
    "for i in fruits:\n",
    "    data_diff[i]=data_diff[i].diff()\n",
    "data_diff.head()"
   ]
  },
  {
   "cell_type": "markdown",
   "metadata": {},
   "source": [
    "Generamos una tabla de compras, para crear un histórico, en la que añadiremos todos los incrementos de fruta detectados, es decir filas con valores positivos, que podrían deberse a compras realizadas."
   ]
  },
  {
   "cell_type": "code",
   "execution_count": 90,
   "metadata": {},
   "outputs": [
    {
     "output_type": "execute_result",
     "data": {
      "text/plain": "         date                 image_name  apple  pear  lemon  orange  banana  \\\n0  20/02/2020    IMG_20200518_165912.jpg    NaN   NaN    NaN     NaN     NaN   \n1  21/02/2020  IMG_20200518_165931_1.jpg    1.0   0.0    2.0     1.0     0.0   \n2  22/02/2020    IMG_20200518_165844.jpg    0.0   0.0    0.0     0.0     3.0   \n3  23/02/2020    IMG_20200518_165857.jpg    0.0   0.0    0.0     1.0     1.0   \n4  24/02/2020    IMG_20200518_165839.jpg    0.0   0.0    0.0     0.0     0.0   \n\n   pineapple  \n0        NaN  \n1        0.0  \n2        0.0  \n3        0.0  \n4        0.0  ",
      "text/html": "<div>\n<style scoped>\n    .dataframe tbody tr th:only-of-type {\n        vertical-align: middle;\n    }\n\n    .dataframe tbody tr th {\n        vertical-align: top;\n    }\n\n    .dataframe thead th {\n        text-align: right;\n    }\n</style>\n<table border=\"1\" class=\"dataframe\">\n  <thead>\n    <tr style=\"text-align: right;\">\n      <th></th>\n      <th>date</th>\n      <th>image_name</th>\n      <th>apple</th>\n      <th>pear</th>\n      <th>lemon</th>\n      <th>orange</th>\n      <th>banana</th>\n      <th>pineapple</th>\n    </tr>\n  </thead>\n  <tbody>\n    <tr>\n      <th>0</th>\n      <td>20/02/2020</td>\n      <td>IMG_20200518_165912.jpg</td>\n      <td>NaN</td>\n      <td>NaN</td>\n      <td>NaN</td>\n      <td>NaN</td>\n      <td>NaN</td>\n      <td>NaN</td>\n    </tr>\n    <tr>\n      <th>1</th>\n      <td>21/02/2020</td>\n      <td>IMG_20200518_165931_1.jpg</td>\n      <td>1.0</td>\n      <td>0.0</td>\n      <td>2.0</td>\n      <td>1.0</td>\n      <td>0.0</td>\n      <td>0.0</td>\n    </tr>\n    <tr>\n      <th>2</th>\n      <td>22/02/2020</td>\n      <td>IMG_20200518_165844.jpg</td>\n      <td>0.0</td>\n      <td>0.0</td>\n      <td>0.0</td>\n      <td>0.0</td>\n      <td>3.0</td>\n      <td>0.0</td>\n    </tr>\n    <tr>\n      <th>3</th>\n      <td>23/02/2020</td>\n      <td>IMG_20200518_165857.jpg</td>\n      <td>0.0</td>\n      <td>0.0</td>\n      <td>0.0</td>\n      <td>1.0</td>\n      <td>1.0</td>\n      <td>0.0</td>\n    </tr>\n    <tr>\n      <th>4</th>\n      <td>24/02/2020</td>\n      <td>IMG_20200518_165839.jpg</td>\n      <td>0.0</td>\n      <td>0.0</td>\n      <td>0.0</td>\n      <td>0.0</td>\n      <td>0.0</td>\n      <td>0.0</td>\n    </tr>\n  </tbody>\n</table>\n</div>"
     },
     "metadata": {},
     "execution_count": 90
    }
   ],
   "source": [
    "data_pos=data_diff.copy()\n",
    "for i in fruits:\n",
    "    data_pos.loc[data_pos[i] < 0, i] = 0\n",
    "\n",
    "data_pos.head()"
   ]
  },
  {
   "cell_type": "markdown",
   "metadata": {},
   "source": [
    "De la tabla de compras generada, eliminamos las filas en las que no se ha comprado nada, no ha habido compra. "
   ]
  },
  {
   "cell_type": "code",
   "execution_count": 91,
   "metadata": {},
   "outputs": [
    {
     "output_type": "execute_result",
     "data": {
      "text/plain": "         date                 image_name  apple  pear  lemon  orange  banana  \\\n0  20/02/2020    IMG_20200518_165912.jpg    NaN   NaN    NaN     NaN     NaN   \n1  21/02/2020  IMG_20200518_165931_1.jpg    1.0   0.0    2.0     1.0     0.0   \n2  22/02/2020    IMG_20200518_165844.jpg    0.0   0.0    0.0     0.0     3.0   \n3  23/02/2020    IMG_20200518_165857.jpg    0.0   0.0    0.0     1.0     1.0   \n5  25/02/2020    IMG_20200518_165815.jpg    0.0   0.0    1.0     0.0     0.0   \n\n   pineapple  \n0        NaN  \n1        0.0  \n2        0.0  \n3        0.0  \n5        0.0  ",
      "text/html": "<div>\n<style scoped>\n    .dataframe tbody tr th:only-of-type {\n        vertical-align: middle;\n    }\n\n    .dataframe tbody tr th {\n        vertical-align: top;\n    }\n\n    .dataframe thead th {\n        text-align: right;\n    }\n</style>\n<table border=\"1\" class=\"dataframe\">\n  <thead>\n    <tr style=\"text-align: right;\">\n      <th></th>\n      <th>date</th>\n      <th>image_name</th>\n      <th>apple</th>\n      <th>pear</th>\n      <th>lemon</th>\n      <th>orange</th>\n      <th>banana</th>\n      <th>pineapple</th>\n    </tr>\n  </thead>\n  <tbody>\n    <tr>\n      <th>0</th>\n      <td>20/02/2020</td>\n      <td>IMG_20200518_165912.jpg</td>\n      <td>NaN</td>\n      <td>NaN</td>\n      <td>NaN</td>\n      <td>NaN</td>\n      <td>NaN</td>\n      <td>NaN</td>\n    </tr>\n    <tr>\n      <th>1</th>\n      <td>21/02/2020</td>\n      <td>IMG_20200518_165931_1.jpg</td>\n      <td>1.0</td>\n      <td>0.0</td>\n      <td>2.0</td>\n      <td>1.0</td>\n      <td>0.0</td>\n      <td>0.0</td>\n    </tr>\n    <tr>\n      <th>2</th>\n      <td>22/02/2020</td>\n      <td>IMG_20200518_165844.jpg</td>\n      <td>0.0</td>\n      <td>0.0</td>\n      <td>0.0</td>\n      <td>0.0</td>\n      <td>3.0</td>\n      <td>0.0</td>\n    </tr>\n    <tr>\n      <th>3</th>\n      <td>23/02/2020</td>\n      <td>IMG_20200518_165857.jpg</td>\n      <td>0.0</td>\n      <td>0.0</td>\n      <td>0.0</td>\n      <td>1.0</td>\n      <td>1.0</td>\n      <td>0.0</td>\n    </tr>\n    <tr>\n      <th>5</th>\n      <td>25/02/2020</td>\n      <td>IMG_20200518_165815.jpg</td>\n      <td>0.0</td>\n      <td>0.0</td>\n      <td>1.0</td>\n      <td>0.0</td>\n      <td>0.0</td>\n      <td>0.0</td>\n    </tr>\n  </tbody>\n</table>\n</div>"
     },
     "metadata": {},
     "execution_count": 91
    }
   ],
   "source": [
    "rows_zeros=data_pos[(data_pos['apple']==0) & (data_pos['lemon']==0) & (data_pos['orange']==0) & (data_pos['pear']==0) & (data_pos['pineapple']==0) & (data_pos['banana']==0)].index\n",
    "\n",
    "data_pos.drop(rows_zeros , inplace=True)\n",
    "data_pos.head()"
   ]
  },
  {
   "cell_type": "markdown",
   "metadata": {},
   "source": [
    "Procedemos a restar las piezas compradas de la tabla de consumos, de esta forma solo deberiamos ver valores iguales o inferiores a 0, en caso de detectar un valor por encima de 0 implicaria un fallo, puesto que si no se ha comprado fruta no puede haber más. Se reportará como un error y se sustituirá por un 0."
   ]
  },
  {
   "cell_type": "code",
   "execution_count": 92,
   "metadata": {},
   "outputs": [
    {
     "output_type": "execute_result",
     "data": {
      "text/plain": "         date                 image_name  apple  pear  lemon  orange  banana  \\\n0  20/02/2020    IMG_20200518_165912.jpg    NaN   NaN    NaN     NaN     NaN   \n1  21/02/2020  IMG_20200518_165931_1.jpg    0.0   0.0    0.0     0.0    -3.0   \n2  22/02/2020    IMG_20200518_165844.jpg    0.0   0.0   -2.0    -1.0     0.0   \n3  23/02/2020    IMG_20200518_165857.jpg    0.0   0.0    0.0     0.0     0.0   \n4  24/02/2020    IMG_20200518_165839.jpg    NaN   NaN    NaN     NaN     NaN   \n\n   pineapple  \n0        NaN  \n1        0.0  \n2        0.0  \n3        0.0  \n4        NaN  ",
      "text/html": "<div>\n<style scoped>\n    .dataframe tbody tr th:only-of-type {\n        vertical-align: middle;\n    }\n\n    .dataframe tbody tr th {\n        vertical-align: top;\n    }\n\n    .dataframe thead th {\n        text-align: right;\n    }\n</style>\n<table border=\"1\" class=\"dataframe\">\n  <thead>\n    <tr style=\"text-align: right;\">\n      <th></th>\n      <th>date</th>\n      <th>image_name</th>\n      <th>apple</th>\n      <th>pear</th>\n      <th>lemon</th>\n      <th>orange</th>\n      <th>banana</th>\n      <th>pineapple</th>\n    </tr>\n  </thead>\n  <tbody>\n    <tr>\n      <th>0</th>\n      <td>20/02/2020</td>\n      <td>IMG_20200518_165912.jpg</td>\n      <td>NaN</td>\n      <td>NaN</td>\n      <td>NaN</td>\n      <td>NaN</td>\n      <td>NaN</td>\n      <td>NaN</td>\n    </tr>\n    <tr>\n      <th>1</th>\n      <td>21/02/2020</td>\n      <td>IMG_20200518_165931_1.jpg</td>\n      <td>0.0</td>\n      <td>0.0</td>\n      <td>0.0</td>\n      <td>0.0</td>\n      <td>-3.0</td>\n      <td>0.0</td>\n    </tr>\n    <tr>\n      <th>2</th>\n      <td>22/02/2020</td>\n      <td>IMG_20200518_165844.jpg</td>\n      <td>0.0</td>\n      <td>0.0</td>\n      <td>-2.0</td>\n      <td>-1.0</td>\n      <td>0.0</td>\n      <td>0.0</td>\n    </tr>\n    <tr>\n      <th>3</th>\n      <td>23/02/2020</td>\n      <td>IMG_20200518_165857.jpg</td>\n      <td>0.0</td>\n      <td>0.0</td>\n      <td>0.0</td>\n      <td>0.0</td>\n      <td>0.0</td>\n      <td>0.0</td>\n    </tr>\n    <tr>\n      <th>4</th>\n      <td>24/02/2020</td>\n      <td>IMG_20200518_165839.jpg</td>\n      <td>NaN</td>\n      <td>NaN</td>\n      <td>NaN</td>\n      <td>NaN</td>\n      <td>NaN</td>\n      <td>NaN</td>\n    </tr>\n  </tbody>\n</table>\n</div>"
     },
     "metadata": {},
     "execution_count": 92
    }
   ],
   "source": [
    "\n",
    "for i in fruits:\n",
    "    data_diff[i]=data_diff[i].sub(data_pos[i])\n",
    "data_diff.head()"
   ]
  },
  {
   "cell_type": "code",
   "execution_count": 93,
   "metadata": {},
   "outputs": [
    {
     "output_type": "stream",
     "name": "stdout",
     "text": "Datos validados correctamente, no hay ningún incremento de fruta que no se deba a una compra\n"
    }
   ],
   "source": [
    "tmp_df=data_diff[(data_diff['apple']>0) | (data_diff['lemon']>0) | (data_diff['orange']>0) | (data_diff['pear']>0) | (data_diff['pineapple']>0) | (data_diff['banana']>0)]\n",
    "\n",
    "if not tmp_df.empty:\n",
    "    for i in fruits:\n",
    "        #Sustituimos todos los valores que han dado error por ser superiores a 0 de la tabla de consumos\n",
    "        data_diff.loc[data_diff[i] > 0, i] = 0\n",
    "    print(\"ERROR: se ha detectado un incremento de la cantidad de fruta, \\n sin haber reportado una compra. \\n La información erronea es la siguiente: \\n\",tmp_df)\n",
    "else:\n",
    "    print(\"Datos validados correctamente, no hay ningún incremento de fruta que no se deba a una compra\")"
   ]
  },
  {
   "cell_type": "code",
   "execution_count": 94,
   "metadata": {},
   "outputs": [
    {
     "output_type": "execute_result",
     "data": {
      "text/plain": "         date                 image_name  apple  pear  lemon  orange  banana  \\\n0  20/02/2020    IMG_20200518_165912.jpg    NaN   NaN    NaN     NaN     NaN   \n1  21/02/2020  IMG_20200518_165931_1.jpg    0.0   0.0    0.0     0.0    -3.0   \n2  22/02/2020    IMG_20200518_165844.jpg    0.0   0.0   -2.0    -1.0     0.0   \n3  23/02/2020    IMG_20200518_165857.jpg    0.0   0.0    0.0     0.0     0.0   \n4  24/02/2020    IMG_20200518_165839.jpg    NaN   NaN    NaN     NaN     NaN   \n\n   pineapple  \n0        NaN  \n1        0.0  \n2        0.0  \n3        0.0  \n4        NaN  ",
      "text/html": "<div>\n<style scoped>\n    .dataframe tbody tr th:only-of-type {\n        vertical-align: middle;\n    }\n\n    .dataframe tbody tr th {\n        vertical-align: top;\n    }\n\n    .dataframe thead th {\n        text-align: right;\n    }\n</style>\n<table border=\"1\" class=\"dataframe\">\n  <thead>\n    <tr style=\"text-align: right;\">\n      <th></th>\n      <th>date</th>\n      <th>image_name</th>\n      <th>apple</th>\n      <th>pear</th>\n      <th>lemon</th>\n      <th>orange</th>\n      <th>banana</th>\n      <th>pineapple</th>\n    </tr>\n  </thead>\n  <tbody>\n    <tr>\n      <th>0</th>\n      <td>20/02/2020</td>\n      <td>IMG_20200518_165912.jpg</td>\n      <td>NaN</td>\n      <td>NaN</td>\n      <td>NaN</td>\n      <td>NaN</td>\n      <td>NaN</td>\n      <td>NaN</td>\n    </tr>\n    <tr>\n      <th>1</th>\n      <td>21/02/2020</td>\n      <td>IMG_20200518_165931_1.jpg</td>\n      <td>0.0</td>\n      <td>0.0</td>\n      <td>0.0</td>\n      <td>0.0</td>\n      <td>-3.0</td>\n      <td>0.0</td>\n    </tr>\n    <tr>\n      <th>2</th>\n      <td>22/02/2020</td>\n      <td>IMG_20200518_165844.jpg</td>\n      <td>0.0</td>\n      <td>0.0</td>\n      <td>-2.0</td>\n      <td>-1.0</td>\n      <td>0.0</td>\n      <td>0.0</td>\n    </tr>\n    <tr>\n      <th>3</th>\n      <td>23/02/2020</td>\n      <td>IMG_20200518_165857.jpg</td>\n      <td>0.0</td>\n      <td>0.0</td>\n      <td>0.0</td>\n      <td>0.0</td>\n      <td>0.0</td>\n      <td>0.0</td>\n    </tr>\n    <tr>\n      <th>4</th>\n      <td>24/02/2020</td>\n      <td>IMG_20200518_165839.jpg</td>\n      <td>NaN</td>\n      <td>NaN</td>\n      <td>NaN</td>\n      <td>NaN</td>\n      <td>NaN</td>\n      <td>NaN</td>\n    </tr>\n  </tbody>\n</table>\n</div>"
     },
     "metadata": {},
     "execution_count": 94
    }
   ],
   "source": [
    "data_diff.head()"
   ]
  },
  {
   "cell_type": "code",
   "execution_count": 95,
   "metadata": {},
   "outputs": [
    {
     "output_type": "execute_result",
     "data": {
      "text/plain": "         date                 image_name  apple  pear  lemon  orange  banana  \\\n0  20/02/2020    IMG_20200518_165912.jpg    NaN   NaN    NaN     NaN     NaN   \n1  21/02/2020  IMG_20200518_165931_1.jpg    1.0   0.0    2.0     1.0     0.0   \n2  22/02/2020    IMG_20200518_165844.jpg    0.0   0.0    0.0     0.0     3.0   \n3  23/02/2020    IMG_20200518_165857.jpg    0.0   0.0    0.0     1.0     1.0   \n5  25/02/2020    IMG_20200518_165815.jpg    0.0   0.0    1.0     0.0     0.0   \n\n   pineapple  \n0        NaN  \n1        0.0  \n2        0.0  \n3        0.0  \n5        0.0  ",
      "text/html": "<div>\n<style scoped>\n    .dataframe tbody tr th:only-of-type {\n        vertical-align: middle;\n    }\n\n    .dataframe tbody tr th {\n        vertical-align: top;\n    }\n\n    .dataframe thead th {\n        text-align: right;\n    }\n</style>\n<table border=\"1\" class=\"dataframe\">\n  <thead>\n    <tr style=\"text-align: right;\">\n      <th></th>\n      <th>date</th>\n      <th>image_name</th>\n      <th>apple</th>\n      <th>pear</th>\n      <th>lemon</th>\n      <th>orange</th>\n      <th>banana</th>\n      <th>pineapple</th>\n    </tr>\n  </thead>\n  <tbody>\n    <tr>\n      <th>0</th>\n      <td>20/02/2020</td>\n      <td>IMG_20200518_165912.jpg</td>\n      <td>NaN</td>\n      <td>NaN</td>\n      <td>NaN</td>\n      <td>NaN</td>\n      <td>NaN</td>\n      <td>NaN</td>\n    </tr>\n    <tr>\n      <th>1</th>\n      <td>21/02/2020</td>\n      <td>IMG_20200518_165931_1.jpg</td>\n      <td>1.0</td>\n      <td>0.0</td>\n      <td>2.0</td>\n      <td>1.0</td>\n      <td>0.0</td>\n      <td>0.0</td>\n    </tr>\n    <tr>\n      <th>2</th>\n      <td>22/02/2020</td>\n      <td>IMG_20200518_165844.jpg</td>\n      <td>0.0</td>\n      <td>0.0</td>\n      <td>0.0</td>\n      <td>0.0</td>\n      <td>3.0</td>\n      <td>0.0</td>\n    </tr>\n    <tr>\n      <th>3</th>\n      <td>23/02/2020</td>\n      <td>IMG_20200518_165857.jpg</td>\n      <td>0.0</td>\n      <td>0.0</td>\n      <td>0.0</td>\n      <td>1.0</td>\n      <td>1.0</td>\n      <td>0.0</td>\n    </tr>\n    <tr>\n      <th>5</th>\n      <td>25/02/2020</td>\n      <td>IMG_20200518_165815.jpg</td>\n      <td>0.0</td>\n      <td>0.0</td>\n      <td>1.0</td>\n      <td>0.0</td>\n      <td>0.0</td>\n      <td>0.0</td>\n    </tr>\n  </tbody>\n</table>\n</div>"
     },
     "metadata": {},
     "execution_count": 95
    }
   ],
   "source": [
    "\n",
    "data_pos.head()"
   ]
  },
  {
   "cell_type": "code",
   "execution_count": 96,
   "metadata": {},
   "outputs": [
    {
     "output_type": "execute_result",
     "data": {
      "text/plain": "         date                 image_name  apple  pear  lemon  orange  banana  \\\n0  20/02/2020    IMG_20200518_165912.jpg      1     3      1       0       3   \n1  21/02/2020  IMG_20200518_165931_1.jpg      2     3      3       1       0   \n2  22/02/2020    IMG_20200518_165844.jpg      2     3      1       0       3   \n3  23/02/2020    IMG_20200518_165857.jpg      2     3      1       1       4   \n4  24/02/2020    IMG_20200518_165839.jpg      2     1      1       0       4   \n\n   pineapple  \n0          0  \n1          0  \n2          0  \n3          0  \n4          0  ",
      "text/html": "<div>\n<style scoped>\n    .dataframe tbody tr th:only-of-type {\n        vertical-align: middle;\n    }\n\n    .dataframe tbody tr th {\n        vertical-align: top;\n    }\n\n    .dataframe thead th {\n        text-align: right;\n    }\n</style>\n<table border=\"1\" class=\"dataframe\">\n  <thead>\n    <tr style=\"text-align: right;\">\n      <th></th>\n      <th>date</th>\n      <th>image_name</th>\n      <th>apple</th>\n      <th>pear</th>\n      <th>lemon</th>\n      <th>orange</th>\n      <th>banana</th>\n      <th>pineapple</th>\n    </tr>\n  </thead>\n  <tbody>\n    <tr>\n      <th>0</th>\n      <td>20/02/2020</td>\n      <td>IMG_20200518_165912.jpg</td>\n      <td>1</td>\n      <td>3</td>\n      <td>1</td>\n      <td>0</td>\n      <td>3</td>\n      <td>0</td>\n    </tr>\n    <tr>\n      <th>1</th>\n      <td>21/02/2020</td>\n      <td>IMG_20200518_165931_1.jpg</td>\n      <td>2</td>\n      <td>3</td>\n      <td>3</td>\n      <td>1</td>\n      <td>0</td>\n      <td>0</td>\n    </tr>\n    <tr>\n      <th>2</th>\n      <td>22/02/2020</td>\n      <td>IMG_20200518_165844.jpg</td>\n      <td>2</td>\n      <td>3</td>\n      <td>1</td>\n      <td>0</td>\n      <td>3</td>\n      <td>0</td>\n    </tr>\n    <tr>\n      <th>3</th>\n      <td>23/02/2020</td>\n      <td>IMG_20200518_165857.jpg</td>\n      <td>2</td>\n      <td>3</td>\n      <td>1</td>\n      <td>1</td>\n      <td>4</td>\n      <td>0</td>\n    </tr>\n    <tr>\n      <th>4</th>\n      <td>24/02/2020</td>\n      <td>IMG_20200518_165839.jpg</td>\n      <td>2</td>\n      <td>1</td>\n      <td>1</td>\n      <td>0</td>\n      <td>4</td>\n      <td>0</td>\n    </tr>\n  </tbody>\n</table>\n</div>"
     },
     "metadata": {},
     "execution_count": 96
    }
   ],
   "source": [
    "\n",
    "data.head()"
   ]
  },
  {
   "cell_type": "markdown",
   "metadata": {},
   "source": [
    "## Generamos métricas para la predicción de compra\n",
    "Calculamos la cantidad de fruta que se compra al día de manera más frecuente, en base al histórico de compras."
   ]
  },
  {
   "cell_type": "code",
   "execution_count": 120,
   "metadata": {
    "tags": [
     "outputPrepend"
    ]
   },
   "outputs": [
    {
     "output_type": "stream",
     "name": "stdout",
     "text": "La clase de fruta apple tiene como cantidad de fruta comprada mas frecuentemente:  1.0  con el numero de occurencias =  16  y la cantidad total comprada =  18\nLa clase de fruta pear tiene como cantidad de fruta comprada mas frecuentemente:  1.0  con el numero de occurencias =  18  y la cantidad total comprada =  21\nLa clase de fruta lemon tiene como cantidad de fruta comprada mas frecuentemente:  1.0  con el numero de occurencias =  23  y la cantidad total comprada =  26\nLa clase de fruta banana tiene como cantidad de fruta comprada mas frecuentemente:  1.0  con el numero de occurencias =  16  y la cantidad total comprada =  24\nLa clase de fruta pineapple tiene como cantidad de fruta comprada mas frecuentemente:  1.0  con el numero de occurencias =  9  y la cantidad total comprada =  11\nLa clase de fruta orange tiene como cantidad de fruta comprada mas frecuentemente:  1.0  con el numero de occurencias =  20  y la cantidad total comprada =  24\n"
    }
   ],
   "source": [
    "number_rows=data_pos.shape[0]\n",
    "cantidad_fruta={}\n",
    "for i in fruits:\n",
    "    s=data_pos[i].value_counts().sort_values(ascending=False)\n",
    "    \n",
    "    #print(data_pos[i].value_counts().sort_values(ascending=False))\n",
    "    j=s.index[s.index>0].values\n",
    "    number_of_fruit_bought=0\n",
    "    for elem in range(0, len(j)):\n",
    "        number_of_fruit_bought+=s[j[elem]]\n",
    "    #print(s)\n",
    "    print(\"La clase de fruta \"+i+\" tiene como cantidad de fruta comprada mas frecuentemente: \", j[0], \" con el numero de occurencias = \",s[j[0]], \" y la cantidad total comprada = \", number_of_fruit_bought)\n",
    "    cantidad_fruta[i]=j[0]"
   ]
  },
  {
   "cell_type": "markdown",
   "metadata": {},
   "source": [
    "Calculamos el consumo medio diario por tipo de fruta y el consumo diario medio de fruta."
   ]
  },
  {
   "cell_type": "code",
   "execution_count": 121,
   "metadata": {},
   "outputs": [],
   "source": [
    "data_diff[\"fruta\"] = data_diff[fruits].sum(axis=1)"
   ]
  },
  {
   "cell_type": "code",
   "execution_count": 122,
   "metadata": {},
   "outputs": [
    {
     "output_type": "stream",
     "name": "stdout",
     "text": "La media de  apple  consumida por dia es:  1\nLa media de  pear  consumida por dia es:  1\nLa media de  lemon  consumida por dia es:  1\nLa media de  orange  consumida por dia es:  1\nLa media de  banana  consumida por dia es:  1\nLa media de  pineapple  consumida por dia es:  1\nLa media de  fruta  consumida por dia es:  1\n"
    }
   ],
   "source": [
    "\n",
    "import math\n",
    "media_consumo_fruta={}\n",
    "s=data_diff.mean()\n",
    "#print(data_diff.mean())\n",
    "for i,j in zip(data_diff._get_numeric_data().columns,range(0,len(s))):\n",
    "    if(i!=\"date\"):\n",
    "        print(\"La media de \", i, \" consumida por dia es: \",math.ceil(abs(s[j])))\n",
    "        media_consumo_fruta[i]=math.ceil(abs(s[j]))"
   ]
  },
  {
   "cell_type": "markdown",
   "metadata": {},
   "source": [
    "Calculamos la cantidad de piezas de fruta, por tipo, que hay en la nevera diariamente."
   ]
  },
  {
   "cell_type": "code",
   "execution_count": 123,
   "metadata": {},
   "outputs": [
    {
     "output_type": "stream",
     "name": "stdout",
     "text": "La media de  apple  por dia en la nevera:  2\nLa media de  pear  por dia en la nevera:  1\nLa media de  lemon  por dia en la nevera:  2\nLa media de  orange  por dia en la nevera:  1\nLa media de  banana  por dia en la nevera:  2\nLa media de  pineapple  por dia en la nevera:  1\nLa media de  fruta  por dia en la nevera:  7\n"
    }
   ],
   "source": [
    "data[\"fruta\"] = data[fruits].sum(axis=1)\n",
    "s=data.mean()\n",
    "media_cantidad_fruta={}\n",
    "#print(data_diff.mean())\n",
    "for i,j in zip(data._get_numeric_data().columns,range(0,len(s))):\n",
    "    if(i!=\"date\"):\n",
    "        print(\"La media de \", i, \" por dia en la nevera: \",math.ceil(abs(s[j])))\n",
    "        media_cantidad_fruta[i]=math.ceil(abs(s[j]))"
   ]
  },
  {
   "cell_type": "markdown",
   "metadata": {},
   "source": [
    "Calculamos la media de dias que pasan entre compra y compra."
   ]
  },
  {
   "cell_type": "code",
   "execution_count": 124,
   "metadata": {},
   "outputs": [
    {
     "output_type": "stream",
     "name": "stdout",
     "text": "La media de dias que pasan entre una compra y la siguiente es:  2 days 00:34:41.927710\n"
    }
   ],
   "source": [
    "import datetime\n",
    "\n",
    "dates=pd.to_datetime(data_pos['date'])\n",
    "diff_dates=dates.diff()\n",
    "\n",
    "dates.head()\n",
    "dias_mean=diff_dates.mean()\n",
    "print(\"La media de dias que pasan entre una compra y la siguiente es: \", diff_dates.mean())\n",
    "\n"
   ]
  },
  {
   "cell_type": "markdown",
   "metadata": {},
   "source": [
    "## Predicción de qué se debe comprar\n",
    "Calculamos la cantidad de fruta que se debe comprar, dada la cantidad de fruta que se observa en la nevera, la que suele haber, la que se suele consumir y cada cuanto se suele ir a comprar."
   ]
  },
  {
   "cell_type": "code",
   "execution_count": 181,
   "metadata": {},
   "outputs": [
    {
     "output_type": "stream",
     "name": "stdout",
     "text": "Teniendo en cuenta que se compra cada  2   dias y que por tanto si el consumo diario es de  1 , consumiré  2 apple\nQue actualmente hay  0 apple  en la nevera.\nQue lo habitual es tener en la nevera  2 apple\nDebo comprar:  2\nTeniendo en cuenta que se compra cada  2   dias y que por tanto si el consumo diario es de  1 , consumiré  2 pear\nQue actualmente hay  3 pear  en la nevera.\nQue lo habitual es tener en la nevera  1 pear\nDebo comprar:  0\nTeniendo en cuenta que se compra cada  2   dias y que por tanto si el consumo diario es de  1 , consumiré  2 lemon\nQue actualmente hay  2 lemon  en la nevera.\nQue lo habitual es tener en la nevera  2 lemon\nDebo comprar:  0\nTeniendo en cuenta que se compra cada  2   dias y que por tanto si el consumo diario es de  1 , consumiré  2 banana\nQue actualmente hay  1 banana  en la nevera.\nQue lo habitual es tener en la nevera  2 banana\nDebo comprar:  1\nTeniendo en cuenta que se compra cada  2   dias y que por tanto si el consumo diario es de  2 , consumiré  4 pineapple\nQue actualmente hay  2 pineapple  en la nevera.\nQue lo habitual es tener en la nevera  1 pineapple\nDebo comprar2:  3\nTeniendo en cuenta que se compra cada  2   dias y que por tanto si el consumo diario es de  1 , consumiré  2 orange\nQue actualmente hay  0 orange  en la nevera.\nQue lo habitual es tener en la nevera  1 orange\nDebo comprar:  2\n\n\n##################################\n\nEn la nevera hay: \n{'apple': 0, 'pear': 3, 'lemon': 2, 'banana': 1, 'pineapple': 2, 'orange': 0}\n\n##################################\n\n\n##################################\n\nLa lista de la compra final es: \n{'apple': 2, 'pear': 0, 'lemon': 0, 'banana': 1, 'pineapple': 3, 'orange': 2}\n\n##################################\n"
    }
   ],
   "source": [
    "valor_actual_nevera=[0,3,2,1,2,0]\n",
    "final_dict_nevera={}\n",
    "for i,j in zip(fruits, valor_actual_nevera):\n",
    "    final_dict_nevera[i]=j\n",
    "import re\n",
    "final_dict={}\n",
    "for i,j in zip(fruits, valor_actual_nevera):\n",
    "    tardo_en_comprar=re.sub(\"days.*\",'',str(dias_mean))\n",
    "    cantidad_fruta=int(tardo_en_comprar)*media_consumo_fruta[i]\n",
    "    print(\"Teniendo en cuenta que se compra cada \", tardo_en_comprar, \" dias y que por tanto si el consumo diario es de \",media_consumo_fruta[i], \", consumiré \", cantidad_fruta, i)\n",
    "    print(\"Que actualmente hay \", j, i, \" en la nevera.\")\n",
    "    print(\"Que lo habitual es tener en la nevera \", media_cantidad_fruta[i], i )\n",
    "    res=media_cantidad_fruta[i]-j\n",
    "    if res > 0: \n",
    "        print(\"Debo comprar: \", max(res, cantidad_fruta-j))\n",
    "        final_dict[i]=max(res, cantidad_fruta-j)\n",
    "    else:\n",
    "        if(cantidad_fruta-j<=0):\n",
    "                print(\"Debo comprar: \", 0)\n",
    "                final_dict[i]=0\n",
    "        else:\n",
    "            final=cantidad_fruta+res\n",
    "            print(\"Debo comprar2: \", final)\n",
    "            final_dict[i]=final\n",
    "    \n",
    "\n",
    "print(\"\\n\\n##################################\")\n",
    "print(\"\\nEn la nevera hay: \")\n",
    "print(final_dict_nevera)\n",
    "print(\"\\n##################################\")\n",
    "\n",
    "\n",
    "print(\"\\n\\n##################################\")\n",
    "print(\"\\nLa lista de la compra final es: \")\n",
    "print(final_dict)\n",
    "print(\"\\n##################################\")\n",
    "\n",
    "\n"
   ]
  },
  {
   "cell_type": "code",
   "execution_count": null,
   "metadata": {},
   "outputs": [],
   "source": []
  },
  {
   "cell_type": "markdown",
   "metadata": {},
   "source": []
  }
 ],
 "metadata": {
  "language_info": {
   "codemirror_mode": {
    "name": "ipython",
    "version": 3
   },
   "file_extension": ".py",
   "mimetype": "text/x-python",
   "name": "python",
   "nbconvert_exporter": "python",
   "pygments_lexer": "ipython3",
   "version": "3.6.0-final"
  },
  "orig_nbformat": 2,
  "kernelspec": {
   "name": "python36064bit6c9a6ce48de74fd2930b22545c4afa16",
   "display_name": "Python 3.6.0 64-bit"
  }
 },
 "nbformat": 4,
 "nbformat_minor": 2
}